{
 "cells": [
  {
   "cell_type": "markdown",
   "metadata": {},
   "source": [
    "## Data Wrangling"
   ]
  },
  {
   "cell_type": "markdown",
   "metadata": {},
   "source": [
    "##### Import dependencies"
   ]
  },
  {
   "cell_type": "code",
   "execution_count": null,
   "metadata": {},
   "outputs": [],
   "source": [
    "import pandas as pd\n",
    "import numpy as np\n",
    "import matplotlib.pyplot as plt\n",
    "import seaborn as sns\n",
    "%matplotlib inline"
   ]
  },
  {
   "cell_type": "code",
   "execution_count": null,
   "metadata": {},
   "outputs": [],
   "source": [
    "# Import seaborn library and ignore warning \n",
    "sns.set_theme()\n",
    "import warnings\n",
    "warnings.filterwarnings('ignore')"
   ]
  },
  {
   "cell_type": "markdown",
   "metadata": {},
   "source": [
    "##### Import datasets"
   ]
  },
  {
   "cell_type": "code",
   "execution_count": null,
   "metadata": {},
   "outputs": [],
   "source": [
    "pop_df = pd.read_csv(\"Data/population_total.csv\")\n",
    "inet_df = pd.read_csv(\"Data/net_users_num.csv\")\n",
    "cell_df = pd.read_csv(\"Data/cell_phones_total.csv\")\n",
    "suic_df = pd.read_csv(\"Data/suicide_total_deaths.csv\")\n",
    "#gini_df = pd.read_csv(\"Data/inequality_index_gini.csv\")\n",
    "gdp_df = pd.read_csv(\"Data/gdppercapita.csv\")"
   ]
  },
  {
   "cell_type": "markdown",
   "metadata": {},
   "source": [
    "##### Check imported datasets"
   ]
  },
  {
   "cell_type": "code",
   "execution_count": null,
   "metadata": {},
   "outputs": [],
   "source": [
    "pop_df.head(3)\n",
    "gdp_df.head(3)\n",
    "inet_df.head(3)\n",
    "cell_df.head(3)\n",
    "gdp_df.head(3)"
   ]
  },
  {
   "cell_type": "markdown",
   "metadata": {},
   "source": [
    "*Suicide dataset contains data from 1990 to 2016; therefore I decided to perform data analysis for the years between 1990 to 2016 (included). I kept these columns using iloc method with numpy.*"
   ]
  },
  {
   "cell_type": "markdown",
   "metadata": {},
   "source": [
    "##### Filtering dataset using iloc and numpy"
   ]
  },
  {
   "cell_type": "code",
   "execution_count": null,
   "metadata": {},
   "outputs": [],
   "source": [
    "# Keep only the columns 1990 - 2016 - try to do this in the function or for loop!\n",
    "# suicide dataset already sliced (1990 - 2016)\n",
    "# QUESTION - is there better way of doing this \n",
    "pop_df = pop_df.iloc[:, np.r_[:1, 191:218]]\n",
    "inet_df = inet_df.iloc[:, :28]\n",
    "cell_df = cell_df.iloc[:, np.r_[:1, 31:58]]\n",
    "#gini_df = gini_df.iloc[:, np.r_[:1, 24:51]]\n",
    "gdp_df = gdp_df.iloc[:, np.r_[:1, 191:218]]"
   ]
  },
  {
   "cell_type": "markdown",
   "metadata": {},
   "source": [
    "##### Handling null values"
   ]
  },
  {
   "cell_type": "code",
   "execution_count": null,
   "metadata": {},
   "outputs": [],
   "source": [
    "# Check null values for internet and cell usage\n",
    "#suic_df.isnull().sum()\n",
    "#pop_df.isnull().sum()\n",
    "#gdp_df.isnull().sum()\n",
    "#cell_df.isnull().sum()\n",
    "inet_df.isnull().sum()"
   ]
  },
  {
   "cell_type": "markdown",
   "metadata": {},
   "source": [
    "*Only internet and cell datasets have null values. After examining these datasets I noticed a positive trend for all countries; therefore I decided to use `ffill` method (fill forward) instead of filling with mean or 0. I believe a better way to fill null values would be average values between empty cells. Any suggestions?*"
   ]
  },
  {
   "cell_type": "code",
   "execution_count": null,
   "metadata": {},
   "outputs": [],
   "source": [
    "# fill first colum [1990] with null if empty \n",
    "# (I use this to fill the first column with 0. When usind ffill to populate 0 instesd of country name.)\n",
    "inet_df['1990'].fillna(0, inplace=True)\n",
    "cell_df['1990'].fillna(0, inplace=True)"
   ]
  },
  {
   "cell_type": "code",
   "execution_count": null,
   "metadata": {},
   "outputs": [],
   "source": [
    "# fill null values for internet and cell phone\n",
    "inet_df = inet_df.fillna(method='ffill', axis=1)\n",
    "cell_df = cell_df.fillna(method='ffill', axis=1)"
   ]
  },
  {
   "cell_type": "markdown",
   "metadata": {},
   "source": [
    "##### Unpivot dataframes"
   ]
  },
  {
   "cell_type": "code",
   "execution_count": null,
   "metadata": {},
   "outputs": [],
   "source": [
    "pop_df = pop_df.melt(id_vars = 'country', var_name = 'year', value_name = 'population_total', ignore_index=True)\n",
    "inet_df = inet_df.melt(id_vars = 'country', var_name = 'year', value_name = 'internet_use', ignore_index=True)\n",
    "cell_df = cell_df.melt(id_vars = 'country', var_name = 'year', value_name = 'cell_use', ignore_index=True)\n",
    "suic_df = suic_df.melt(id_vars = 'country', var_name = 'year', value_name = 'suicide_total', ignore_index=True)\n",
    "#gini_df = gini_df.melt(id_vars = 'country', var_name = 'year', value_name = 'gini_index', ignore_index=True)\n",
    "gdp_df = gdp_df.melt(id_vars = 'country', var_name = 'year', value_name = 'GDP', ignore_index=True)"
   ]
  },
  {
   "cell_type": "markdown",
   "metadata": {},
   "source": [
    "*In order to compare different indicators I reshaped data with `melt` method.*"
   ]
  },
  {
   "cell_type": "markdown",
   "metadata": {},
   "source": [
    "##### Merge datasets"
   ]
  },
  {
   "cell_type": "code",
   "execution_count": null,
   "metadata": {},
   "outputs": [],
   "source": [
    "# Merge datasets two by two - please see comments below\n",
    "merged01 = pd.merge(pop_df, inet_df, how=\"inner\", on=[\"country\", \"year\"])\n",
    "merged02 = pd.merge(suic_df, gdp_df, how=\"inner\", on=[\"country\", \"year\"])\n",
    "merged03_df = pd.merge(merged01, merged02, how=\"inner\", on=[\"country\", \"year\"])\n",
    "merged_df = pd.merge(merged03_df, cell_df, how=\"inner\", on=[\"country\", \"year\"])"
   ]
  },
  {
   "cell_type": "code",
   "execution_count": null,
   "metadata": {},
   "outputs": [],
   "source": [
    "# Check merged dataset\n",
    "merged_df.head(3)"
   ]
  },
  {
   "cell_type": "markdown",
   "metadata": {},
   "source": [
    "***QUESTIONS***\n",
    "*Is there a better way of merging multiple datasets in one step*\n",
    "*what is the best way to double-check if the merge was successful? I checked data in a spreadsheet but didn’t find this method to be found convenient, especially when working with a large dataset, the xlxs or csv file won’t load or will crash*\n"
   ]
  },
  {
   "cell_type": "code",
   "execution_count": null,
   "metadata": {},
   "outputs": [],
   "source": [
    "# Export dataset for investigation - not sure if this method is good. Please see the comment above.\n",
    "#merged_df.to_csv('Data/merged.csv', index=False)"
   ]
  },
  {
   "cell_type": "markdown",
   "metadata": {},
   "source": [
    "##### Checking dataset (shape, null values, datatypes and duplicates) after merging"
   ]
  },
  {
   "cell_type": "code",
   "execution_count": null,
   "metadata": {},
   "outputs": [],
   "source": [
    "# Shape\n",
    "merged_df.shape"
   ]
  },
  {
   "cell_type": "code",
   "execution_count": null,
   "metadata": {},
   "outputs": [],
   "source": [
    "# Duplicate rows\n",
    "merged_df.duplicated().sum()"
   ]
  },
  {
   "cell_type": "code",
   "execution_count": null,
   "metadata": {},
   "outputs": [],
   "source": [
    "# Missing values - decide what to do with null values\n",
    "merged_df.isnull().sum()"
   ]
  },
  {
   "cell_type": "code",
   "execution_count": null,
   "metadata": {},
   "outputs": [],
   "source": [
    "# Check individual datatypes - convert year to int\n",
    "merged_df.dtypes"
   ]
  },
  {
   "cell_type": "markdown",
   "metadata": {},
   "source": [
    "#### Changing datatypes"
   ]
  },
  {
   "cell_type": "code",
   "execution_count": null,
   "metadata": {},
   "outputs": [],
   "source": [
    "# Change data types for internet use - scientific \n",
    "merged_df['internet_use'] = merged_df['internet_use'].astype(float)\n",
    "merged_df['year'] = merged_df['year'].astype(int)\n",
    "merged_df['cell_use'] = merged_df['cell_use'].astype(int)"
   ]
  },
  {
   "cell_type": "code",
   "execution_count": null,
   "metadata": {},
   "outputs": [],
   "source": [
    "# Round suicide & change to integer (suicide was in float)\n",
    "merged_df['suicide_total'] = merged_df.suicide_total.round()\n",
    "merged_df['suicide_total'] = merged_df['suicide_total'].astype(int)"
   ]
  },
  {
   "cell_type": "code",
   "execution_count": null,
   "metadata": {},
   "outputs": [],
   "source": [
    "# Check datatypes\n",
    "merged_df.dtypes"
   ]
  },
  {
   "cell_type": "markdown",
   "metadata": {},
   "source": [
    "#### Feature engeenering "
   ]
  },
  {
   "cell_type": "code",
   "execution_count": null,
   "metadata": {},
   "outputs": [],
   "source": [
    "# Calculate proportions of internet users, cell users, and the number of suicides % per country and year.\n",
    "merged_df['internet_use_%'] = merged_df.internet_use/merged_df.population_total*100\n",
    "merged_df['cell_use_%'] = merged_df.cell_use/merged_df.population_total*100\n",
    "merged_df['suicide_total_%'] = merged_df.suicide_total/merged_df.population_total*100"
   ]
  },
  {
   "cell_type": "code",
   "execution_count": null,
   "metadata": {},
   "outputs": [],
   "source": [
    "# Calculate proportions per capita (per 100,000 people) for internet users, cell users, and the number of suicides.\n",
    "merged_df['internet_use_pc'] = merged_df.internet_use/merged_df.population_total*100000\n",
    "merged_df['cell_use_pc'] = merged_df.cell_use/merged_df.population_total*100000\n",
    "merged_df['suicide_total_pc'] = merged_df.suicide_total/merged_df.population_total*100000"
   ]
  },
  {
   "cell_type": "code",
   "execution_count": null,
   "metadata": {},
   "outputs": [],
   "source": [
    "# Check newly created columns in whole dataframe.\n",
    "merged_df.head(5)"
   ]
  },
  {
   "cell_type": "markdown",
   "metadata": {},
   "source": [
    "*For a better comparison between countries, I create new columns % of total proportions per capita (per 100,000 people).*"
   ]
  },
  {
   "cell_type": "markdown",
   "metadata": {},
   "source": [
    "## EDA"
   ]
  },
  {
   "cell_type": "markdown",
   "metadata": {},
   "source": [
    "*In this analysis I will use columns per capita (per 100,000 people); therefore I used `iloc` method to keep only columns created in feature engineering*"
   ]
  },
  {
   "cell_type": "code",
   "execution_count": null,
   "metadata": {},
   "outputs": [],
   "source": [
    "# Create df with columns per capita only\n",
    "pc_df = merged_df.iloc[:, np.r_[:2, 5:6, 10:13]]\n",
    "pc_df.head(3)"
   ]
  },
  {
   "cell_type": "markdown",
   "metadata": {},
   "source": [
    "# From 1990 - 2016"
   ]
  },
  {
   "cell_type": "markdown",
   "metadata": {},
   "source": [
    "## For all countries"
   ]
  },
  {
   "cell_type": "markdown",
   "metadata": {},
   "source": [
    "#### FEW INVESTIGATING QUESTIONS"
   ]
  },
  {
   "cell_type": "code",
   "execution_count": null,
   "metadata": {},
   "outputs": [],
   "source": [
    "# Country and year with most suicides per capita - used idxmax to find the row where this information is:\n",
    "most_suicides_pc = pc_df.suicide_total_pc.idxmax(axis=1)\n",
    "most_suicides_pc"
   ]
  },
  {
   "cell_type": "code",
   "execution_count": null,
   "metadata": {},
   "outputs": [],
   "source": [
    "# Used iloc method to display data whit index found in the previous cell.\n",
    "most_suicides_pc = pc_df.iloc[886,:]\n",
    "most_suicides_pc"
   ]
  },
  {
   "cell_type": "code",
   "execution_count": null,
   "metadata": {},
   "outputs": [],
   "source": [
    "# Find a country and year with most suicides per capita - this is another way to get the same answer as cells above.\n",
    "most_suicides_pc1 = pc_df.groupby(['country','year']).mean()['suicide_total_pc'].idxmax(axis=1)\n",
    "most_suicides_pc1"
   ]
  },
  {
   "cell_type": "code",
   "execution_count": null,
   "metadata": {},
   "outputs": [],
   "source": [
    "# Year with most suicides per capita.\n",
    "worst_year = pc_df.groupby(['year']).mean()['suicide_total_pc'].idxmax(axis=1)\n",
    "worst_year"
   ]
  },
  {
   "cell_type": "code",
   "execution_count": null,
   "metadata": {},
   "outputs": [],
   "source": [
    "# Country and year with least suicides per capita.\n",
    "least_year = pc_df.groupby(['country','year']).mean()['suicide_total_pc'].idxmin(axis=1)\n",
    "least_year"
   ]
  },
  {
   "cell_type": "code",
   "execution_count": null,
   "metadata": {},
   "outputs": [],
   "source": [
    "# Year with least suicides per capita.\n",
    "least_year = pc_df.groupby(['year']).mean()['suicide_total_pc'].idxmin(axis=1)\n",
    "least_year"
   ]
  },
  {
   "cell_type": "markdown",
   "metadata": {},
   "source": [
    "#### HISTOGRAM"
   ]
  },
  {
   "cell_type": "code",
   "execution_count": null,
   "metadata": {},
   "outputs": [],
   "source": [
    "# Summary statistics\n",
    "#main_df.describe()"
   ]
  },
  {
   "cell_type": "code",
   "execution_count": null,
   "metadata": {},
   "outputs": [],
   "source": [
    "# Plotting histograms \n",
    "pc_df.hist(figsize=(10,8), color='#1f77b4');"
   ]
  },
  {
   "cell_type": "markdown",
   "metadata": {},
   "source": [
    "*Explain the histograms* "
   ]
  },
  {
   "cell_type": "markdown",
   "metadata": {},
   "source": [
    "#### CORRELATION"
   ]
  },
  {
   "cell_type": "code",
   "execution_count": null,
   "metadata": {},
   "outputs": [],
   "source": [
    "# Plotting correlation coeficient heat map.\n",
    "pearsoncorr = pc_df.corr(method='pearson')\n",
    "pearsoncorr\n",
    "sns.heatmap(pearsoncorr, \n",
    "            xticklabels=pearsoncorr.columns,\n",
    "            yticklabels=pearsoncorr.columns,\n",
    "            cmap='RdBu_r',\n",
    "            annot=True,\n",
    "            linewidth=0.5);"
   ]
  },
  {
   "cell_type": "code",
   "execution_count": null,
   "metadata": {},
   "outputs": [],
   "source": [
    "# scatter plot matrix\n",
    "pd.plotting.scatter_matrix(pc_df, figsize=(15,8));"
   ]
  },
  {
   "cell_type": "markdown",
   "metadata": {},
   "source": [
    "*Explain the matrix*"
   ]
  },
  {
   "cell_type": "code",
   "execution_count": null,
   "metadata": {},
   "outputs": [],
   "source": [
    "# Scatter plot between GDP and suicide\n",
    "pc_df.plot(x='GDP', y='suicide_total_pc', kind='scatter', c='#1f77b4');"
   ]
  },
  {
   "cell_type": "markdown",
   "metadata": {},
   "source": [
    "#### OUTLIERS"
   ]
  },
  {
   "cell_type": "code",
   "execution_count": null,
   "metadata": {},
   "outputs": [],
   "source": [
    "pc_df.suicide_total_pc.plot(kind='box')"
   ]
  },
  {
   "cell_type": "code",
   "execution_count": null,
   "metadata": {},
   "outputs": [],
   "source": [
    "pc_df.GDP.plot(kind='box')"
   ]
  },
  {
   "cell_type": "markdown",
   "metadata": {},
   "source": [
    "#### SUICIDE TREND"
   ]
  },
  {
   "cell_type": "code",
   "execution_count": null,
   "metadata": {},
   "outputs": [],
   "source": [
    "# Suicide trend (here I used acctual number of suicides (not per capita))\n",
    "# What is the overall trend in suicide globally\n",
    "suicide_trend_all = merged_df.groupby(['year']).sum()['suicide_total'].plot();\n",
    "suicide_trend_all;"
   ]
  },
  {
   "cell_type": "markdown",
   "metadata": {},
   "source": [
    "*Explant the line chart*"
   ]
  },
  {
   "cell_type": "markdown",
   "metadata": {},
   "source": [
    "## Top 10 and bottom 10 countries with most/least suicides per capita"
   ]
  },
  {
   "cell_type": "code",
   "execution_count": null,
   "metadata": {},
   "outputs": [],
   "source": [
    "### This cell is only for reference (note on the code that might be useful in the future).\n",
    "## suicide_top10_ = pc_df.groupby(['country']).agg({'suicide_total_pc': ['mean','min', 'max']})\n",
    "## suicide_top10_.columns =  ['s_mean','s_min', 's_max']                                          \n",
    "## suicide_top10_"
   ]
  },
  {
   "cell_type": "code",
   "execution_count": null,
   "metadata": {},
   "outputs": [],
   "source": [
    "# Top 10 countries from 1990 - 2016, get top 10 and save in a list.\n",
    "suicide_top10 = pc_df.groupby(['country']).mean()['suicide_total_pc'].nlargest(10).to_frame().index.tolist()"
   ]
  },
  {
   "cell_type": "code",
   "execution_count": null,
   "metadata": {},
   "outputs": [],
   "source": [
    "# Bottom 10 countries from 1990 - 2016, get bottom 10 and save in a list.\n",
    "suicide_bottom10 = pc_df.groupby(['country']).mean()['suicide_total_pc'].nsmallest(11).to_frame().index.tolist()"
   ]
  },
  {
   "cell_type": "code",
   "execution_count": null,
   "metadata": {},
   "outputs": [],
   "source": [
    "# Remove Kuwait (recognized as outlier = GPA >100,000)\n",
    "suicide_bottom10.remove(\"Kuwait\")"
   ]
  },
  {
   "cell_type": "markdown",
   "metadata": {},
   "source": [
    "*Note: I found top 11, because during my analyis I found outlier - Kuwait, has GDP far above the average (100,000). Therefore, I excluded this country form analysis and replace it with next country in the bottom 10.*"
   ]
  },
  {
   "cell_type": "code",
   "execution_count": null,
   "metadata": {},
   "outputs": [],
   "source": [
    "# get the data frame for top 10\n",
    "top_10_countries_suicide = pc_df[pc_df['country'].isin(suicide_top10)]\n",
    "top_10_countries_suicide.head(2)"
   ]
  },
  {
   "cell_type": "code",
   "execution_count": null,
   "metadata": {},
   "outputs": [],
   "source": [
    "# get the data frame for top 10\n",
    "bottom_10_countries_suicide = pc_df[pc_df['country'].isin(suicide_bottom10)]\n",
    "bottom_10_countries_suicide.head(2)"
   ]
  },
  {
   "cell_type": "markdown",
   "metadata": {},
   "source": [
    "### Compare top and bottom 10 countries (summary statistics, GDP, trend, internet use, cell phone use)"
   ]
  },
  {
   "cell_type": "markdown",
   "metadata": {},
   "source": [
    "#### Summary statistics"
   ]
  },
  {
   "cell_type": "code",
   "execution_count": null,
   "metadata": {},
   "outputs": [],
   "source": [
    "# Top 10\n",
    "top_10_countries_suicide.describe()"
   ]
  },
  {
   "cell_type": "code",
   "execution_count": null,
   "metadata": {},
   "outputs": [],
   "source": [
    "# Bottom 10\n",
    "bottom_10_countries_suicide.describe()"
   ]
  },
  {
   "cell_type": "markdown",
   "metadata": {},
   "source": [
    "*Describe summary stats*"
   ]
  },
  {
   "cell_type": "markdown",
   "metadata": {},
   "source": [
    "#### GDP comparison"
   ]
  },
  {
   "cell_type": "code",
   "execution_count": null,
   "metadata": {},
   "outputs": [],
   "source": [
    "# histogram - GDP\n",
    "bottom_10_countries_suicide.GDP.hist(alpha=.7, color='green', label='bottom_10'), top_10_countries_suicide.GDP.hist(alpha=.7, color='blue', label='top_10');\n",
    "# legend\n",
    "plt.legend();"
   ]
  },
  {
   "cell_type": "code",
   "execution_count": null,
   "metadata": {},
   "outputs": [],
   "source": [
    "# histogram - cell use\n",
    "bottom_10_countries_suicide.cell_use_pc.hist(alpha=.7, color='green', label='bottom_10'), top_10_countries_suicide.cell_use_pc.hist(alpha=.7, color='blue', label='top_10');\n",
    "# legend\n",
    "plt.legend();"
   ]
  },
  {
   "cell_type": "markdown",
   "metadata": {},
   "source": [
    "#### Suicide Trend"
   ]
  },
  {
   "cell_type": "code",
   "execution_count": null,
   "metadata": {},
   "outputs": [],
   "source": [
    "# Top 10 - suicide trend\n",
    "trend_top10 = top_10_countries_suicide.groupby(['year']).mean()['suicide_total_pc'].plot();\n",
    "trend_top10;"
   ]
  },
  {
   "cell_type": "code",
   "execution_count": null,
   "metadata": {},
   "outputs": [],
   "source": [
    "# Bottom 10 - suicide trend\n",
    "trend_bottom10 = bottom_10_countries_suicide.groupby(['year']).mean()['suicide_total_pc'].plot();\n",
    "trend_bottom10;"
   ]
  },
  {
   "cell_type": "markdown",
   "metadata": {},
   "source": [
    "#### GDP Trend"
   ]
  },
  {
   "cell_type": "code",
   "execution_count": null,
   "metadata": {},
   "outputs": [],
   "source": [
    "# Top 10 - GDP trend\n",
    "trend_top10_GDP = top_10_countries_suicide.groupby(['year']).mean()['GDP'].plot();\n",
    "trend_top10_GDP;"
   ]
  },
  {
   "cell_type": "code",
   "execution_count": null,
   "metadata": {},
   "outputs": [],
   "source": [
    "# Bottom 10 - GDP trend\n",
    "trend_bottom10_GDP = bottom_10_countries_suicide.groupby(['year']).mean()['GDP'].plot();\n",
    "trend_bottom10_GDP;"
   ]
  },
  {
   "cell_type": "markdown",
   "metadata": {},
   "source": [
    "*Explain Trend*"
   ]
  },
  {
   "cell_type": "code",
   "execution_count": null,
   "metadata": {},
   "outputs": [],
   "source": [
    "# Acctuals countries"
   ]
  },
  {
   "cell_type": "markdown",
   "metadata": {},
   "source": [
    "# From 2010 - 2016"
   ]
  },
  {
   "cell_type": "code",
   "execution_count": null,
   "metadata": {},
   "outputs": [],
   "source": [
    "# Create df for only 2010 - 2016\n",
    "main_df_reduced = merged_df.loc[merged_df.year > 2009,:]\n",
    "main_df_reduced.tail()"
   ]
  },
  {
   "cell_type": "markdown",
   "metadata": {},
   "source": [
    "## For all countries"
   ]
  },
  {
   "cell_type": "code",
   "execution_count": null,
   "metadata": {},
   "outputs": [],
   "source": [
    "# Create df with columns per capita only\n",
    "pc_df_reduced = main_df_reduced.iloc[:, np.r_[:2, 5:6, 10:13]]\n",
    "pc_df_reduced.head(3)"
   ]
  },
  {
   "cell_type": "markdown",
   "metadata": {},
   "source": [
    "#### HISTOGRAM"
   ]
  },
  {
   "cell_type": "code",
   "execution_count": null,
   "metadata": {},
   "outputs": [],
   "source": [
    "# Plotting histograms \n",
    "pc_df_reduced.hist(figsize=(10,8), color='#1f77b4');"
   ]
  },
  {
   "cell_type": "markdown",
   "metadata": {},
   "source": [
    "#### CORRELATION"
   ]
  },
  {
   "cell_type": "code",
   "execution_count": null,
   "metadata": {},
   "outputs": [],
   "source": [
    "# Plotting correlation coeficient heat map.\n",
    "pearsoncorr_reduced = pc_df_reduced.corr(method='pearson')\n",
    "pearsoncorr_reduced\n",
    "sns.heatmap(pearsoncorr_reduced, \n",
    "            xticklabels=pearsoncorr_reduced.columns,\n",
    "            yticklabels=pearsoncorr_reduced.columns,\n",
    "            cmap='RdBu_r',\n",
    "            annot=True,\n",
    "            linewidth=0.5);"
   ]
  },
  {
   "cell_type": "markdown",
   "metadata": {},
   "source": [
    "*Explain the matrix*"
   ]
  },
  {
   "cell_type": "code",
   "execution_count": null,
   "metadata": {},
   "outputs": [],
   "source": [
    "# scatter plot matrix\n",
    "pd.plotting.scatter_matrix(pc_df_reduced, figsize=(15,8));"
   ]
  },
  {
   "cell_type": "code",
   "execution_count": null,
   "metadata": {},
   "outputs": [],
   "source": [
    "# Scatter plot between GDP and suicide\n",
    "pc_df_reduced.plot(x='GDP', y='suicide_total_pc', kind='scatter', c='#1f77b4');"
   ]
  },
  {
   "cell_type": "markdown",
   "metadata": {},
   "source": [
    "#### SUICIDE TREND"
   ]
  },
  {
   "cell_type": "code",
   "execution_count": null,
   "metadata": {},
   "outputs": [],
   "source": [
    "# Suicide trend (here I used acctual number of suicides (not per capita))\n",
    "# What is the overall trend in suicide globally\n",
    "suicide_trend_all_reduced = main_df_reduced.groupby(['year']).sum()['suicide_total'].plot();\n",
    "suicide_trend_all_reduced;"
   ]
  },
  {
   "cell_type": "markdown",
   "metadata": {},
   "source": [
    "*Explain the line chart*"
   ]
  },
  {
   "cell_type": "markdown",
   "metadata": {},
   "source": [
    "## Top 10 and bottom 10 countries with most/least suicides per capita"
   ]
  },
  {
   "cell_type": "code",
   "execution_count": null,
   "metadata": {},
   "outputs": [],
   "source": [
    "# Top 10 countries from 2010 - 2016, get top 10 and save in a list.\n",
    "suicide_top10_reduced = pc_df_reduced.groupby(['country']).mean()['suicide_total_pc'].nlargest(10).to_frame().index.tolist()"
   ]
  },
  {
   "cell_type": "code",
   "execution_count": null,
   "metadata": {},
   "outputs": [],
   "source": [
    "# Top 10 countries from 2010 - 2016, get top 10 and save in a list.\n",
    "suicide_bottom10_reduced = pc_df_reduced.groupby(['country']).mean()['suicide_total_pc'].nsmallest(11).to_frame().index.tolist()"
   ]
  },
  {
   "cell_type": "code",
   "execution_count": null,
   "metadata": {},
   "outputs": [],
   "source": [
    "# Remove Kuwait (recognized as outlier = GPA >100,000)\n",
    "suicide_bottom10_reduced.remove(\"Kuwait\")"
   ]
  },
  {
   "cell_type": "markdown",
   "metadata": {},
   "source": [
    "*Note: I found top 11, because during my analyis I found outlier - Kuwait, has GDP far above the average (100,000). Therefore, I excluded this country form analysis and replace it with next country in the bottom 10.*"
   ]
  },
  {
   "cell_type": "code",
   "execution_count": null,
   "metadata": {},
   "outputs": [],
   "source": [
    "# get the data frame for top 10\n",
    "top_10_countries_suicide_reduced = pc_df_reduced[pc_df_reduced['country'].isin(suicide_top10)]\n",
    "top_10_countries_suicide_reduced.head(2)"
   ]
  },
  {
   "cell_type": "code",
   "execution_count": null,
   "metadata": {},
   "outputs": [],
   "source": [
    "# get the data frame for top 10\n",
    "bottom_10_countries_suicide_reduced = pc_df_reduced[pc_df_reduced['country'].isin(suicide_bottom10)]\n",
    "bottom_10_countries_suicide_reduced.head(2)"
   ]
  },
  {
   "cell_type": "markdown",
   "metadata": {},
   "source": [
    "### Compare top and bottom 10 countries (summary statistics, GDP, trend, internet use, cell phone use)"
   ]
  },
  {
   "cell_type": "markdown",
   "metadata": {},
   "source": [
    "#### Summary statistics"
   ]
  },
  {
   "cell_type": "code",
   "execution_count": null,
   "metadata": {},
   "outputs": [],
   "source": [
    "# Top 10\n",
    "top_10_countries_suicide_reduced.describe()"
   ]
  },
  {
   "cell_type": "code",
   "execution_count": null,
   "metadata": {},
   "outputs": [],
   "source": [
    "# Bottom 10\n",
    "bottom_10_countries_suicide_reduced.describe()"
   ]
  },
  {
   "cell_type": "markdown",
   "metadata": {},
   "source": [
    "*Explain summary statistics*"
   ]
  },
  {
   "cell_type": "markdown",
   "metadata": {},
   "source": [
    "#### GDP comparison"
   ]
  },
  {
   "cell_type": "code",
   "execution_count": null,
   "metadata": {},
   "outputs": [],
   "source": [
    "# histogram - GDP\n",
    "bottom_10_countries_suicide_reduced.GDP.hist(alpha=.7, color='green', label='bottom_10'), top_10_countries_suicide_reduced.GDP.hist(alpha=.7, color='blue', label='top_10');\n",
    "# legend\n",
    "plt.legend();"
   ]
  },
  {
   "cell_type": "code",
   "execution_count": null,
   "metadata": {},
   "outputs": [],
   "source": [
    "# histogram - cell use\n",
    "bottom_10_countries_suicide_reduced.cell_use_pc.hist(alpha=.7, color='green', label='bottom_10'), top_10_countries_suicide_reduced.cell_use_pc.hist(alpha=.7, color='blue', label='top_10');\n",
    "# legend\n",
    "plt.legend();"
   ]
  },
  {
   "cell_type": "markdown",
   "metadata": {},
   "source": [
    "#### Suicide Trend"
   ]
  },
  {
   "cell_type": "code",
   "execution_count": null,
   "metadata": {},
   "outputs": [],
   "source": [
    "# Top 10 - suicide trend\n",
    "trend_top10_reduced = top_10_countries_suicide_reduced.groupby(['year']).mean()['suicide_total_pc'].plot();\n",
    "trend_top10_reduced;"
   ]
  },
  {
   "cell_type": "code",
   "execution_count": null,
   "metadata": {},
   "outputs": [],
   "source": [
    "# Bottom 10 - suicide trend\n",
    "trend_bottom10_reduced = bottom_10_countries_suicide_reduced.groupby(['year']).mean()['suicide_total_pc'].plot();\n",
    "trend_bottom10_reduced;"
   ]
  },
  {
   "cell_type": "markdown",
   "metadata": {},
   "source": [
    "#### GDP Trend"
   ]
  },
  {
   "cell_type": "code",
   "execution_count": null,
   "metadata": {},
   "outputs": [],
   "source": [
    "# Top 10 - GDP trend\n",
    "trend_top10_GDP_reduced = top_10_countries_suicide_reduced.groupby(['year']).mean()['GDP'].plot();\n",
    "trend_top10_GDP_reduced;"
   ]
  },
  {
   "cell_type": "code",
   "execution_count": null,
   "metadata": {},
   "outputs": [],
   "source": [
    "# Bottom 10 - GDP trend\n",
    "trend_bottom10_GDP_reduced = bottom_10_countries_suicide_reduced.groupby(['year']).mean()['GDP'].plot();\n",
    "trend_bottom10_GDP_reduced;"
   ]
  },
  {
   "cell_type": "markdown",
   "metadata": {},
   "source": [
    "### GDP comparrison for top 10 and bottom 10"
   ]
  },
  {
   "cell_type": "code",
   "execution_count": null,
   "metadata": {},
   "outputs": [],
   "source": [
    "# trend of top 10 - GDP\n",
    "trend_bottom10_GDP = bottom_10_countries_suicide.groupby(['year']).mean()['GDP'].plot();\n",
    "trend_bottom10_GDP"
   ]
  },
  {
   "cell_type": "code",
   "execution_count": null,
   "metadata": {},
   "outputs": [],
   "source": [
    "# trend of top 10 - cell\n",
    "trend_bottom10_cell = bottom_10_countries_suicide.groupby(['year']).mean()['cell_use_pc'].plot();\n",
    "trend_bottom10_cell"
   ]
  },
  {
   "cell_type": "code",
   "execution_count": null,
   "metadata": {},
   "outputs": [],
   "source": [
    "# trend of top 10 and bottom 10\n",
    "trend_top10 = top_10_countries_suicide.groupby(['year']).mean()['suicide_total_pc'].plot();\n",
    "trend_top10"
   ]
  },
  {
   "cell_type": "code",
   "execution_count": null,
   "metadata": {},
   "outputs": [],
   "source": [
    "# trend of top 10- GDP\n",
    "trend_top10_GDP = top_10_countries_suicide.groupby(['year']).mean()['GDP'].plot();\n",
    "trend_top10_GDP"
   ]
  },
  {
   "cell_type": "code",
   "execution_count": null,
   "metadata": {},
   "outputs": [],
   "source": [
    "# trend of top 10- cell\n",
    "trend_top10_cell = top_10_countries_suicide.groupby(['year']).mean()['cell_use_pc'].plot();\n",
    "trend_top10_cell"
   ]
  },
  {
   "cell_type": "code",
   "execution_count": null,
   "metadata": {},
   "outputs": [],
   "source": [
    "# country totals\n",
    "suicide_totals = less_years.groupby(['country', 'year']).sum()['suicide_total_pc']\n",
    "suicide_totals"
   ]
  },
  {
   "cell_type": "code",
   "execution_count": null,
   "metadata": {},
   "outputs": [],
   "source": [
    "suicide_totals.describe()"
   ]
  },
  {
   "cell_type": "code",
   "execution_count": null,
   "metadata": {},
   "outputs": [],
   "source": [
    "# What is the difference in GDP in countries with the most suicides per capita vs least suicides per capita\n",
    "# Calculate the average GDP for last 5 years\n",
    "x_axis = top_10_countries_suicide.country\n",
    "y_axis = top_10_countries_suicide.GDP\n",
    "plt.yticks(np.arange(0, 90000, step=10000))\n",
    "plt.xticks(rotation = 45)\n",
    "plt.bar(x_axis, y_axis, label='GDP')\n",
    "plt.legend()"
   ]
  },
  {
   "cell_type": "code",
   "execution_count": null,
   "metadata": {},
   "outputs": [],
   "source": [
    "# What is the difference in GDP in countries with the most suicides per capita vs least suicides per capita\n",
    "# Calculate the average GDP for last 5 years\n",
    "x_axis = bottom_10_countries_suicide.country\n",
    "y_axis = bottom_10_countries_suicide.GDP\n",
    "plt.yticks(np.arange(0, 90000, step=10000))\n",
    "plt.xticks(rotation = 90)\n",
    "plt.bar(x_axis, y_axis, label='GDP')\n",
    "plt.legend()"
   ]
  },
  {
   "cell_type": "code",
   "execution_count": null,
   "metadata": {},
   "outputs": [],
   "source": [
    "x_axis = top_10_countries_suicide.country\n",
    "y_axis = top_10_countries_suicide.suicide_total_pc\n",
    "plt.xticks(rotation = 45)\n",
    "plt.bar(x_axis, y_axis, label='suicide_total_pc')\n",
    "plt.legend()"
   ]
  },
  {
   "cell_type": "code",
   "execution_count": null,
   "metadata": {},
   "outputs": [],
   "source": [
    "x_axis = bottom_10_countries_suicide.country\n",
    "y_axis = bottom_10_countries_suicide.suicide_total_pc\n",
    "plt.xticks(rotation = 90)\n",
    "plt.bar(x_axis, y_axis, label='suicide_total_pc')\n",
    "plt.legend()"
   ]
  },
  {
   "cell_type": "markdown",
   "metadata": {},
   "source": [
    "# From 1990 - 2000"
   ]
  },
  {
   "cell_type": "code",
   "execution_count": null,
   "metadata": {},
   "outputs": [],
   "source": [
    "# Create df for only 1990 - 2000\n",
    "main_df_reduced_cell = merged_df.loc[merged_df.year < 2001,:]\n",
    "main_df_reduced_cell.head()"
   ]
  },
  {
   "cell_type": "code",
   "execution_count": null,
   "metadata": {},
   "outputs": [],
   "source": [
    "# Create df with columns per capita only\n",
    "pc_df_reduced_cell = main_df_reduced_cell.iloc[:, np.r_[:2, 5:6, 10:13]]\n",
    "pc_df_reduced_cell.head(3)"
   ]
  },
  {
   "cell_type": "code",
   "execution_count": null,
   "metadata": {},
   "outputs": [],
   "source": [
    "# Plotting correlation coeficient heat map.\n",
    "pearsoncorr_reduced_cell = pc_df_reduced_cell.corr(method='pearson')\n",
    "pearsoncorr_reduced_cell\n",
    "sns.heatmap(pearsoncorr_reduced_cell, \n",
    "            xticklabels=pearsoncorr_reduced_cell,\n",
    "            yticklabels=pearsoncorr_reduced_cell,\n",
    "            cmap='RdBu_r',\n",
    "            annot=True,\n",
    "            linewidth=0.5);"
   ]
  },
  {
   "cell_type": "code",
   "execution_count": null,
   "metadata": {},
   "outputs": [],
   "source": []
  }
 ],
 "metadata": {
  "kernelspec": {
   "display_name": "pythonml",
   "language": "python",
   "name": "pythonml"
  },
  "language_info": {
   "codemirror_mode": {
    "name": "ipython",
    "version": 3
   },
   "file_extension": ".py",
   "mimetype": "text/x-python",
   "name": "python",
   "nbconvert_exporter": "python",
   "pygments_lexer": "ipython3",
   "version": "3.7.9"
  }
 },
 "nbformat": 4,
 "nbformat_minor": 4
}
