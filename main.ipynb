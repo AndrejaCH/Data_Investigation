{
 "cells": [
  {
   "cell_type": "markdown",
   "metadata": {},
   "source": [
    "## Data Wrangling"
   ]
  },
  {
   "cell_type": "markdown",
   "metadata": {},
   "source": [
    "##### Import dependencies"
   ]
  },
  {
   "cell_type": "code",
   "execution_count": 1,
   "metadata": {},
   "outputs": [],
   "source": [
    "import pandas as pd\n",
    "import numpy as np\n",
    "import matplotlib.pyplot as plt\n",
    "import seaborn as sns\n",
    "%matplotlib inline"
   ]
  },
  {
   "cell_type": "code",
   "execution_count": 2,
   "metadata": {},
   "outputs": [],
   "source": [
    "# Import seaborn library and ignore warning \n",
    "sns.set_theme()\n",
    "import warnings\n",
    "warnings.filterwarnings('ignore')"
   ]
  },
  {
   "cell_type": "markdown",
   "metadata": {},
   "source": [
    "##### Import datasets"
   ]
  },
  {
   "cell_type": "code",
   "execution_count": 3,
   "metadata": {},
   "outputs": [],
   "source": [
    "pop_df = pd.read_csv(\"Data/population_total.csv\")\n",
    "inet_df = pd.read_csv(\"Data/net_users_num.csv\")\n",
    "cell_df = pd.read_csv(\"Data/cell_phones_total.csv\")\n",
    "suic_df = pd.read_csv(\"Data/suicide_total_deaths.csv\")\n",
    "gini_df = pd.read_csv(\"Data/inequality_index_gini.csv\")\n",
    "gdp_df = pd.read_csv(\"Data/gdppercapita.csv\")"
   ]
  },
  {
   "cell_type": "markdown",
   "metadata": {},
   "source": [
    "##### Check imported datasets"
   ]
  },
  {
   "cell_type": "code",
   "execution_count": 4,
   "metadata": {},
   "outputs": [],
   "source": [
    "# pop_df.head(3)\n",
    "# gdp_df.head(3)\n",
    "# inet_df.head(3)\n",
    "# cell_df.head(3)\n",
    "# gdp_df.head(3)\n",
    "# gini_df.head(3)"
   ]
  },
  {
   "cell_type": "markdown",
   "metadata": {},
   "source": [
    "*Suicide dataset contains data from 1990 to 2016; therefore I decided to perform data analysis for the years between 1990 to 2016 (included). I kept these columns using iloc method with numpy.*"
   ]
  },
  {
   "cell_type": "markdown",
   "metadata": {},
   "source": [
    "##### Filtering dataset using iloc and numpy"
   ]
  },
  {
   "cell_type": "code",
   "execution_count": 5,
   "metadata": {},
   "outputs": [],
   "source": [
    "# Keep only the columns 1990 - 2016 - try to do this in the function or for loop!\n",
    "# suicide dataset already sliced (1990 - 2016)\n",
    "# QUESTION - is there better way of doing this \n",
    "pop_df = pop_df.iloc[:, np.r_[:1, 191:218]]\n",
    "inet_df = inet_df.iloc[:, :28]\n",
    "cell_df = cell_df.iloc[:, np.r_[:1, 31:58]]\n",
    "gini_df = gini_df.iloc[:, np.r_[:1, 24:51]]\n",
    "gdp_df = gdp_df.iloc[:, np.r_[:1, 191:218]]"
   ]
  },
  {
   "cell_type": "markdown",
   "metadata": {},
   "source": [
    "##### Handling null values"
   ]
  },
  {
   "cell_type": "code",
   "execution_count": 6,
   "metadata": {},
   "outputs": [],
   "source": [
    "# Check null values for internet and cell usage\n",
    "#suic_df.isnull().sum()\n",
    "#pop_df.isnull().sum()\n",
    "#gdp_df.isnull().sum()\n",
    "#cell_df.isnull().sum()\n",
    "#inet_df.isnull().sum()"
   ]
  },
  {
   "cell_type": "markdown",
   "metadata": {},
   "source": [
    "*Only internet & cell datasets and gini index have null values. After examining these datasets I noticed a positive trend for all countries; therefore I decided to use `ffill` method (fill forward) instead of filling with mean or 0. I believe a better way to fill null values would be average values between empty cells. Any suggestions?*"
   ]
  },
  {
   "cell_type": "code",
   "execution_count": 7,
   "metadata": {},
   "outputs": [],
   "source": [
    "# fill first colum [1990] with null if empty \n",
    "# (I use this to fill the first column with 0. When usind ffill to populate 0 instesd of country name.)\n",
    "inet_df['1990'].fillna(0, inplace=True)\n",
    "cell_df['1990'].fillna(0, inplace=True)"
   ]
  },
  {
   "cell_type": "code",
   "execution_count": 8,
   "metadata": {},
   "outputs": [],
   "source": [
    "# fill null values for internet and cell phone\n",
    "inet_df = inet_df.fillna(method='ffill', axis=1)\n",
    "cell_df = cell_df.fillna(method='ffill', axis=1)"
   ]
  },
  {
   "cell_type": "code",
   "execution_count": 9,
   "metadata": {},
   "outputs": [],
   "source": [
    "# In order to fill null values across columns (calculate mean of the rows) I took the following steps (formula: df.fillna(df.mean(), axis=1) didn't work.):\n",
    "# 1. set index to country:\n",
    "gini_df.set_index(['country'], inplace = True)"
   ]
  },
  {
   "cell_type": "code",
   "execution_count": 10,
   "metadata": {},
   "outputs": [],
   "source": [
    "# 2. using lambda function to fill null values across rows\n",
    "gini_df = gini_df.apply(lambda row: row.fillna(row.mean()), axis=1)"
   ]
  },
  {
   "cell_type": "code",
   "execution_count": 11,
   "metadata": {},
   "outputs": [],
   "source": [
    "# 3. reset index (to be consistent with other dataframes)\n",
    "gini_df = gini_df.reset_index()"
   ]
  },
  {
   "cell_type": "code",
   "execution_count": 12,
   "metadata": {},
   "outputs": [
    {
     "data": {
      "text/html": [
       "<div>\n",
       "<style scoped>\n",
       "    .dataframe tbody tr th:only-of-type {\n",
       "        vertical-align: middle;\n",
       "    }\n",
       "\n",
       "    .dataframe tbody tr th {\n",
       "        vertical-align: top;\n",
       "    }\n",
       "\n",
       "    .dataframe thead th {\n",
       "        text-align: right;\n",
       "    }\n",
       "</style>\n",
       "<table border=\"1\" class=\"dataframe\">\n",
       "  <thead>\n",
       "    <tr style=\"text-align: right;\">\n",
       "      <th></th>\n",
       "      <th>country</th>\n",
       "      <th>1990</th>\n",
       "      <th>1991</th>\n",
       "      <th>1992</th>\n",
       "      <th>1993</th>\n",
       "      <th>1994</th>\n",
       "      <th>1995</th>\n",
       "      <th>1996</th>\n",
       "      <th>1997</th>\n",
       "      <th>1998</th>\n",
       "      <th>...</th>\n",
       "      <th>2007</th>\n",
       "      <th>2008</th>\n",
       "      <th>2009</th>\n",
       "      <th>2010</th>\n",
       "      <th>2011</th>\n",
       "      <th>2012</th>\n",
       "      <th>2013</th>\n",
       "      <th>2014</th>\n",
       "      <th>2015</th>\n",
       "      <th>2016</th>\n",
       "    </tr>\n",
       "  </thead>\n",
       "  <tbody>\n",
       "    <tr>\n",
       "      <th>0</th>\n",
       "      <td>Albania</td>\n",
       "      <td>31.1875</td>\n",
       "      <td>31.1875</td>\n",
       "      <td>31.1875</td>\n",
       "      <td>31.1875</td>\n",
       "      <td>31.1875</td>\n",
       "      <td>31.1875</td>\n",
       "      <td>27.00</td>\n",
       "      <td>31.1875</td>\n",
       "      <td>31.1875</td>\n",
       "      <td>...</td>\n",
       "      <td>31.1875</td>\n",
       "      <td>30.00</td>\n",
       "      <td>31.1875</td>\n",
       "      <td>31.1875</td>\n",
       "      <td>31.1875</td>\n",
       "      <td>29.00</td>\n",
       "      <td>31.1875</td>\n",
       "      <td>34.60</td>\n",
       "      <td>32.90</td>\n",
       "      <td>33.70</td>\n",
       "    </tr>\n",
       "    <tr>\n",
       "      <th>1</th>\n",
       "      <td>Algeria</td>\n",
       "      <td>31.4500</td>\n",
       "      <td>31.4500</td>\n",
       "      <td>31.4500</td>\n",
       "      <td>31.4500</td>\n",
       "      <td>31.4500</td>\n",
       "      <td>35.3000</td>\n",
       "      <td>31.45</td>\n",
       "      <td>31.4500</td>\n",
       "      <td>31.4500</td>\n",
       "      <td>...</td>\n",
       "      <td>31.4500</td>\n",
       "      <td>31.45</td>\n",
       "      <td>31.4500</td>\n",
       "      <td>31.4500</td>\n",
       "      <td>27.6000</td>\n",
       "      <td>31.45</td>\n",
       "      <td>31.4500</td>\n",
       "      <td>31.45</td>\n",
       "      <td>31.45</td>\n",
       "      <td>31.45</td>\n",
       "    </tr>\n",
       "    <tr>\n",
       "      <th>2</th>\n",
       "      <td>Angola</td>\n",
       "      <td>47.3500</td>\n",
       "      <td>47.3500</td>\n",
       "      <td>47.3500</td>\n",
       "      <td>47.3500</td>\n",
       "      <td>47.3500</td>\n",
       "      <td>47.3500</td>\n",
       "      <td>47.35</td>\n",
       "      <td>47.3500</td>\n",
       "      <td>47.3500</td>\n",
       "      <td>...</td>\n",
       "      <td>47.3500</td>\n",
       "      <td>42.70</td>\n",
       "      <td>47.3500</td>\n",
       "      <td>47.3500</td>\n",
       "      <td>47.3500</td>\n",
       "      <td>47.35</td>\n",
       "      <td>47.3500</td>\n",
       "      <td>47.35</td>\n",
       "      <td>47.35</td>\n",
       "      <td>47.35</td>\n",
       "    </tr>\n",
       "  </tbody>\n",
       "</table>\n",
       "<p>3 rows × 28 columns</p>\n",
       "</div>"
      ],
      "text/plain": [
       "   country     1990     1991     1992     1993     1994     1995   1996  \\\n",
       "0  Albania  31.1875  31.1875  31.1875  31.1875  31.1875  31.1875  27.00   \n",
       "1  Algeria  31.4500  31.4500  31.4500  31.4500  31.4500  35.3000  31.45   \n",
       "2   Angola  47.3500  47.3500  47.3500  47.3500  47.3500  47.3500  47.35   \n",
       "\n",
       "      1997     1998  ...     2007   2008     2009     2010     2011   2012  \\\n",
       "0  31.1875  31.1875  ...  31.1875  30.00  31.1875  31.1875  31.1875  29.00   \n",
       "1  31.4500  31.4500  ...  31.4500  31.45  31.4500  31.4500  27.6000  31.45   \n",
       "2  47.3500  47.3500  ...  47.3500  42.70  47.3500  47.3500  47.3500  47.35   \n",
       "\n",
       "      2013   2014   2015   2016  \n",
       "0  31.1875  34.60  32.90  33.70  \n",
       "1  31.4500  31.45  31.45  31.45  \n",
       "2  47.3500  47.35  47.35  47.35  \n",
       "\n",
       "[3 rows x 28 columns]"
      ]
     },
     "execution_count": 12,
     "metadata": {},
     "output_type": "execute_result"
    }
   ],
   "source": [
    "# 4. Check the dataframe\n",
    "gini_df.head(3)"
   ]
  },
  {
   "cell_type": "markdown",
   "metadata": {},
   "source": [
    "##### Unpivot dataframes"
   ]
  },
  {
   "cell_type": "code",
   "execution_count": 13,
   "metadata": {},
   "outputs": [],
   "source": [
    "pop_df = pop_df.melt(id_vars = 'country', var_name = 'year', value_name = 'population_total', ignore_index=True)\n",
    "inet_df = inet_df.melt(id_vars = 'country', var_name = 'year', value_name = 'internet_use', ignore_index=True)\n",
    "cell_df = cell_df.melt(id_vars = 'country', var_name = 'year', value_name = 'cell_use', ignore_index=True)\n",
    "suic_df = suic_df.melt(id_vars = 'country', var_name = 'year', value_name = 'suicide_total', ignore_index=True)\n",
    "gini_df = gini_df.melt(id_vars = 'country', var_name = 'year', value_name = 'gini_index', ignore_index=True)\n",
    "gdp_df = gdp_df.melt(id_vars = 'country', var_name = 'year', value_name = 'GDP', ignore_index=True)"
   ]
  },
  {
   "cell_type": "markdown",
   "metadata": {},
   "source": [
    "*In order to compare different indicators I reshaped data with `melt` method.*"
   ]
  },
  {
   "cell_type": "markdown",
   "metadata": {},
   "source": [
    "##### Merge datasets"
   ]
  },
  {
   "cell_type": "code",
   "execution_count": 14,
   "metadata": {},
   "outputs": [],
   "source": [
    "# Merge datasets two by two - please see comments below\n",
    "merged01 = pd.merge(pop_df, suic_df, how=\"inner\", on=[\"country\", \"year\"])\n",
    "merged02 = pd.merge(cell_df, inet_df, how=\"inner\", on=[\"country\", \"year\"])\n",
    "merged03 = pd.merge(gdp_df, gini_df, how=\"left\", on=[\"country\", \"year\"])\n",
    "merged04 = pd.merge(merged01, merged02, how=\"inner\", on=[\"country\", \"year\"])\n",
    "\n",
    "# Final merge\n",
    "merged_df = pd.merge(merged03, merged04, how=\"inner\", on=[\"country\", \"year\"])"
   ]
  },
  {
   "cell_type": "code",
   "execution_count": 15,
   "metadata": {},
   "outputs": [
    {
     "data": {
      "text/html": [
       "<div>\n",
       "<style scoped>\n",
       "    .dataframe tbody tr th:only-of-type {\n",
       "        vertical-align: middle;\n",
       "    }\n",
       "\n",
       "    .dataframe tbody tr th {\n",
       "        vertical-align: top;\n",
       "    }\n",
       "\n",
       "    .dataframe thead th {\n",
       "        text-align: right;\n",
       "    }\n",
       "</style>\n",
       "<table border=\"1\" class=\"dataframe\">\n",
       "  <thead>\n",
       "    <tr style=\"text-align: right;\">\n",
       "      <th></th>\n",
       "      <th>country</th>\n",
       "      <th>year</th>\n",
       "      <th>GDP</th>\n",
       "      <th>gini_index</th>\n",
       "      <th>population_total</th>\n",
       "      <th>suicide_total</th>\n",
       "      <th>cell_use</th>\n",
       "      <th>internet_use</th>\n",
       "    </tr>\n",
       "  </thead>\n",
       "  <tbody>\n",
       "    <tr>\n",
       "      <th>0</th>\n",
       "      <td>Afghanistan</td>\n",
       "      <td>1990</td>\n",
       "      <td>1860</td>\n",
       "      <td>NaN</td>\n",
       "      <td>12400000</td>\n",
       "      <td>703.0</td>\n",
       "      <td>0</td>\n",
       "      <td>0</td>\n",
       "    </tr>\n",
       "    <tr>\n",
       "      <th>1</th>\n",
       "      <td>Albania</td>\n",
       "      <td>1990</td>\n",
       "      <td>4460</td>\n",
       "      <td>31.1875</td>\n",
       "      <td>3290000</td>\n",
       "      <td>127.0</td>\n",
       "      <td>0</td>\n",
       "      <td>0</td>\n",
       "    </tr>\n",
       "    <tr>\n",
       "      <th>2</th>\n",
       "      <td>Algeria</td>\n",
       "      <td>1990</td>\n",
       "      <td>10300</td>\n",
       "      <td>31.4500</td>\n",
       "      <td>25800000</td>\n",
       "      <td>806.0</td>\n",
       "      <td>470</td>\n",
       "      <td>0</td>\n",
       "    </tr>\n",
       "  </tbody>\n",
       "</table>\n",
       "</div>"
      ],
      "text/plain": [
       "       country  year    GDP  gini_index  population_total  suicide_total  \\\n",
       "0  Afghanistan  1990   1860         NaN          12400000          703.0   \n",
       "1      Albania  1990   4460     31.1875           3290000          127.0   \n",
       "2      Algeria  1990  10300     31.4500          25800000          806.0   \n",
       "\n",
       "  cell_use internet_use  \n",
       "0        0            0  \n",
       "1        0            0  \n",
       "2      470            0  "
      ]
     },
     "execution_count": 15,
     "metadata": {},
     "output_type": "execute_result"
    }
   ],
   "source": [
    "# Check merged dataset\n",
    "merged_df.head(3)"
   ]
  },
  {
   "cell_type": "markdown",
   "metadata": {},
   "source": [
    "*Some countries don't have data for the gini index, but I would still like to include them in my analysis. \n",
    "Why: when including only countries that has data, some countries weren't included and the results were misleading!\n",
    "Top 10 and bottom 10 countries were different!!"
   ]
  },
  {
   "cell_type": "markdown",
   "metadata": {},
   "source": [
    "***QUESTIONS***\n",
    "*Is there a better way of merging multiple datasets in one step*\n",
    "*what is the best way to double-check if the merge was successful? I checked data in a spreadsheet but didn’t find this method to be found convenient, especially when working with a large dataset, the xlxs or csv file won’t load or will crash*\n"
   ]
  },
  {
   "cell_type": "code",
   "execution_count": 16,
   "metadata": {},
   "outputs": [],
   "source": [
    "# Export dataset for investigation - not sure if this method is good. Please see the comment above.\n",
    "#merged_df.to_csv('Data/merged.csv', index=False)"
   ]
  },
  {
   "cell_type": "markdown",
   "metadata": {},
   "source": [
    "##### Checking dataset (shape, null values, datatypes and duplicates) after merging"
   ]
  },
  {
   "cell_type": "code",
   "execution_count": 17,
   "metadata": {},
   "outputs": [
    {
     "data": {
      "text/plain": [
       "(5049, 8)"
      ]
     },
     "execution_count": 17,
     "metadata": {},
     "output_type": "execute_result"
    }
   ],
   "source": [
    "# Shape\n",
    "merged_df.shape"
   ]
  },
  {
   "cell_type": "code",
   "execution_count": 18,
   "metadata": {},
   "outputs": [
    {
     "data": {
      "text/plain": [
       "0"
      ]
     },
     "execution_count": 18,
     "metadata": {},
     "output_type": "execute_result"
    }
   ],
   "source": [
    "# Duplicate rows\n",
    "merged_df.duplicated().sum()"
   ]
  },
  {
   "cell_type": "code",
   "execution_count": 19,
   "metadata": {},
   "outputs": [
    {
     "data": {
      "text/plain": [
       "country               0\n",
       "year                  0\n",
       "GDP                   0\n",
       "gini_index          648\n",
       "population_total      0\n",
       "suicide_total         0\n",
       "cell_use              0\n",
       "internet_use          0\n",
       "dtype: int64"
      ]
     },
     "execution_count": 19,
     "metadata": {},
     "output_type": "execute_result"
    }
   ],
   "source": [
    "# Missing values - decide what to do with null values\n",
    "merged_df.isnull().sum()"
   ]
  },
  {
   "cell_type": "code",
   "execution_count": 20,
   "metadata": {},
   "outputs": [],
   "source": [
    "# I decided to leave null values and perform analysis on a different data set in orded to see if gini index"
   ]
  },
  {
   "cell_type": "code",
   "execution_count": 21,
   "metadata": {},
   "outputs": [
    {
     "data": {
      "text/plain": [
       "country              object\n",
       "year                 object\n",
       "GDP                   int64\n",
       "gini_index          float64\n",
       "population_total      int64\n",
       "suicide_total       float64\n",
       "cell_use             object\n",
       "internet_use         object\n",
       "dtype: object"
      ]
     },
     "execution_count": 21,
     "metadata": {},
     "output_type": "execute_result"
    }
   ],
   "source": [
    "# Check individual datatypes - convert year to int\n",
    "merged_df.dtypes"
   ]
  },
  {
   "cell_type": "markdown",
   "metadata": {},
   "source": [
    "#### Changing datatypes"
   ]
  },
  {
   "cell_type": "code",
   "execution_count": 22,
   "metadata": {},
   "outputs": [],
   "source": [
    "# Change data types for internet use - scientific \n",
    "merged_df['internet_use'] = merged_df['internet_use'].astype(float)\n",
    "merged_df['year'] = merged_df['year'].astype(int)\n",
    "merged_df['cell_use'] = merged_df['cell_use'].astype(int)"
   ]
  },
  {
   "cell_type": "code",
   "execution_count": 23,
   "metadata": {},
   "outputs": [],
   "source": [
    "# Round suicide & change to integer (suicide was in float)\n",
    "merged_df['suicide_total'] = merged_df.suicide_total.round()\n",
    "merged_df['suicide_total'] = merged_df['suicide_total'].astype(int)"
   ]
  },
  {
   "cell_type": "code",
   "execution_count": 24,
   "metadata": {},
   "outputs": [
    {
     "data": {
      "text/plain": [
       "country              object\n",
       "year                  int32\n",
       "GDP                   int64\n",
       "gini_index          float64\n",
       "population_total      int64\n",
       "suicide_total         int32\n",
       "cell_use              int32\n",
       "internet_use        float64\n",
       "dtype: object"
      ]
     },
     "execution_count": 24,
     "metadata": {},
     "output_type": "execute_result"
    }
   ],
   "source": [
    "# Check datatypes\n",
    "merged_df.dtypes"
   ]
  },
  {
   "cell_type": "markdown",
   "metadata": {},
   "source": [
    "#### Feature engeenering "
   ]
  },
  {
   "cell_type": "code",
   "execution_count": 25,
   "metadata": {},
   "outputs": [],
   "source": [
    "# Calculate proportions of internet users, cell users, and the number of suicides % per country and year.\n",
    "merged_df['internet_use_%'] = merged_df.internet_use/merged_df.population_total*100\n",
    "merged_df['cell_use_%'] = merged_df.cell_use/merged_df.population_total*100\n",
    "merged_df['suicide_total_%'] = merged_df.suicide_total/merged_df.population_total*100"
   ]
  },
  {
   "cell_type": "code",
   "execution_count": 26,
   "metadata": {},
   "outputs": [],
   "source": [
    "# Calculate proportions per capita (per 100,000 people) for internet users, cell users, and the number of suicides.\n",
    "merged_df['internet_use_pc'] = merged_df.internet_use/merged_df.population_total*100000\n",
    "merged_df['cell_use_pc'] = merged_df.cell_use/merged_df.population_total*100000\n",
    "merged_df['suicide_total_pc'] = merged_df.suicide_total/merged_df.population_total*100000"
   ]
  },
  {
   "cell_type": "code",
   "execution_count": 27,
   "metadata": {},
   "outputs": [
    {
     "data": {
      "text/html": [
       "<div>\n",
       "<style scoped>\n",
       "    .dataframe tbody tr th:only-of-type {\n",
       "        vertical-align: middle;\n",
       "    }\n",
       "\n",
       "    .dataframe tbody tr th {\n",
       "        vertical-align: top;\n",
       "    }\n",
       "\n",
       "    .dataframe thead th {\n",
       "        text-align: right;\n",
       "    }\n",
       "</style>\n",
       "<table border=\"1\" class=\"dataframe\">\n",
       "  <thead>\n",
       "    <tr style=\"text-align: right;\">\n",
       "      <th></th>\n",
       "      <th>country</th>\n",
       "      <th>year</th>\n",
       "      <th>GDP</th>\n",
       "      <th>gini_index</th>\n",
       "      <th>population_total</th>\n",
       "      <th>suicide_total</th>\n",
       "      <th>cell_use</th>\n",
       "      <th>internet_use</th>\n",
       "      <th>internet_use_%</th>\n",
       "      <th>cell_use_%</th>\n",
       "      <th>suicide_total_%</th>\n",
       "      <th>internet_use_pc</th>\n",
       "      <th>cell_use_pc</th>\n",
       "      <th>suicide_total_pc</th>\n",
       "    </tr>\n",
       "  </thead>\n",
       "  <tbody>\n",
       "    <tr>\n",
       "      <th>0</th>\n",
       "      <td>Afghanistan</td>\n",
       "      <td>1990</td>\n",
       "      <td>1860</td>\n",
       "      <td>NaN</td>\n",
       "      <td>12400000</td>\n",
       "      <td>703</td>\n",
       "      <td>0</td>\n",
       "      <td>0.0</td>\n",
       "      <td>0.0</td>\n",
       "      <td>0.000000</td>\n",
       "      <td>0.005669</td>\n",
       "      <td>0.0</td>\n",
       "      <td>0.000000</td>\n",
       "      <td>5.669355</td>\n",
       "    </tr>\n",
       "    <tr>\n",
       "      <th>1</th>\n",
       "      <td>Albania</td>\n",
       "      <td>1990</td>\n",
       "      <td>4460</td>\n",
       "      <td>31.1875</td>\n",
       "      <td>3290000</td>\n",
       "      <td>127</td>\n",
       "      <td>0</td>\n",
       "      <td>0.0</td>\n",
       "      <td>0.0</td>\n",
       "      <td>0.000000</td>\n",
       "      <td>0.003860</td>\n",
       "      <td>0.0</td>\n",
       "      <td>0.000000</td>\n",
       "      <td>3.860182</td>\n",
       "    </tr>\n",
       "    <tr>\n",
       "      <th>2</th>\n",
       "      <td>Algeria</td>\n",
       "      <td>1990</td>\n",
       "      <td>10300</td>\n",
       "      <td>31.4500</td>\n",
       "      <td>25800000</td>\n",
       "      <td>806</td>\n",
       "      <td>470</td>\n",
       "      <td>0.0</td>\n",
       "      <td>0.0</td>\n",
       "      <td>0.001822</td>\n",
       "      <td>0.003124</td>\n",
       "      <td>0.0</td>\n",
       "      <td>1.821705</td>\n",
       "      <td>3.124031</td>\n",
       "    </tr>\n",
       "    <tr>\n",
       "      <th>3</th>\n",
       "      <td>Andorra</td>\n",
       "      <td>1990</td>\n",
       "      <td>28400</td>\n",
       "      <td>NaN</td>\n",
       "      <td>54500</td>\n",
       "      <td>5</td>\n",
       "      <td>0</td>\n",
       "      <td>0.0</td>\n",
       "      <td>0.0</td>\n",
       "      <td>0.000000</td>\n",
       "      <td>0.009174</td>\n",
       "      <td>0.0</td>\n",
       "      <td>0.000000</td>\n",
       "      <td>9.174312</td>\n",
       "    </tr>\n",
       "    <tr>\n",
       "      <th>4</th>\n",
       "      <td>Angola</td>\n",
       "      <td>1990</td>\n",
       "      <td>4760</td>\n",
       "      <td>47.3500</td>\n",
       "      <td>11800000</td>\n",
       "      <td>645</td>\n",
       "      <td>0</td>\n",
       "      <td>0.0</td>\n",
       "      <td>0.0</td>\n",
       "      <td>0.000000</td>\n",
       "      <td>0.005466</td>\n",
       "      <td>0.0</td>\n",
       "      <td>0.000000</td>\n",
       "      <td>5.466102</td>\n",
       "    </tr>\n",
       "  </tbody>\n",
       "</table>\n",
       "</div>"
      ],
      "text/plain": [
       "       country  year    GDP  gini_index  population_total  suicide_total  \\\n",
       "0  Afghanistan  1990   1860         NaN          12400000            703   \n",
       "1      Albania  1990   4460     31.1875           3290000            127   \n",
       "2      Algeria  1990  10300     31.4500          25800000            806   \n",
       "3      Andorra  1990  28400         NaN             54500              5   \n",
       "4       Angola  1990   4760     47.3500          11800000            645   \n",
       "\n",
       "   cell_use  internet_use  internet_use_%  cell_use_%  suicide_total_%  \\\n",
       "0         0           0.0             0.0    0.000000         0.005669   \n",
       "1         0           0.0             0.0    0.000000         0.003860   \n",
       "2       470           0.0             0.0    0.001822         0.003124   \n",
       "3         0           0.0             0.0    0.000000         0.009174   \n",
       "4         0           0.0             0.0    0.000000         0.005466   \n",
       "\n",
       "   internet_use_pc  cell_use_pc  suicide_total_pc  \n",
       "0              0.0     0.000000          5.669355  \n",
       "1              0.0     0.000000          3.860182  \n",
       "2              0.0     1.821705          3.124031  \n",
       "3              0.0     0.000000          9.174312  \n",
       "4              0.0     0.000000          5.466102  "
      ]
     },
     "execution_count": 27,
     "metadata": {},
     "output_type": "execute_result"
    }
   ],
   "source": [
    "# Check newly created columns in whole dataframe.\n",
    "merged_df.head(5)"
   ]
  },
  {
   "cell_type": "code",
   "execution_count": 28,
   "metadata": {},
   "outputs": [
    {
     "data": {
      "text/plain": [
       "Index(['country', 'year', 'GDP', 'gini_index', 'population_total',\n",
       "       'suicide_total', 'cell_use', 'internet_use', 'internet_use_%',\n",
       "       'cell_use_%', 'suicide_total_%', 'internet_use_pc', 'cell_use_pc',\n",
       "       'suicide_total_pc'],\n",
       "      dtype='object')"
      ]
     },
     "execution_count": 28,
     "metadata": {},
     "output_type": "execute_result"
    }
   ],
   "source": [
    "# Dipsplay columns in a list for faster reordering\n",
    "merged_df.columns"
   ]
  },
  {
   "cell_type": "code",
   "execution_count": 29,
   "metadata": {},
   "outputs": [],
   "source": [
    "# Reposition the columns\n",
    "merged_df = merged_df[['country', 'year', 'GDP','gini_index', 'population_total', 'cell_use',\n",
    "       'internet_use', 'suicide_total',  'internet_use_%', 'cell_use_%',\n",
    "       'suicide_total_%', 'internet_use_pc', 'cell_use_pc',\n",
    "       'suicide_total_pc']]"
   ]
  },
  {
   "cell_type": "code",
   "execution_count": 30,
   "metadata": {},
   "outputs": [
    {
     "data": {
      "text/html": [
       "<div>\n",
       "<style scoped>\n",
       "    .dataframe tbody tr th:only-of-type {\n",
       "        vertical-align: middle;\n",
       "    }\n",
       "\n",
       "    .dataframe tbody tr th {\n",
       "        vertical-align: top;\n",
       "    }\n",
       "\n",
       "    .dataframe thead th {\n",
       "        text-align: right;\n",
       "    }\n",
       "</style>\n",
       "<table border=\"1\" class=\"dataframe\">\n",
       "  <thead>\n",
       "    <tr style=\"text-align: right;\">\n",
       "      <th></th>\n",
       "      <th>country</th>\n",
       "      <th>year</th>\n",
       "      <th>GDP</th>\n",
       "      <th>gini_index</th>\n",
       "      <th>population_total</th>\n",
       "      <th>cell_use</th>\n",
       "      <th>internet_use</th>\n",
       "      <th>suicide_total</th>\n",
       "      <th>internet_use_%</th>\n",
       "      <th>cell_use_%</th>\n",
       "      <th>suicide_total_%</th>\n",
       "      <th>internet_use_pc</th>\n",
       "      <th>cell_use_pc</th>\n",
       "      <th>suicide_total_pc</th>\n",
       "    </tr>\n",
       "  </thead>\n",
       "  <tbody>\n",
       "    <tr>\n",
       "      <th>0</th>\n",
       "      <td>Afghanistan</td>\n",
       "      <td>1990</td>\n",
       "      <td>1860</td>\n",
       "      <td>NaN</td>\n",
       "      <td>12400000</td>\n",
       "      <td>0</td>\n",
       "      <td>0.0</td>\n",
       "      <td>703</td>\n",
       "      <td>0.0</td>\n",
       "      <td>0.000000</td>\n",
       "      <td>0.005669</td>\n",
       "      <td>0.0</td>\n",
       "      <td>0.000000</td>\n",
       "      <td>5.669355</td>\n",
       "    </tr>\n",
       "    <tr>\n",
       "      <th>1</th>\n",
       "      <td>Albania</td>\n",
       "      <td>1990</td>\n",
       "      <td>4460</td>\n",
       "      <td>31.1875</td>\n",
       "      <td>3290000</td>\n",
       "      <td>0</td>\n",
       "      <td>0.0</td>\n",
       "      <td>127</td>\n",
       "      <td>0.0</td>\n",
       "      <td>0.000000</td>\n",
       "      <td>0.003860</td>\n",
       "      <td>0.0</td>\n",
       "      <td>0.000000</td>\n",
       "      <td>3.860182</td>\n",
       "    </tr>\n",
       "    <tr>\n",
       "      <th>2</th>\n",
       "      <td>Algeria</td>\n",
       "      <td>1990</td>\n",
       "      <td>10300</td>\n",
       "      <td>31.4500</td>\n",
       "      <td>25800000</td>\n",
       "      <td>470</td>\n",
       "      <td>0.0</td>\n",
       "      <td>806</td>\n",
       "      <td>0.0</td>\n",
       "      <td>0.001822</td>\n",
       "      <td>0.003124</td>\n",
       "      <td>0.0</td>\n",
       "      <td>1.821705</td>\n",
       "      <td>3.124031</td>\n",
       "    </tr>\n",
       "    <tr>\n",
       "      <th>3</th>\n",
       "      <td>Andorra</td>\n",
       "      <td>1990</td>\n",
       "      <td>28400</td>\n",
       "      <td>NaN</td>\n",
       "      <td>54500</td>\n",
       "      <td>0</td>\n",
       "      <td>0.0</td>\n",
       "      <td>5</td>\n",
       "      <td>0.0</td>\n",
       "      <td>0.000000</td>\n",
       "      <td>0.009174</td>\n",
       "      <td>0.0</td>\n",
       "      <td>0.000000</td>\n",
       "      <td>9.174312</td>\n",
       "    </tr>\n",
       "    <tr>\n",
       "      <th>4</th>\n",
       "      <td>Angola</td>\n",
       "      <td>1990</td>\n",
       "      <td>4760</td>\n",
       "      <td>47.3500</td>\n",
       "      <td>11800000</td>\n",
       "      <td>0</td>\n",
       "      <td>0.0</td>\n",
       "      <td>645</td>\n",
       "      <td>0.0</td>\n",
       "      <td>0.000000</td>\n",
       "      <td>0.005466</td>\n",
       "      <td>0.0</td>\n",
       "      <td>0.000000</td>\n",
       "      <td>5.466102</td>\n",
       "    </tr>\n",
       "  </tbody>\n",
       "</table>\n",
       "</div>"
      ],
      "text/plain": [
       "       country  year    GDP  gini_index  population_total  cell_use  \\\n",
       "0  Afghanistan  1990   1860         NaN          12400000         0   \n",
       "1      Albania  1990   4460     31.1875           3290000         0   \n",
       "2      Algeria  1990  10300     31.4500          25800000       470   \n",
       "3      Andorra  1990  28400         NaN             54500         0   \n",
       "4       Angola  1990   4760     47.3500          11800000         0   \n",
       "\n",
       "   internet_use  suicide_total  internet_use_%  cell_use_%  suicide_total_%  \\\n",
       "0           0.0            703             0.0    0.000000         0.005669   \n",
       "1           0.0            127             0.0    0.000000         0.003860   \n",
       "2           0.0            806             0.0    0.001822         0.003124   \n",
       "3           0.0              5             0.0    0.000000         0.009174   \n",
       "4           0.0            645             0.0    0.000000         0.005466   \n",
       "\n",
       "   internet_use_pc  cell_use_pc  suicide_total_pc  \n",
       "0              0.0     0.000000          5.669355  \n",
       "1              0.0     0.000000          3.860182  \n",
       "2              0.0     1.821705          3.124031  \n",
       "3              0.0     0.000000          9.174312  \n",
       "4              0.0     0.000000          5.466102  "
      ]
     },
     "execution_count": 30,
     "metadata": {},
     "output_type": "execute_result"
    }
   ],
   "source": [
    "merged_df.head()"
   ]
  },
  {
   "cell_type": "markdown",
   "metadata": {},
   "source": [
    "*For a better comparison between countries, I create new columns % of total proportions per capita (per 100,000 people).*"
   ]
  },
  {
   "cell_type": "code",
   "execution_count": 31,
   "metadata": {},
   "outputs": [
    {
     "data": {
      "image/png": "[encoded data removed]",
      "text/plain": [
       "<Figure size 432x288 with 16 Axes>"
      ]
     },
     "metadata": {},
     "output_type": "display_data"
    }
   ],
   "source": [
    "# Check the gini index null values\n",
    "merged_df[merged_df.gini_index.isnull()].hist();"
   ]
  },
  {
   "cell_type": "code",
   "execution_count": 32,
   "metadata": {},
   "outputs": [
    {
     "data": {
      "text/html": [
       "<div>\n",
       "<style scoped>\n",
       "    .dataframe tbody tr th:only-of-type {\n",
       "        vertical-align: middle;\n",
       "    }\n",
       "\n",
       "    .dataframe tbody tr th {\n",
       "        vertical-align: top;\n",
       "    }\n",
       "\n",
       "    .dataframe thead th {\n",
       "        text-align: right;\n",
       "    }\n",
       "</style>\n",
       "<table border=\"1\" class=\"dataframe\">\n",
       "  <thead>\n",
       "    <tr style=\"text-align: right;\">\n",
       "      <th></th>\n",
       "      <th>country</th>\n",
       "      <th>year</th>\n",
       "      <th>GDP</th>\n",
       "      <th>gini_index</th>\n",
       "      <th>population_total</th>\n",
       "      <th>cell_use</th>\n",
       "      <th>internet_use</th>\n",
       "      <th>suicide_total</th>\n",
       "      <th>internet_use_%</th>\n",
       "      <th>cell_use_%</th>\n",
       "      <th>suicide_total_%</th>\n",
       "      <th>internet_use_pc</th>\n",
       "      <th>cell_use_pc</th>\n",
       "      <th>suicide_total_pc</th>\n",
       "    </tr>\n",
       "  </thead>\n",
       "  <tbody>\n",
       "    <tr>\n",
       "      <th>0</th>\n",
       "      <td>Afghanistan</td>\n",
       "      <td>1990</td>\n",
       "      <td>1860</td>\n",
       "      <td>NaN</td>\n",
       "      <td>12400000</td>\n",
       "      <td>0</td>\n",
       "      <td>0.0</td>\n",
       "      <td>703</td>\n",
       "      <td>0.0</td>\n",
       "      <td>0.0</td>\n",
       "      <td>0.005669</td>\n",
       "      <td>0.0</td>\n",
       "      <td>0.0</td>\n",
       "      <td>5.669355</td>\n",
       "    </tr>\n",
       "    <tr>\n",
       "      <th>3</th>\n",
       "      <td>Andorra</td>\n",
       "      <td>1990</td>\n",
       "      <td>28400</td>\n",
       "      <td>NaN</td>\n",
       "      <td>54500</td>\n",
       "      <td>0</td>\n",
       "      <td>0.0</td>\n",
       "      <td>5</td>\n",
       "      <td>0.0</td>\n",
       "      <td>0.0</td>\n",
       "      <td>0.009174</td>\n",
       "      <td>0.0</td>\n",
       "      <td>0.0</td>\n",
       "      <td>9.174312</td>\n",
       "    </tr>\n",
       "    <tr>\n",
       "      <th>5</th>\n",
       "      <td>Antigua and Barbuda</td>\n",
       "      <td>1990</td>\n",
       "      <td>17500</td>\n",
       "      <td>NaN</td>\n",
       "      <td>62500</td>\n",
       "      <td>0</td>\n",
       "      <td>0.0</td>\n",
       "      <td>1</td>\n",
       "      <td>0.0</td>\n",
       "      <td>0.0</td>\n",
       "      <td>0.001600</td>\n",
       "      <td>0.0</td>\n",
       "      <td>0.0</td>\n",
       "      <td>1.600000</td>\n",
       "    </tr>\n",
       "  </tbody>\n",
       "</table>\n",
       "</div>"
      ],
      "text/plain": [
       "               country  year    GDP  gini_index  population_total  cell_use  \\\n",
       "0          Afghanistan  1990   1860         NaN          12400000         0   \n",
       "3              Andorra  1990  28400         NaN             54500         0   \n",
       "5  Antigua and Barbuda  1990  17500         NaN             62500         0   \n",
       "\n",
       "   internet_use  suicide_total  internet_use_%  cell_use_%  suicide_total_%  \\\n",
       "0           0.0            703             0.0         0.0         0.005669   \n",
       "3           0.0              5             0.0         0.0         0.009174   \n",
       "5           0.0              1             0.0         0.0         0.001600   \n",
       "\n",
       "   internet_use_pc  cell_use_pc  suicide_total_pc  \n",
       "0              0.0          0.0          5.669355  \n",
       "3              0.0          0.0          9.174312  \n",
       "5              0.0          0.0          1.600000  "
      ]
     },
     "execution_count": 32,
     "metadata": {},
     "output_type": "execute_result"
    }
   ],
   "source": [
    "# Check what columns has null values for gini index:\n",
    "gini_null = merged_df[merged_df.gini_index.isnull()]\n",
    "gini_null.head(3)"
   ]
  },
  {
   "cell_type": "code",
   "execution_count": 33,
   "metadata": {},
   "outputs": [
    {
     "data": {
      "text/plain": [
       "New Zealand                       27\n",
       "Saudi Arabia                      27\n",
       "Libya                             27\n",
       "Grenada                           27\n",
       "Bahrain                           27\n",
       "Equatorial Guinea                 27\n",
       "Bahamas                           27\n",
       "Singapore                         27\n",
       "Dominica                          27\n",
       "Kuwait                            27\n",
       "Antigua and Barbuda               27\n",
       "Eritrea                           27\n",
       "North Korea                       27\n",
       "Afghanistan                       27\n",
       "Andorra                           27\n",
       "Oman                              27\n",
       "Cambodia                          27\n",
       "Cuba                              27\n",
       "Marshall Islands                  27\n",
       "Brunei                            27\n",
       "Qatar                             27\n",
       "St. Vincent and the Grenadines    27\n",
       "Somalia                           27\n",
       "Barbados                          27\n",
       "Name: country, dtype: int64"
      ]
     },
     "execution_count": 33,
     "metadata": {},
     "output_type": "execute_result"
    }
   ],
   "source": [
    "# List the countries without data for gini index\n",
    "gini_null.country.value_counts()"
   ]
  },
  {
   "cell_type": "markdown",
   "metadata": {},
   "source": [
    "# EDA"
   ]
  },
  {
   "cell_type": "markdown",
   "metadata": {},
   "source": [
    "# Suicide and GDP: Is GDP associated with suicide rate per country?"
   ]
  },
  {
   "cell_type": "markdown",
   "metadata": {},
   "source": [
    "*In this analysis I will use columns per capita (per 100,000 people); therefore I used `iloc` method to keep only columns created in feature engineering*"
   ]
  },
  {
   "cell_type": "code",
   "execution_count": 34,
   "metadata": {},
   "outputs": [
    {
     "data": {
      "text/html": [
       "<div>\n",
       "<style scoped>\n",
       "    .dataframe tbody tr th:only-of-type {\n",
       "        vertical-align: middle;\n",
       "    }\n",
       "\n",
       "    .dataframe tbody tr th {\n",
       "        vertical-align: top;\n",
       "    }\n",
       "\n",
       "    .dataframe thead th {\n",
       "        text-align: right;\n",
       "    }\n",
       "</style>\n",
       "<table border=\"1\" class=\"dataframe\">\n",
       "  <thead>\n",
       "    <tr style=\"text-align: right;\">\n",
       "      <th></th>\n",
       "      <th>country</th>\n",
       "      <th>year</th>\n",
       "      <th>GDP</th>\n",
       "      <th>internet_use_pc</th>\n",
       "      <th>cell_use_pc</th>\n",
       "      <th>suicide_total_pc</th>\n",
       "    </tr>\n",
       "  </thead>\n",
       "  <tbody>\n",
       "    <tr>\n",
       "      <th>0</th>\n",
       "      <td>Afghanistan</td>\n",
       "      <td>1990</td>\n",
       "      <td>1860</td>\n",
       "      <td>0.0</td>\n",
       "      <td>0.000000</td>\n",
       "      <td>5.669355</td>\n",
       "    </tr>\n",
       "    <tr>\n",
       "      <th>1</th>\n",
       "      <td>Albania</td>\n",
       "      <td>1990</td>\n",
       "      <td>4460</td>\n",
       "      <td>0.0</td>\n",
       "      <td>0.000000</td>\n",
       "      <td>3.860182</td>\n",
       "    </tr>\n",
       "    <tr>\n",
       "      <th>2</th>\n",
       "      <td>Algeria</td>\n",
       "      <td>1990</td>\n",
       "      <td>10300</td>\n",
       "      <td>0.0</td>\n",
       "      <td>1.821705</td>\n",
       "      <td>3.124031</td>\n",
       "    </tr>\n",
       "  </tbody>\n",
       "</table>\n",
       "</div>"
      ],
      "text/plain": [
       "       country  year    GDP  internet_use_pc  cell_use_pc  suicide_total_pc\n",
       "0  Afghanistan  1990   1860              0.0     0.000000          5.669355\n",
       "1      Albania  1990   4460              0.0     0.000000          3.860182\n",
       "2      Algeria  1990  10300              0.0     1.821705          3.124031"
      ]
     },
     "execution_count": 34,
     "metadata": {},
     "output_type": "execute_result"
    }
   ],
   "source": [
    "# Create df with columns per capita only\n",
    "pc_df = merged_df.iloc[:, np.r_[:3, 11:14]]\n",
    "pc_df.head(3)"
   ]
  },
  {
   "cell_type": "markdown",
   "metadata": {},
   "source": [
    "## For all countries"
   ]
  },
  {
   "cell_type": "markdown",
   "metadata": {},
   "source": [
    "#### FEW INVESTIGATING QUESTIONS"
   ]
  },
  {
   "cell_type": "code",
   "execution_count": 35,
   "metadata": {},
   "outputs": [
    {
     "data": {
      "text/plain": [
       "886"
      ]
     },
     "execution_count": 35,
     "metadata": {},
     "output_type": "execute_result"
    }
   ],
   "source": [
    "# Country and year with most suicides per capita - used idxmax to find the row where this information is:\n",
    "most_suicides_pc = pc_df.suicide_total_pc.idxmax(axis=1)\n",
    "most_suicides_pc"
   ]
  },
  {
   "cell_type": "code",
   "execution_count": 36,
   "metadata": {},
   "outputs": [
    {
     "data": {
      "text/plain": [
       "country              Russia\n",
       "year                   1994\n",
       "GDP                   13400\n",
       "internet_use_pc     53.9189\n",
       "cell_use_pc         18.7162\n",
       "suicide_total_pc    51.6216\n",
       "Name: 886, dtype: object"
      ]
     },
     "execution_count": 36,
     "metadata": {},
     "output_type": "execute_result"
    }
   ],
   "source": [
    "# Used iloc method to display data whit index found in the previous cell.\n",
    "most_suicides_pc = pc_df.iloc[886,:]\n",
    "most_suicides_pc"
   ]
  },
  {
   "cell_type": "code",
   "execution_count": 37,
   "metadata": {},
   "outputs": [
    {
     "data": {
      "text/plain": [
       "('Russia', 1994)"
      ]
     },
     "execution_count": 37,
     "metadata": {},
     "output_type": "execute_result"
    }
   ],
   "source": [
    "# Find a country and year with most suicides per capita - this is another way to get the same answer as cells above.\n",
    "most_suicides_pc1 = pc_df.groupby(['country','year']).mean()['suicide_total_pc'].idxmax(axis=1)\n",
    "most_suicides_pc1"
   ]
  },
  {
   "cell_type": "code",
   "execution_count": 38,
   "metadata": {},
   "outputs": [
    {
     "data": {
      "text/plain": [
       "1995"
      ]
     },
     "execution_count": 38,
     "metadata": {},
     "output_type": "execute_result"
    }
   ],
   "source": [
    "# Year with most suicides per capita.\n",
    "worst_year = pc_df.groupby(['year']).mean()['suicide_total_pc'].idxmax(axis=1)\n",
    "worst_year"
   ]
  },
  {
   "cell_type": "code",
   "execution_count": 39,
   "metadata": {},
   "outputs": [
    {
     "data": {
      "text/plain": [
       "('Sao Tome and Principe', 2002)"
      ]
     },
     "execution_count": 39,
     "metadata": {},
     "output_type": "execute_result"
    }
   ],
   "source": [
    "# Country and year with least suicides per capita.\n",
    "least_year = pc_df.groupby(['country','year']).mean()['suicide_total_pc'].idxmin(axis=1)\n",
    "least_year"
   ]
  },
  {
   "cell_type": "code",
   "execution_count": 40,
   "metadata": {},
   "outputs": [
    {
     "data": {
      "text/plain": [
       "2015"
      ]
     },
     "execution_count": 40,
     "metadata": {},
     "output_type": "execute_result"
    }
   ],
   "source": [
    "# Year with least suicides per capita.\n",
    "least_year = pc_df.groupby(['year']).mean()['suicide_total_pc'].idxmin(axis=1)\n",
    "least_year"
   ]
  },
  {
   "cell_type": "markdown",
   "metadata": {},
   "source": [
    "#### HISTOGRAM"
   ]
  },
  {
   "cell_type": "code",
   "execution_count": 41,
   "metadata": {},
   "outputs": [
    {
     "data": {
      "image/png": "[encoded data removed]",
      "text/plain": [
       "<Figure size 720x576 with 6 Axes>"
      ]
     },
     "metadata": {},
     "output_type": "display_data"
    }
   ],
   "source": [
    "# Plotting histograms \n",
    "pc_df.hist(figsize=(10,8), color='#1f77b4');"
   ]
  },
  {
   "cell_type": "markdown",
   "metadata": {},
   "source": [
    "*Explain the histograms* "
   ]
  },
  {
   "cell_type": "markdown",
   "metadata": {},
   "source": [
    "#### CORRELATION"
   ]
  },
  {
   "cell_type": "code",
   "execution_count": 42,
   "metadata": {},
   "outputs": [
    {
     "data": {
      "image/png": "[encoded data removed]",
      "text/plain": [
       "<Figure size 432x288 with 2 Axes>"
      ]
     },
     "metadata": {},
     "output_type": "display_data"
    }
   ],
   "source": [
    "# Plotting correlation coeficient heat map.\n",
    "pearsoncorr = pc_df.corr(method='pearson')\n",
    "pearsoncorr\n",
    "sns.heatmap(pearsoncorr, \n",
    "            xticklabels=pearsoncorr.columns,\n",
    "            yticklabels=pearsoncorr.columns,\n",
    "            cmap='RdBu_r',\n",
    "            annot=True,\n",
    "            linewidth=0.5);"
   ]
  },
  {
   "cell_type": "markdown",
   "metadata": {},
   "source": [
    "*Explain the matrix*"
   ]
  },
  {
   "cell_type": "code",
   "execution_count": 159,
   "metadata": {},
   "outputs": [
    {
     "data": {
      "image/png": "[encoded data removed]",
      "text/plain": [
       "<Figure size 432x288 with 1 Axes>"
      ]
     },
     "metadata": {},
     "output_type": "display_data"
    }
   ],
   "source": [
    "# Scatter plot between GDP and suicide\n",
    "pc_df.plot(x='GDP', y='suicide_total_pc', kind='scatter', c='#1f77b4');\n",
    "plt.title('Correlation between suicide per capita and GDP');"
   ]
  },
  {
   "cell_type": "markdown",
   "metadata": {},
   "source": [
    "#### SUICIDE TREND"
   ]
  },
  {
   "cell_type": "code",
   "execution_count": 157,
   "metadata": {},
   "outputs": [
    {
     "data": {
      "image/png": "[encoded data removed]",
      "text/plain": [
       "<Figure size 432x288 with 1 Axes>"
      ]
     },
     "metadata": {},
     "output_type": "display_data"
    }
   ],
   "source": [
    "# Suicide trend (here I used acctual number of suicides (not per capita))\n",
    "# What is the overall trend in suicide globally\n",
    "suicide_trend_all = merged_df.groupby(['year']).sum()['suicide_total']\n",
    "suicide_trend_all.plot(alpha=.4, color='blue', linewidth=2.5);\n",
    "\n",
    "# legend\n",
    "#plt.legend()\n",
    "# lebel and axis\n",
    "plt.ylabel('suicide per capita')\n",
    "plt.xlabel('year')\n",
    "plt.title('Suicide trend per capita globally');"
   ]
  },
  {
   "cell_type": "markdown",
   "metadata": {},
   "source": [
    "#### CELL PHONE USE"
   ]
  },
  {
   "cell_type": "code",
   "execution_count": 158,
   "metadata": {},
   "outputs": [
    {
     "data": {
      "image/png": "[encoded data removed]",
      "text/plain": [
       "<Figure size 432x288 with 1 Axes>"
      ]
     },
     "metadata": {},
     "output_type": "display_data"
    }
   ],
   "source": [
    "cell_trend_all = merged_df.groupby(['year']).sum()['cell_use']\n",
    "cell_trend_all.plot(alpha=.4, color='orange', linewidth=2.5);\n",
    "\n",
    "# legend\n",
    "#plt.legend()\n",
    "# lebel and axis\n",
    "plt.ylabel('suicide per capita')\n",
    "plt.xlabel('year')\n",
    "plt.title('Suicide trend per capita globally');"
   ]
  },
  {
   "cell_type": "markdown",
   "metadata": {},
   "source": [
    "*Explant the line chart: For this analysis I was planning to analyse if cell phone use is associated with the suicide. Soley based on this dataset I can't do any meaningful conclusions. Reading more about those two variable would be finding data that categorize data by age and run additional analyses. The only couple marks I could do is to mark milestones when cell phone firstly become popular in 1990, and with smartphone in 2010. However these are just assumptions and cannot make meaningful conclusions.*"
   ]
  },
  {
   "cell_type": "markdown",
   "metadata": {},
   "source": [
    "## Top 10 and bottom 10 countries with most/least suicides per capita"
   ]
  },
  {
   "cell_type": "code",
   "execution_count": 46,
   "metadata": {},
   "outputs": [],
   "source": [
    "### This cell is only for reference (note on the code that might be useful in the future).\n",
    "## suicide_top10_ = pc_df.groupby(['country']).agg({'suicide_total_pc': ['mean','min', 'max']})\n",
    "## suicide_top10_.columns =  ['s_mean','s_min', 's_max']                                          \n",
    "## suicide_top10_"
   ]
  },
  {
   "cell_type": "code",
   "execution_count": 47,
   "metadata": {},
   "outputs": [],
   "source": [
    "# Top 10 countries from 1990 - 2016, get top 10 and save in a list.\n",
    "suicide_top10 = pc_df.groupby(['country']).mean()['suicide_total_pc'].nlargest(10).to_frame().index.tolist()"
   ]
  },
  {
   "cell_type": "code",
   "execution_count": 49,
   "metadata": {},
   "outputs": [],
   "source": [
    "# Bottom 10 countries from 1990 - 2016, get bottom 10 and save in a list.\n",
    "suicide_bottom10 = pc_df.groupby(['country']).mean()['suicide_total_pc'].nsmallest(11).to_frame().index.tolist()"
   ]
  },
  {
   "cell_type": "code",
   "execution_count": 51,
   "metadata": {},
   "outputs": [],
   "source": [
    "# Remove Kuwait (recognized as outlier = GPA >100,000)\n",
    "suicide_bottom10.remove(\"Kuwait\")"
   ]
  },
  {
   "cell_type": "markdown",
   "metadata": {},
   "source": [
    "*Note: I found top 11, because during my analyis I found outlier - Kuwait, has GDP far above the average (100,000). Therefore, I excluded this country form analysis and replace it with next country in the bottom 10.*"
   ]
  },
  {
   "cell_type": "code",
   "execution_count": 52,
   "metadata": {},
   "outputs": [
    {
     "data": {
      "text/html": [
       "<div>\n",
       "<style scoped>\n",
       "    .dataframe tbody tr th:only-of-type {\n",
       "        vertical-align: middle;\n",
       "    }\n",
       "\n",
       "    .dataframe tbody tr th {\n",
       "        vertical-align: top;\n",
       "    }\n",
       "\n",
       "    .dataframe thead th {\n",
       "        text-align: right;\n",
       "    }\n",
       "</style>\n",
       "<table border=\"1\" class=\"dataframe\">\n",
       "  <thead>\n",
       "    <tr style=\"text-align: right;\">\n",
       "      <th></th>\n",
       "      <th>country</th>\n",
       "      <th>year</th>\n",
       "      <th>GDP</th>\n",
       "      <th>internet_use_pc</th>\n",
       "      <th>cell_use_pc</th>\n",
       "      <th>suicide_total_pc</th>\n",
       "    </tr>\n",
       "  </thead>\n",
       "  <tbody>\n",
       "    <tr>\n",
       "      <th>15</th>\n",
       "      <td>Belarus</td>\n",
       "      <td>1990</td>\n",
       "      <td>8370</td>\n",
       "      <td>0.0</td>\n",
       "      <td>0.0</td>\n",
       "      <td>24.215686</td>\n",
       "    </tr>\n",
       "    <tr>\n",
       "      <th>55</th>\n",
       "      <td>Estonia</td>\n",
       "      <td>1990</td>\n",
       "      <td>14300</td>\n",
       "      <td>0.0</td>\n",
       "      <td>0.0</td>\n",
       "      <td>30.000000</td>\n",
       "    </tr>\n",
       "  </tbody>\n",
       "</table>\n",
       "</div>"
      ],
      "text/plain": [
       "    country  year    GDP  internet_use_pc  cell_use_pc  suicide_total_pc\n",
       "15  Belarus  1990   8370              0.0          0.0         24.215686\n",
       "55  Estonia  1990  14300              0.0          0.0         30.000000"
      ]
     },
     "execution_count": 52,
     "metadata": {},
     "output_type": "execute_result"
    }
   ],
   "source": [
    "# get the data frame for top 10\n",
    "top_10_countries_suicide = pc_df[pc_df['country'].isin(suicide_top10)]\n",
    "top_10_countries_suicide.head(2)"
   ]
  },
  {
   "cell_type": "code",
   "execution_count": 53,
   "metadata": {},
   "outputs": [
    {
     "data": {
      "text/html": [
       "<div>\n",
       "<style scoped>\n",
       "    .dataframe tbody tr th:only-of-type {\n",
       "        vertical-align: middle;\n",
       "    }\n",
       "\n",
       "    .dataframe tbody tr th {\n",
       "        vertical-align: top;\n",
       "    }\n",
       "\n",
       "    .dataframe thead th {\n",
       "        text-align: right;\n",
       "    }\n",
       "</style>\n",
       "<table border=\"1\" class=\"dataframe\">\n",
       "  <thead>\n",
       "    <tr style=\"text-align: right;\">\n",
       "      <th></th>\n",
       "      <th>country</th>\n",
       "      <th>year</th>\n",
       "      <th>GDP</th>\n",
       "      <th>internet_use_pc</th>\n",
       "      <th>cell_use_pc</th>\n",
       "      <th>suicide_total_pc</th>\n",
       "    </tr>\n",
       "  </thead>\n",
       "  <tbody>\n",
       "    <tr>\n",
       "      <th>5</th>\n",
       "      <td>Antigua and Barbuda</td>\n",
       "      <td>1990</td>\n",
       "      <td>17500</td>\n",
       "      <td>0.0</td>\n",
       "      <td>0.0</td>\n",
       "      <td>1.600000</td>\n",
       "    </tr>\n",
       "    <tr>\n",
       "      <th>11</th>\n",
       "      <td>Bahamas</td>\n",
       "      <td>1990</td>\n",
       "      <td>31000</td>\n",
       "      <td>0.0</td>\n",
       "      <td>750.0</td>\n",
       "      <td>2.734375</td>\n",
       "    </tr>\n",
       "  </tbody>\n",
       "</table>\n",
       "</div>"
      ],
      "text/plain": [
       "                country  year    GDP  internet_use_pc  cell_use_pc  \\\n",
       "5   Antigua and Barbuda  1990  17500              0.0          0.0   \n",
       "11              Bahamas  1990  31000              0.0        750.0   \n",
       "\n",
       "    suicide_total_pc  \n",
       "5           1.600000  \n",
       "11          2.734375  "
      ]
     },
     "execution_count": 53,
     "metadata": {},
     "output_type": "execute_result"
    }
   ],
   "source": [
    "# get the data frame for top 10\n",
    "bottom_10_countries_suicide = pc_df[pc_df['country'].isin(suicide_bottom10)]\n",
    "bottom_10_countries_suicide.head(2)"
   ]
  },
  {
   "cell_type": "markdown",
   "metadata": {},
   "source": [
    "### Compare top and bottom 10 countries"
   ]
  },
  {
   "cell_type": "markdown",
   "metadata": {},
   "source": [
    "#### Summary statistics & GDP comparison"
   ]
  },
  {
   "cell_type": "code",
   "execution_count": 54,
   "metadata": {},
   "outputs": [
    {
     "data": {
      "text/html": [
       "<div>\n",
       "<style scoped>\n",
       "    .dataframe tbody tr th:only-of-type {\n",
       "        vertical-align: middle;\n",
       "    }\n",
       "\n",
       "    .dataframe tbody tr th {\n",
       "        vertical-align: top;\n",
       "    }\n",
       "\n",
       "    .dataframe thead th {\n",
       "        text-align: right;\n",
       "    }\n",
       "</style>\n",
       "<table border=\"1\" class=\"dataframe\">\n",
       "  <thead>\n",
       "    <tr style=\"text-align: right;\">\n",
       "      <th></th>\n",
       "      <th>year</th>\n",
       "      <th>GDP</th>\n",
       "      <th>internet_use_pc</th>\n",
       "      <th>cell_use_pc</th>\n",
       "      <th>suicide_total_pc</th>\n",
       "    </tr>\n",
       "  </thead>\n",
       "  <tbody>\n",
       "    <tr>\n",
       "      <th>count</th>\n",
       "      <td>270.000000</td>\n",
       "      <td>270.000000</td>\n",
       "      <td>270.000000</td>\n",
       "      <td>270.000000</td>\n",
       "      <td>270.000000</td>\n",
       "    </tr>\n",
       "    <tr>\n",
       "      <th>mean</th>\n",
       "      <td>2003.000000</td>\n",
       "      <td>15475.037037</td>\n",
       "      <td>24973.506555</td>\n",
       "      <td>59099.954357</td>\n",
       "      <td>33.934861</td>\n",
       "    </tr>\n",
       "    <tr>\n",
       "      <th>std</th>\n",
       "      <td>7.803345</td>\n",
       "      <td>7162.594634</td>\n",
       "      <td>28542.198417</td>\n",
       "      <td>58347.859254</td>\n",
       "      <td>7.761825</td>\n",
       "    </tr>\n",
       "    <tr>\n",
       "      <th>min</th>\n",
       "      <td>1990.000000</td>\n",
       "      <td>3610.000000</td>\n",
       "      <td>0.000000</td>\n",
       "      <td>0.000000</td>\n",
       "      <td>19.015152</td>\n",
       "    </tr>\n",
       "    <tr>\n",
       "      <th>25%</th>\n",
       "      <td>1996.000000</td>\n",
       "      <td>8837.500000</td>\n",
       "      <td>362.115065</td>\n",
       "      <td>488.549465</td>\n",
       "      <td>27.427362</td>\n",
       "    </tr>\n",
       "    <tr>\n",
       "      <th>50%</th>\n",
       "      <td>2003.000000</td>\n",
       "      <td>15100.000000</td>\n",
       "      <td>8948.192471</td>\n",
       "      <td>41595.029796</td>\n",
       "      <td>33.927374</td>\n",
       "    </tr>\n",
       "    <tr>\n",
       "      <th>75%</th>\n",
       "      <td>2010.000000</td>\n",
       "      <td>21900.000000</td>\n",
       "      <td>53236.651204</td>\n",
       "      <td>115182.719645</td>\n",
       "      <td>39.302554</td>\n",
       "    </tr>\n",
       "    <tr>\n",
       "      <th>max</th>\n",
       "      <td>2016.000000</td>\n",
       "      <td>31100.000000</td>\n",
       "      <td>87878.787879</td>\n",
       "      <td>179761.904762</td>\n",
       "      <td>51.621622</td>\n",
       "    </tr>\n",
       "  </tbody>\n",
       "</table>\n",
       "</div>"
      ],
      "text/plain": [
       "              year           GDP  internet_use_pc    cell_use_pc  \\\n",
       "count   270.000000    270.000000       270.000000     270.000000   \n",
       "mean   2003.000000  15475.037037     24973.506555   59099.954357   \n",
       "std       7.803345   7162.594634     28542.198417   58347.859254   \n",
       "min    1990.000000   3610.000000         0.000000       0.000000   \n",
       "25%    1996.000000   8837.500000       362.115065     488.549465   \n",
       "50%    2003.000000  15100.000000      8948.192471   41595.029796   \n",
       "75%    2010.000000  21900.000000     53236.651204  115182.719645   \n",
       "max    2016.000000  31100.000000     87878.787879  179761.904762   \n",
       "\n",
       "       suicide_total_pc  \n",
       "count        270.000000  \n",
       "mean          33.934861  \n",
       "std            7.761825  \n",
       "min           19.015152  \n",
       "25%           27.427362  \n",
       "50%           33.927374  \n",
       "75%           39.302554  \n",
       "max           51.621622  "
      ]
     },
     "execution_count": 54,
     "metadata": {},
     "output_type": "execute_result"
    }
   ],
   "source": [
    "# Top 10\n",
    "top_10_countries_suicide.describe()"
   ]
  },
  {
   "cell_type": "code",
   "execution_count": 55,
   "metadata": {},
   "outputs": [
    {
     "data": {
      "text/html": [
       "<div>\n",
       "<style scoped>\n",
       "    .dataframe tbody tr th:only-of-type {\n",
       "        vertical-align: middle;\n",
       "    }\n",
       "\n",
       "    .dataframe tbody tr th {\n",
       "        vertical-align: top;\n",
       "    }\n",
       "\n",
       "    .dataframe thead th {\n",
       "        text-align: right;\n",
       "    }\n",
       "</style>\n",
       "<table border=\"1\" class=\"dataframe\">\n",
       "  <thead>\n",
       "    <tr style=\"text-align: right;\">\n",
       "      <th></th>\n",
       "      <th>year</th>\n",
       "      <th>GDP</th>\n",
       "      <th>internet_use_pc</th>\n",
       "      <th>cell_use_pc</th>\n",
       "      <th>suicide_total_pc</th>\n",
       "    </tr>\n",
       "  </thead>\n",
       "  <tbody>\n",
       "    <tr>\n",
       "      <th>count</th>\n",
       "      <td>270.000000</td>\n",
       "      <td>270.000000</td>\n",
       "      <td>270.000000</td>\n",
       "      <td>270.000000</td>\n",
       "      <td>270.000000</td>\n",
       "    </tr>\n",
       "    <tr>\n",
       "      <th>mean</th>\n",
       "      <td>2003.000000</td>\n",
       "      <td>17559.518519</td>\n",
       "      <td>18392.023323</td>\n",
       "      <td>45707.569221</td>\n",
       "      <td>2.373274</td>\n",
       "    </tr>\n",
       "    <tr>\n",
       "      <th>std</th>\n",
       "      <td>7.803345</td>\n",
       "      <td>15372.655107</td>\n",
       "      <td>22390.672175</td>\n",
       "      <td>53408.665349</td>\n",
       "      <td>0.554937</td>\n",
       "    </tr>\n",
       "    <tr>\n",
       "      <th>min</th>\n",
       "      <td>1990.000000</td>\n",
       "      <td>1960.000000</td>\n",
       "      <td>0.000000</td>\n",
       "      <td>0.000000</td>\n",
       "      <td>1.360544</td>\n",
       "    </tr>\n",
       "    <tr>\n",
       "      <th>25%</th>\n",
       "      <td>1996.000000</td>\n",
       "      <td>5315.000000</td>\n",
       "      <td>54.975879</td>\n",
       "      <td>627.088134</td>\n",
       "      <td>1.949191</td>\n",
       "    </tr>\n",
       "    <tr>\n",
       "      <th>50%</th>\n",
       "      <td>2003.000000</td>\n",
       "      <td>9340.000000</td>\n",
       "      <td>7977.663591</td>\n",
       "      <td>20574.468085</td>\n",
       "      <td>2.331982</td>\n",
       "    </tr>\n",
       "    <tr>\n",
       "      <th>75%</th>\n",
       "      <td>2010.000000</td>\n",
       "      <td>29700.000000</td>\n",
       "      <td>28103.645847</td>\n",
       "      <td>77552.469939</td>\n",
       "      <td>2.720394</td>\n",
       "    </tr>\n",
       "    <tr>\n",
       "      <th>max</th>\n",
       "      <td>2016.000000</td>\n",
       "      <td>50500.000000</td>\n",
       "      <td>79894.179894</td>\n",
       "      <td>197088.465845</td>\n",
       "      <td>3.678571</td>\n",
       "    </tr>\n",
       "  </tbody>\n",
       "</table>\n",
       "</div>"
      ],
      "text/plain": [
       "              year           GDP  internet_use_pc    cell_use_pc  \\\n",
       "count   270.000000    270.000000       270.000000     270.000000   \n",
       "mean   2003.000000  17559.518519     18392.023323   45707.569221   \n",
       "std       7.803345  15372.655107     22390.672175   53408.665349   \n",
       "min    1990.000000   1960.000000         0.000000       0.000000   \n",
       "25%    1996.000000   5315.000000        54.975879     627.088134   \n",
       "50%    2003.000000   9340.000000      7977.663591   20574.468085   \n",
       "75%    2010.000000  29700.000000     28103.645847   77552.469939   \n",
       "max    2016.000000  50500.000000     79894.179894  197088.465845   \n",
       "\n",
       "       suicide_total_pc  \n",
       "count        270.000000  \n",
       "mean           2.373274  \n",
       "std            0.554937  \n",
       "min            1.360544  \n",
       "25%            1.949191  \n",
       "50%            2.331982  \n",
       "75%            2.720394  \n",
       "max            3.678571  "
      ]
     },
     "execution_count": 55,
     "metadata": {},
     "output_type": "execute_result"
    }
   ],
   "source": [
    "# Bottom 10\n",
    "bottom_10_countries_suicide.describe()"
   ]
  },
  {
   "cell_type": "markdown",
   "metadata": {},
   "source": [
    "*Describe summary stats*"
   ]
  },
  {
   "cell_type": "code",
   "execution_count": 56,
   "metadata": {},
   "outputs": [],
   "source": [
    "# Box plots to compare GDP of top 10 and bottom 10"
   ]
  },
  {
   "cell_type": "code",
   "execution_count": 109,
   "metadata": {},
   "outputs": [
    {
     "data": {
      "image/png": "[encoded data removed]",
      "text/plain": [
       "<Figure size 720x432 with 1 Axes>"
      ]
     },
     "metadata": {},
     "output_type": "display_data"
    }
   ],
   "source": [
    "#Plot the Box & Whiskers\n",
    "x_labels = [\"Top 10 Countries\", \"Bottom 10 Countries\"]\n",
    "DGP = [top_10_countries_suicide.GDP, bottom_10_countries_suicide.GDP]\n",
    "fig, ax = plt.subplots(figsize=(10, 6))\n",
    "ax.boxplot(DGP, labels=x_labels)\n",
    "\n",
    "#Ticks & Labels\n",
    "plt.xticks(fontsize=12)\n",
    "plt.yticks(fontsize=10)\n",
    "\n",
    "ax.set_yticks(np.arange(0, 70000, step=10000))\n",
    "ax.set_title('GDP comparison between the top and bottom 10 countries in suicides',fontsize=14)\n",
    "ax.set_ylabel('GDP',fontsize=12);\n",
    "#ax.set_xlabel(\"name\",fontsize=14);"
   ]
  },
  {
   "cell_type": "code",
   "execution_count": 69,
   "metadata": {},
   "outputs": [
    {
     "data": {
      "image/png": "[encoded data removed]",
      "text/plain": [
       "<Figure size 432x288 with 1 Axes>"
      ]
     },
     "metadata": {},
     "output_type": "display_data"
    }
   ],
   "source": [
    "# histogram - GDP\n",
    "bottom_10_countries_suicide.GDP.hist(alpha=.4, color='blue', label='bottom_10'), \n",
    "top_10_countries_suicide.GDP.hist(alpha=.4, color='red', label='top_10')\n",
    "\n",
    "# legend\n",
    "plt.legend()\n",
    "\n",
    "# lebel and axis\n",
    "plt.ylabel('GDP frequency')\n",
    "plt.xlabel('GDP')\n",
    "plt.title('GDP comparison between the top and bottom 10 countries in suicides');"
   ]
  },
  {
   "cell_type": "markdown",
   "metadata": {},
   "source": [
    "#### Suicide Trend"
   ]
  },
  {
   "cell_type": "code",
   "execution_count": 79,
   "metadata": {},
   "outputs": [
    {
     "data": {
      "image/png": "[encoded data removed]",
      "text/plain": [
       "<Figure size 432x288 with 1 Axes>"
      ]
     },
     "metadata": {},
     "output_type": "display_data"
    }
   ],
   "source": [
    "# Top 10 - suicide trend\n",
    "trend_top10 = top_10_countries_suicide.groupby(['year']).mean()['suicide_total_pc']\n",
    "trend_top10.plot(alpha=.4, color='red', label='top_10', linewidth=2.5);\n",
    "# legend\n",
    "plt.legend()\n",
    "# lebel and axis\n",
    "plt.ylabel('suicide per capita')\n",
    "plt.xlabel('year')\n",
    "plt.title('Suicide trend per capita in top ten countries');"
   ]
  },
  {
   "cell_type": "code",
   "execution_count": 80,
   "metadata": {},
   "outputs": [
    {
     "data": {
      "image/png": "[encoded data removed]",
      "text/plain": [
       "<Figure size 432x288 with 1 Axes>"
      ]
     },
     "metadata": {},
     "output_type": "display_data"
    }
   ],
   "source": [
    "# Bottom 10 - suicide trend\n",
    "trend_bottom10 = bottom_10_countries_suicide.groupby(['year']).mean()['suicide_total_pc']\n",
    "trend_bottom10.plot(alpha=.4, color='blue', label='bottom_10', linewidth=2.5);\n",
    "# legend\n",
    "plt.legend()\n",
    "# lebel and axis\n",
    "plt.ylabel('suicide per capita')\n",
    "plt.xlabel('year')\n",
    "plt.title('Suicide trend per capita in bottom ten countries');"
   ]
  },
  {
   "cell_type": "markdown",
   "metadata": {},
   "source": [
    "*Explain Trend*"
   ]
  },
  {
   "cell_type": "code",
   "execution_count": 128,
   "metadata": {},
   "outputs": [
    {
     "data": {
      "image/png": "[encoded data removed]",
      "text/plain": [
       "<Figure size 432x288 with 1 Axes>"
      ]
     },
     "metadata": {},
     "output_type": "display_data"
    }
   ],
   "source": [
    "x_axis = top_10_countries_suicide.country\n",
    "y_axis = top_10_countries_suicide.suicide_total_pc\n",
    "plt.xticks(rotation = 45)\n",
    "plt.bar(x_axis, y_axis, label='suicide_total_pc', alpha=.2, color='red')\n",
    "# legend\n",
    "#plt.legend()\n",
    "# lebel and axis\n",
    "plt.ylabel('suicide per capita')\n",
    "plt.xlabel('year')\n",
    "plt.title('Countries with the most suicide per capita');"
   ]
  },
  {
   "cell_type": "code",
   "execution_count": 133,
   "metadata": {},
   "outputs": [
    {
     "data": {
      "image/png": "[encoded data removed]",
      "text/plain": [
       "<Figure size 432x288 with 1 Axes>"
      ]
     },
     "metadata": {},
     "output_type": "display_data"
    }
   ],
   "source": [
    "# Check the trend for Slovenia.\n",
    "slovenia = top_10_countries_suicide.query('country == \"Slovenia\"')\n",
    "slovenia.groupby(['year']).mean()['suicide_total_pc'].plot(alpha=.7, color='green', linewidth=2.5);\n",
    "# legend\n",
    "#plt.legend()\n",
    "# lebel and axis\n",
    "plt.ylabel('suicide per capita')\n",
    "plt.xlabel('year')\n",
    "plt.title('Suicide trend in Slovenia');"
   ]
  },
  {
   "cell_type": "code",
   "execution_count": 114,
   "metadata": {},
   "outputs": [],
   "source": [
    "# CHECK THE TREND"
   ]
  },
  {
   "cell_type": "code",
   "execution_count": 126,
   "metadata": {},
   "outputs": [
    {
     "data": {
      "image/png": "[encoded data removed]",
      "text/plain": [
       "<Figure size 432x288 with 1 Axes>"
      ]
     },
     "metadata": {},
     "output_type": "display_data"
    }
   ],
   "source": [
    "x_axis = bottom_10_countries_suicide.country\n",
    "y_axis = bottom_10_countries_suicide.suicide_total_pc\n",
    "plt.xticks(rotation = 90)\n",
    "plt.bar(x_axis, y_axis, label='suicide_total_pc', alpha=.2, color='blue')\n",
    "# legend\n",
    "#plt.legend()\n",
    "# lebel and axis\n",
    "plt.ylabel('suicide per capita')\n",
    "plt.xlabel('year')\n",
    "plt.title('Countries with the least suicide per capita');"
   ]
  },
  {
   "cell_type": "code",
   "execution_count": 132,
   "metadata": {},
   "outputs": [
    {
     "data": {
      "image/png": "[encoded data removed]",
      "text/plain": [
       "<Figure size 432x288 with 1 Axes>"
      ]
     },
     "metadata": {},
     "output_type": "display_data"
    }
   ],
   "source": [
    "# Check the trend for Saudi Arabia.\n",
    "saudi_arabia = bottom_10_countries_suicide.query('country == \"Saudi Arabia\"')\n",
    "saudi_arabia.groupby(['year']).mean()['suicide_total_pc'].plot(alpha=.7, color='orange', linewidth=2.5);\n",
    "# legend\n",
    "#plt.legend()\n",
    "# lebel and axis\n",
    "plt.ylabel('suicide per capita')\n",
    "plt.xlabel('year')\n",
    "plt.title('Suicide trend in Saudi Arabia');"
   ]
  },
  {
   "cell_type": "markdown",
   "metadata": {},
   "source": [
    "### Suicide trend line chart from 2010 - 2016"
   ]
  },
  {
   "cell_type": "code",
   "execution_count": 134,
   "metadata": {},
   "outputs": [],
   "source": [
    "# Create df for only 2010 - 2016\n",
    "main_df_reduced = merged_df.loc[merged_df.year > 2009,:]"
   ]
  },
  {
   "cell_type": "code",
   "execution_count": 138,
   "metadata": {},
   "outputs": [
    {
     "data": {
      "image/png": "[encoded data removed]",
      "text/plain": [
       "<Figure size 432x288 with 1 Axes>"
      ]
     },
     "metadata": {},
     "output_type": "display_data"
    }
   ],
   "source": [
    "# Suicide trend (here I used acctual number of suicides (not per capita))\n",
    "# What is the overall trend in suicide globally\n",
    "suicide_trend_all_reduced = main_df_reduced.groupby(['year']).sum()['suicide_total']\n",
    "suicide_trend_all_reduced.plot(alpha=.4, color='purple', label='bottom_10', linewidth=2.5);\n",
    "\n",
    "# legend\n",
    "#plt.legend()\n",
    "# lebel and axis\n",
    "plt.ylabel('total number of suicide')\n",
    "plt.xlabel('year')\n",
    "plt.title('Trend of suicide globally form 2010 - 2016');"
   ]
  },
  {
   "cell_type": "markdown",
   "metadata": {},
   "source": [
    "*Explain the line chart*"
   ]
  },
  {
   "cell_type": "markdown",
   "metadata": {},
   "source": [
    "#  Suicide and gini-index: Is gini index associated with suicide rate per country"
   ]
  },
  {
   "cell_type": "code",
   "execution_count": 139,
   "metadata": {},
   "outputs": [
    {
     "data": {
      "text/html": [
       "<div>\n",
       "<style scoped>\n",
       "    .dataframe tbody tr th:only-of-type {\n",
       "        vertical-align: middle;\n",
       "    }\n",
       "\n",
       "    .dataframe tbody tr th {\n",
       "        vertical-align: top;\n",
       "    }\n",
       "\n",
       "    .dataframe thead th {\n",
       "        text-align: right;\n",
       "    }\n",
       "</style>\n",
       "<table border=\"1\" class=\"dataframe\">\n",
       "  <thead>\n",
       "    <tr style=\"text-align: right;\">\n",
       "      <th></th>\n",
       "      <th>country</th>\n",
       "      <th>year</th>\n",
       "      <th>GDP</th>\n",
       "      <th>gini_index</th>\n",
       "      <th>population_total</th>\n",
       "      <th>cell_use</th>\n",
       "      <th>internet_use</th>\n",
       "      <th>suicide_total</th>\n",
       "      <th>internet_use_%</th>\n",
       "      <th>cell_use_%</th>\n",
       "      <th>suicide_total_%</th>\n",
       "      <th>internet_use_pc</th>\n",
       "      <th>cell_use_pc</th>\n",
       "      <th>suicide_total_pc</th>\n",
       "    </tr>\n",
       "  </thead>\n",
       "  <tbody>\n",
       "    <tr>\n",
       "      <th>0</th>\n",
       "      <td>Afghanistan</td>\n",
       "      <td>1990</td>\n",
       "      <td>1860</td>\n",
       "      <td>NaN</td>\n",
       "      <td>12400000</td>\n",
       "      <td>0</td>\n",
       "      <td>0.0</td>\n",
       "      <td>703</td>\n",
       "      <td>0.0</td>\n",
       "      <td>0.000000</td>\n",
       "      <td>0.005669</td>\n",
       "      <td>0.0</td>\n",
       "      <td>0.000000</td>\n",
       "      <td>5.669355</td>\n",
       "    </tr>\n",
       "    <tr>\n",
       "      <th>1</th>\n",
       "      <td>Albania</td>\n",
       "      <td>1990</td>\n",
       "      <td>4460</td>\n",
       "      <td>31.1875</td>\n",
       "      <td>3290000</td>\n",
       "      <td>0</td>\n",
       "      <td>0.0</td>\n",
       "      <td>127</td>\n",
       "      <td>0.0</td>\n",
       "      <td>0.000000</td>\n",
       "      <td>0.003860</td>\n",
       "      <td>0.0</td>\n",
       "      <td>0.000000</td>\n",
       "      <td>3.860182</td>\n",
       "    </tr>\n",
       "    <tr>\n",
       "      <th>2</th>\n",
       "      <td>Algeria</td>\n",
       "      <td>1990</td>\n",
       "      <td>10300</td>\n",
       "      <td>31.4500</td>\n",
       "      <td>25800000</td>\n",
       "      <td>470</td>\n",
       "      <td>0.0</td>\n",
       "      <td>806</td>\n",
       "      <td>0.0</td>\n",
       "      <td>0.001822</td>\n",
       "      <td>0.003124</td>\n",
       "      <td>0.0</td>\n",
       "      <td>1.821705</td>\n",
       "      <td>3.124031</td>\n",
       "    </tr>\n",
       "    <tr>\n",
       "      <th>3</th>\n",
       "      <td>Andorra</td>\n",
       "      <td>1990</td>\n",
       "      <td>28400</td>\n",
       "      <td>NaN</td>\n",
       "      <td>54500</td>\n",
       "      <td>0</td>\n",
       "      <td>0.0</td>\n",
       "      <td>5</td>\n",
       "      <td>0.0</td>\n",
       "      <td>0.000000</td>\n",
       "      <td>0.009174</td>\n",
       "      <td>0.0</td>\n",
       "      <td>0.000000</td>\n",
       "      <td>9.174312</td>\n",
       "    </tr>\n",
       "    <tr>\n",
       "      <th>4</th>\n",
       "      <td>Angola</td>\n",
       "      <td>1990</td>\n",
       "      <td>4760</td>\n",
       "      <td>47.3500</td>\n",
       "      <td>11800000</td>\n",
       "      <td>0</td>\n",
       "      <td>0.0</td>\n",
       "      <td>645</td>\n",
       "      <td>0.0</td>\n",
       "      <td>0.000000</td>\n",
       "      <td>0.005466</td>\n",
       "      <td>0.0</td>\n",
       "      <td>0.000000</td>\n",
       "      <td>5.466102</td>\n",
       "    </tr>\n",
       "  </tbody>\n",
       "</table>\n",
       "</div>"
      ],
      "text/plain": [
       "       country  year    GDP  gini_index  population_total  cell_use  \\\n",
       "0  Afghanistan  1990   1860         NaN          12400000         0   \n",
       "1      Albania  1990   4460     31.1875           3290000         0   \n",
       "2      Algeria  1990  10300     31.4500          25800000       470   \n",
       "3      Andorra  1990  28400         NaN             54500         0   \n",
       "4       Angola  1990   4760     47.3500          11800000         0   \n",
       "\n",
       "   internet_use  suicide_total  internet_use_%  cell_use_%  suicide_total_%  \\\n",
       "0           0.0            703             0.0    0.000000         0.005669   \n",
       "1           0.0            127             0.0    0.000000         0.003860   \n",
       "2           0.0            806             0.0    0.001822         0.003124   \n",
       "3           0.0              5             0.0    0.000000         0.009174   \n",
       "4           0.0            645             0.0    0.000000         0.005466   \n",
       "\n",
       "   internet_use_pc  cell_use_pc  suicide_total_pc  \n",
       "0              0.0     0.000000          5.669355  \n",
       "1              0.0     0.000000          3.860182  \n",
       "2              0.0     1.821705          3.124031  \n",
       "3              0.0     0.000000          9.174312  \n",
       "4              0.0     0.000000          5.466102  "
      ]
     },
     "execution_count": 139,
     "metadata": {},
     "output_type": "execute_result"
    }
   ],
   "source": [
    "merged_df.head()"
   ]
  },
  {
   "cell_type": "code",
   "execution_count": 140,
   "metadata": {},
   "outputs": [],
   "source": [
    "merged_df_gini = merged_df.dropna()"
   ]
  },
  {
   "cell_type": "code",
   "execution_count": 141,
   "metadata": {},
   "outputs": [
    {
     "data": {
      "text/html": [
       "<div>\n",
       "<style scoped>\n",
       "    .dataframe tbody tr th:only-of-type {\n",
       "        vertical-align: middle;\n",
       "    }\n",
       "\n",
       "    .dataframe tbody tr th {\n",
       "        vertical-align: top;\n",
       "    }\n",
       "\n",
       "    .dataframe thead th {\n",
       "        text-align: right;\n",
       "    }\n",
       "</style>\n",
       "<table border=\"1\" class=\"dataframe\">\n",
       "  <thead>\n",
       "    <tr style=\"text-align: right;\">\n",
       "      <th></th>\n",
       "      <th>country</th>\n",
       "      <th>year</th>\n",
       "      <th>GDP</th>\n",
       "      <th>gini_index</th>\n",
       "      <th>population_total</th>\n",
       "      <th>cell_use</th>\n",
       "      <th>internet_use</th>\n",
       "      <th>suicide_total</th>\n",
       "      <th>internet_use_%</th>\n",
       "      <th>cell_use_%</th>\n",
       "      <th>suicide_total_%</th>\n",
       "      <th>internet_use_pc</th>\n",
       "      <th>cell_use_pc</th>\n",
       "      <th>suicide_total_pc</th>\n",
       "    </tr>\n",
       "  </thead>\n",
       "  <tbody>\n",
       "    <tr>\n",
       "      <th>1</th>\n",
       "      <td>Albania</td>\n",
       "      <td>1990</td>\n",
       "      <td>4460</td>\n",
       "      <td>31.187500</td>\n",
       "      <td>3290000</td>\n",
       "      <td>0</td>\n",
       "      <td>0.0</td>\n",
       "      <td>127</td>\n",
       "      <td>0.0</td>\n",
       "      <td>0.000000</td>\n",
       "      <td>0.003860</td>\n",
       "      <td>0.0</td>\n",
       "      <td>0.000000</td>\n",
       "      <td>3.860182</td>\n",
       "    </tr>\n",
       "    <tr>\n",
       "      <th>2</th>\n",
       "      <td>Algeria</td>\n",
       "      <td>1990</td>\n",
       "      <td>10300</td>\n",
       "      <td>31.450000</td>\n",
       "      <td>25800000</td>\n",
       "      <td>470</td>\n",
       "      <td>0.0</td>\n",
       "      <td>806</td>\n",
       "      <td>0.0</td>\n",
       "      <td>0.001822</td>\n",
       "      <td>0.003124</td>\n",
       "      <td>0.0</td>\n",
       "      <td>1.821705</td>\n",
       "      <td>3.124031</td>\n",
       "    </tr>\n",
       "    <tr>\n",
       "      <th>4</th>\n",
       "      <td>Angola</td>\n",
       "      <td>1990</td>\n",
       "      <td>4760</td>\n",
       "      <td>47.350000</td>\n",
       "      <td>11800000</td>\n",
       "      <td>0</td>\n",
       "      <td>0.0</td>\n",
       "      <td>645</td>\n",
       "      <td>0.0</td>\n",
       "      <td>0.000000</td>\n",
       "      <td>0.005466</td>\n",
       "      <td>0.0</td>\n",
       "      <td>0.000000</td>\n",
       "      <td>5.466102</td>\n",
       "    </tr>\n",
       "    <tr>\n",
       "      <th>6</th>\n",
       "      <td>Argentina</td>\n",
       "      <td>1990</td>\n",
       "      <td>11400</td>\n",
       "      <td>46.924000</td>\n",
       "      <td>32600000</td>\n",
       "      <td>12000</td>\n",
       "      <td>0.0</td>\n",
       "      <td>3300</td>\n",
       "      <td>0.0</td>\n",
       "      <td>0.036810</td>\n",
       "      <td>0.010123</td>\n",
       "      <td>0.0</td>\n",
       "      <td>36.809816</td>\n",
       "      <td>10.122699</td>\n",
       "    </tr>\n",
       "    <tr>\n",
       "      <th>7</th>\n",
       "      <td>Armenia</td>\n",
       "      <td>1990</td>\n",
       "      <td>3740</td>\n",
       "      <td>32.176471</td>\n",
       "      <td>3540000</td>\n",
       "      <td>0</td>\n",
       "      <td>0.0</td>\n",
       "      <td>134</td>\n",
       "      <td>0.0</td>\n",
       "      <td>0.000000</td>\n",
       "      <td>0.003785</td>\n",
       "      <td>0.0</td>\n",
       "      <td>0.000000</td>\n",
       "      <td>3.785311</td>\n",
       "    </tr>\n",
       "  </tbody>\n",
       "</table>\n",
       "</div>"
      ],
      "text/plain": [
       "     country  year    GDP  gini_index  population_total  cell_use  \\\n",
       "1    Albania  1990   4460   31.187500           3290000         0   \n",
       "2    Algeria  1990  10300   31.450000          25800000       470   \n",
       "4     Angola  1990   4760   47.350000          11800000         0   \n",
       "6  Argentina  1990  11400   46.924000          32600000     12000   \n",
       "7    Armenia  1990   3740   32.176471           3540000         0   \n",
       "\n",
       "   internet_use  suicide_total  internet_use_%  cell_use_%  suicide_total_%  \\\n",
       "1           0.0            127             0.0    0.000000         0.003860   \n",
       "2           0.0            806             0.0    0.001822         0.003124   \n",
       "4           0.0            645             0.0    0.000000         0.005466   \n",
       "6           0.0           3300             0.0    0.036810         0.010123   \n",
       "7           0.0            134             0.0    0.000000         0.003785   \n",
       "\n",
       "   internet_use_pc  cell_use_pc  suicide_total_pc  \n",
       "1              0.0     0.000000          3.860182  \n",
       "2              0.0     1.821705          3.124031  \n",
       "4              0.0     0.000000          5.466102  \n",
       "6              0.0    36.809816         10.122699  \n",
       "7              0.0     0.000000          3.785311  "
      ]
     },
     "execution_count": 141,
     "metadata": {},
     "output_type": "execute_result"
    }
   ],
   "source": [
    "merged_df_gini.head()"
   ]
  },
  {
   "cell_type": "code",
   "execution_count": 142,
   "metadata": {},
   "outputs": [
    {
     "data": {
      "text/plain": [
       "count    4401.000000\n",
       "mean       39.656598\n",
       "std         8.323625\n",
       "min        20.700000\n",
       "25%        33.100000\n",
       "50%        38.400000\n",
       "75%        44.600000\n",
       "max        65.800000\n",
       "Name: gini_index, dtype: float64"
      ]
     },
     "execution_count": 142,
     "metadata": {},
     "output_type": "execute_result"
    }
   ],
   "source": [
    "merged_df_gini.gini_index.describe()"
   ]
  },
  {
   "cell_type": "code",
   "execution_count": 143,
   "metadata": {},
   "outputs": [
    {
     "data": {
      "text/html": [
       "<div>\n",
       "<style scoped>\n",
       "    .dataframe tbody tr th:only-of-type {\n",
       "        vertical-align: middle;\n",
       "    }\n",
       "\n",
       "    .dataframe tbody tr th {\n",
       "        vertical-align: top;\n",
       "    }\n",
       "\n",
       "    .dataframe thead th {\n",
       "        text-align: right;\n",
       "    }\n",
       "</style>\n",
       "<table border=\"1\" class=\"dataframe\">\n",
       "  <thead>\n",
       "    <tr style=\"text-align: right;\">\n",
       "      <th></th>\n",
       "      <th>country</th>\n",
       "      <th>year</th>\n",
       "      <th>GDP</th>\n",
       "      <th>gini_index</th>\n",
       "      <th>population_total</th>\n",
       "      <th>cell_use</th>\n",
       "      <th>internet_use</th>\n",
       "      <th>suicide_total</th>\n",
       "      <th>internet_use_%</th>\n",
       "      <th>cell_use_%</th>\n",
       "      <th>suicide_total_%</th>\n",
       "      <th>internet_use_pc</th>\n",
       "      <th>cell_use_pc</th>\n",
       "      <th>suicide_total_pc</th>\n",
       "      <th>gini_index_cat</th>\n",
       "    </tr>\n",
       "  </thead>\n",
       "  <tbody>\n",
       "    <tr>\n",
       "      <th>1</th>\n",
       "      <td>Albania</td>\n",
       "      <td>1990</td>\n",
       "      <td>4460</td>\n",
       "      <td>31.187500</td>\n",
       "      <td>3290000</td>\n",
       "      <td>0</td>\n",
       "      <td>0.0</td>\n",
       "      <td>127</td>\n",
       "      <td>0.0</td>\n",
       "      <td>0.000000</td>\n",
       "      <td>0.003860</td>\n",
       "      <td>0.0</td>\n",
       "      <td>0.000000</td>\n",
       "      <td>3.860182</td>\n",
       "      <td>low</td>\n",
       "    </tr>\n",
       "    <tr>\n",
       "      <th>2</th>\n",
       "      <td>Algeria</td>\n",
       "      <td>1990</td>\n",
       "      <td>10300</td>\n",
       "      <td>31.450000</td>\n",
       "      <td>25800000</td>\n",
       "      <td>470</td>\n",
       "      <td>0.0</td>\n",
       "      <td>806</td>\n",
       "      <td>0.0</td>\n",
       "      <td>0.001822</td>\n",
       "      <td>0.003124</td>\n",
       "      <td>0.0</td>\n",
       "      <td>1.821705</td>\n",
       "      <td>3.124031</td>\n",
       "      <td>low</td>\n",
       "    </tr>\n",
       "    <tr>\n",
       "      <th>4</th>\n",
       "      <td>Angola</td>\n",
       "      <td>1990</td>\n",
       "      <td>4760</td>\n",
       "      <td>47.350000</td>\n",
       "      <td>11800000</td>\n",
       "      <td>0</td>\n",
       "      <td>0.0</td>\n",
       "      <td>645</td>\n",
       "      <td>0.0</td>\n",
       "      <td>0.000000</td>\n",
       "      <td>0.005466</td>\n",
       "      <td>0.0</td>\n",
       "      <td>0.000000</td>\n",
       "      <td>5.466102</td>\n",
       "      <td>high</td>\n",
       "    </tr>\n",
       "    <tr>\n",
       "      <th>6</th>\n",
       "      <td>Argentina</td>\n",
       "      <td>1990</td>\n",
       "      <td>11400</td>\n",
       "      <td>46.924000</td>\n",
       "      <td>32600000</td>\n",
       "      <td>12000</td>\n",
       "      <td>0.0</td>\n",
       "      <td>3300</td>\n",
       "      <td>0.0</td>\n",
       "      <td>0.036810</td>\n",
       "      <td>0.010123</td>\n",
       "      <td>0.0</td>\n",
       "      <td>36.809816</td>\n",
       "      <td>10.122699</td>\n",
       "      <td>high</td>\n",
       "    </tr>\n",
       "    <tr>\n",
       "      <th>7</th>\n",
       "      <td>Armenia</td>\n",
       "      <td>1990</td>\n",
       "      <td>3740</td>\n",
       "      <td>32.176471</td>\n",
       "      <td>3540000</td>\n",
       "      <td>0</td>\n",
       "      <td>0.0</td>\n",
       "      <td>134</td>\n",
       "      <td>0.0</td>\n",
       "      <td>0.000000</td>\n",
       "      <td>0.003785</td>\n",
       "      <td>0.0</td>\n",
       "      <td>0.000000</td>\n",
       "      <td>3.785311</td>\n",
       "      <td>low</td>\n",
       "    </tr>\n",
       "  </tbody>\n",
       "</table>\n",
       "</div>"
      ],
      "text/plain": [
       "     country  year    GDP  gini_index  population_total  cell_use  \\\n",
       "1    Albania  1990   4460   31.187500           3290000         0   \n",
       "2    Algeria  1990  10300   31.450000          25800000       470   \n",
       "4     Angola  1990   4760   47.350000          11800000         0   \n",
       "6  Argentina  1990  11400   46.924000          32600000     12000   \n",
       "7    Armenia  1990   3740   32.176471           3540000         0   \n",
       "\n",
       "   internet_use  suicide_total  internet_use_%  cell_use_%  suicide_total_%  \\\n",
       "1           0.0            127             0.0    0.000000         0.003860   \n",
       "2           0.0            806             0.0    0.001822         0.003124   \n",
       "4           0.0            645             0.0    0.000000         0.005466   \n",
       "6           0.0           3300             0.0    0.036810         0.010123   \n",
       "7           0.0            134             0.0    0.000000         0.003785   \n",
       "\n",
       "   internet_use_pc  cell_use_pc  suicide_total_pc gini_index_cat  \n",
       "1              0.0     0.000000          3.860182            low  \n",
       "2              0.0     1.821705          3.124031            low  \n",
       "4              0.0     0.000000          5.466102           high  \n",
       "6              0.0    36.809816         10.122699           high  \n",
       "7              0.0     0.000000          3.785311            low  "
      ]
     },
     "execution_count": 143,
     "metadata": {},
     "output_type": "execute_result"
    }
   ],
   "source": [
    "# Create bins for gini index = low, medium and high (+ explain gini index!!)\n",
    "# Bin edges that will be used to \"cut\" the data into groups\n",
    "bin_edges = [20.7, 35, 44.6, 65.8] \n",
    "# Labels for the four acidity level groups\n",
    "bin_names = ['low', 'medium', 'high'] \n",
    "# Creates acidity_levels column\n",
    "merged_df_gini['gini_index_cat'] = pd.cut(merged_df_gini['gini_index'], bin_edges, labels=bin_names)\n",
    "\n",
    "# Checks for successful creation of this column\n",
    "merged_df_gini.head()"
   ]
  },
  {
   "cell_type": "code",
   "execution_count": 153,
   "metadata": {},
   "outputs": [
    {
     "data": {
      "image/png": "[encoded data removed]",
      "text/plain": [
       "<Figure size 432x288 with 1 Axes>"
      ]
     },
     "metadata": {},
     "output_type": "display_data"
    }
   ],
   "source": [
    "gini_bins = merged_df_gini.groupby('gini_index_cat').mean().suicide_total_pc\n",
    "gini_bins.plot(kind='bar', alpha=.7, color='orange', linewidth=2.5);\n",
    "# legend\n",
    "#plt.legend()\n",
    "# lebel and axis\n",
    "plt.ylabel('average suicide per capita')\n",
    "plt.xlabel('gini-index categories')\n",
    "plt.title('gini index - inequality index for and suicide per capita');"
   ]
  },
  {
   "cell_type": "markdown",
   "metadata": {},
   "source": [
    "# Suicide and cell phone use "
   ]
  },
  {
   "cell_type": "code",
   "execution_count": 160,
   "metadata": {},
   "outputs": [],
   "source": [
    "# Use of cell phone - line chart on the same graph??\n"
   ]
  },
  {
   "cell_type": "markdown",
   "metadata": {},
   "source": [
    "# From 1990 - 2000"
   ]
  },
  {
   "cell_type": "code",
   "execution_count": 161,
   "metadata": {},
   "outputs": [
    {
     "data": {
      "text/html": [
       "<div>\n",
       "<style scoped>\n",
       "    .dataframe tbody tr th:only-of-type {\n",
       "        vertical-align: middle;\n",
       "    }\n",
       "\n",
       "    .dataframe tbody tr th {\n",
       "        vertical-align: top;\n",
       "    }\n",
       "\n",
       "    .dataframe thead th {\n",
       "        text-align: right;\n",
       "    }\n",
       "</style>\n",
       "<table border=\"1\" class=\"dataframe\">\n",
       "  <thead>\n",
       "    <tr style=\"text-align: right;\">\n",
       "      <th></th>\n",
       "      <th>country</th>\n",
       "      <th>year</th>\n",
       "      <th>GDP</th>\n",
       "      <th>gini_index</th>\n",
       "      <th>population_total</th>\n",
       "      <th>cell_use</th>\n",
       "      <th>internet_use</th>\n",
       "      <th>suicide_total</th>\n",
       "      <th>internet_use_%</th>\n",
       "      <th>cell_use_%</th>\n",
       "      <th>suicide_total_%</th>\n",
       "      <th>internet_use_pc</th>\n",
       "      <th>cell_use_pc</th>\n",
       "      <th>suicide_total_pc</th>\n",
       "    </tr>\n",
       "  </thead>\n",
       "  <tbody>\n",
       "    <tr>\n",
       "      <th>2052</th>\n",
       "      <td>Venezuela</td>\n",
       "      <td>2000</td>\n",
       "      <td>14600</td>\n",
       "      <td>48.670000</td>\n",
       "      <td>24200000</td>\n",
       "      <td>5450000</td>\n",
       "      <td>813000.0</td>\n",
       "      <td>2120</td>\n",
       "      <td>3.359504</td>\n",
       "      <td>22.520661</td>\n",
       "      <td>0.008760</td>\n",
       "      <td>3359.504132</td>\n",
       "      <td>22520.661157</td>\n",
       "      <td>8.760331</td>\n",
       "    </tr>\n",
       "    <tr>\n",
       "      <th>2053</th>\n",
       "      <td>Vietnam</td>\n",
       "      <td>2000</td>\n",
       "      <td>2570</td>\n",
       "      <td>36.130000</td>\n",
       "      <td>79900000</td>\n",
       "      <td>789000</td>\n",
       "      <td>203000.0</td>\n",
       "      <td>7280</td>\n",
       "      <td>0.254068</td>\n",
       "      <td>0.987484</td>\n",
       "      <td>0.009111</td>\n",
       "      <td>254.067584</td>\n",
       "      <td>987.484355</td>\n",
       "      <td>9.111389</td>\n",
       "    </tr>\n",
       "    <tr>\n",
       "      <th>2054</th>\n",
       "      <td>Yemen</td>\n",
       "      <td>2000</td>\n",
       "      <td>4000</td>\n",
       "      <td>35.466667</td>\n",
       "      <td>17400000</td>\n",
       "      <td>32000</td>\n",
       "      <td>14400.0</td>\n",
       "      <td>754</td>\n",
       "      <td>0.082759</td>\n",
       "      <td>0.183908</td>\n",
       "      <td>0.004333</td>\n",
       "      <td>82.758621</td>\n",
       "      <td>183.908046</td>\n",
       "      <td>4.333333</td>\n",
       "    </tr>\n",
       "    <tr>\n",
       "      <th>2055</th>\n",
       "      <td>Zambia</td>\n",
       "      <td>2000</td>\n",
       "      <td>2130</td>\n",
       "      <td>52.688889</td>\n",
       "      <td>10400000</td>\n",
       "      <td>98900</td>\n",
       "      <td>19900.0</td>\n",
       "      <td>880</td>\n",
       "      <td>0.191346</td>\n",
       "      <td>0.950962</td>\n",
       "      <td>0.008462</td>\n",
       "      <td>191.346154</td>\n",
       "      <td>950.961538</td>\n",
       "      <td>8.461538</td>\n",
       "    </tr>\n",
       "    <tr>\n",
       "      <th>2056</th>\n",
       "      <td>Zimbabwe</td>\n",
       "      <td>2000</td>\n",
       "      <td>2950</td>\n",
       "      <td>43.200000</td>\n",
       "      <td>11900000</td>\n",
       "      <td>266000</td>\n",
       "      <td>47700.0</td>\n",
       "      <td>1550</td>\n",
       "      <td>0.400840</td>\n",
       "      <td>2.235294</td>\n",
       "      <td>0.013025</td>\n",
       "      <td>400.840336</td>\n",
       "      <td>2235.294118</td>\n",
       "      <td>13.025210</td>\n",
       "    </tr>\n",
       "  </tbody>\n",
       "</table>\n",
       "</div>"
      ],
      "text/plain": [
       "        country  year    GDP  gini_index  population_total  cell_use  \\\n",
       "2052  Venezuela  2000  14600   48.670000          24200000   5450000   \n",
       "2053    Vietnam  2000   2570   36.130000          79900000    789000   \n",
       "2054      Yemen  2000   4000   35.466667          17400000     32000   \n",
       "2055     Zambia  2000   2130   52.688889          10400000     98900   \n",
       "2056   Zimbabwe  2000   2950   43.200000          11900000    266000   \n",
       "\n",
       "      internet_use  suicide_total  internet_use_%  cell_use_%  \\\n",
       "2052      813000.0           2120        3.359504   22.520661   \n",
       "2053      203000.0           7280        0.254068    0.987484   \n",
       "2054       14400.0            754        0.082759    0.183908   \n",
       "2055       19900.0            880        0.191346    0.950962   \n",
       "2056       47700.0           1550        0.400840    2.235294   \n",
       "\n",
       "      suicide_total_%  internet_use_pc   cell_use_pc  suicide_total_pc  \n",
       "2052         0.008760      3359.504132  22520.661157          8.760331  \n",
       "2053         0.009111       254.067584    987.484355          9.111389  \n",
       "2054         0.004333        82.758621    183.908046          4.333333  \n",
       "2055         0.008462       191.346154    950.961538          8.461538  \n",
       "2056         0.013025       400.840336   2235.294118         13.025210  "
      ]
     },
     "execution_count": 161,
     "metadata": {},
     "output_type": "execute_result"
    }
   ],
   "source": [
    "# Create df for only 1990 - 2000\n",
    "main_df_reduced_cell = merged_df.loc[merged_df.year < 2001,:]\n",
    "main_df_reduced_cell.tail()"
   ]
  },
  {
   "cell_type": "code",
   "execution_count": 162,
   "metadata": {},
   "outputs": [
    {
     "data": {
      "text/html": [
       "<div>\n",
       "<style scoped>\n",
       "    .dataframe tbody tr th:only-of-type {\n",
       "        vertical-align: middle;\n",
       "    }\n",
       "\n",
       "    .dataframe tbody tr th {\n",
       "        vertical-align: top;\n",
       "    }\n",
       "\n",
       "    .dataframe thead th {\n",
       "        text-align: right;\n",
       "    }\n",
       "</style>\n",
       "<table border=\"1\" class=\"dataframe\">\n",
       "  <thead>\n",
       "    <tr style=\"text-align: right;\">\n",
       "      <th></th>\n",
       "      <th>country</th>\n",
       "      <th>year</th>\n",
       "      <th>GDP</th>\n",
       "      <th>internet_use_pc</th>\n",
       "      <th>cell_use_pc</th>\n",
       "      <th>suicide_total_pc</th>\n",
       "    </tr>\n",
       "  </thead>\n",
       "  <tbody>\n",
       "    <tr>\n",
       "      <th>0</th>\n",
       "      <td>Afghanistan</td>\n",
       "      <td>1990</td>\n",
       "      <td>1860</td>\n",
       "      <td>0.0</td>\n",
       "      <td>0.000000</td>\n",
       "      <td>5.669355</td>\n",
       "    </tr>\n",
       "    <tr>\n",
       "      <th>1</th>\n",
       "      <td>Albania</td>\n",
       "      <td>1990</td>\n",
       "      <td>4460</td>\n",
       "      <td>0.0</td>\n",
       "      <td>0.000000</td>\n",
       "      <td>3.860182</td>\n",
       "    </tr>\n",
       "    <tr>\n",
       "      <th>2</th>\n",
       "      <td>Algeria</td>\n",
       "      <td>1990</td>\n",
       "      <td>10300</td>\n",
       "      <td>0.0</td>\n",
       "      <td>1.821705</td>\n",
       "      <td>3.124031</td>\n",
       "    </tr>\n",
       "  </tbody>\n",
       "</table>\n",
       "</div>"
      ],
      "text/plain": [
       "       country  year    GDP  internet_use_pc  cell_use_pc  suicide_total_pc\n",
       "0  Afghanistan  1990   1860              0.0     0.000000          5.669355\n",
       "1      Albania  1990   4460              0.0     0.000000          3.860182\n",
       "2      Algeria  1990  10300              0.0     1.821705          3.124031"
      ]
     },
     "execution_count": 162,
     "metadata": {},
     "output_type": "execute_result"
    }
   ],
   "source": [
    "# Create df with columns per capita only\n",
    "pc_df_reduced_cell = main_df_reduced_cell.iloc[:, np.r_[:3, 11:14]]\n",
    "pc_df_reduced_cell.head(3)"
   ]
  },
  {
   "cell_type": "code",
   "execution_count": 163,
   "metadata": {},
   "outputs": [
    {
     "data": {
      "image/png": "[encoded data removed]",
      "text/plain": [
       "<Figure size 432x288 with 2 Axes>"
      ]
     },
     "metadata": {},
     "output_type": "display_data"
    }
   ],
   "source": [
    "# Plotting correlation coeficient heat map.\n",
    "pearsoncorr_reduced_cell = pc_df_reduced_cell.corr(method='pearson')\n",
    "pearsoncorr_reduced_cell\n",
    "sns.heatmap(pearsoncorr_reduced_cell, \n",
    "            xticklabels=pearsoncorr_reduced_cell,\n",
    "            yticklabels=pearsoncorr_reduced_cell,\n",
    "            cmap='RdBu_r',\n",
    "            annot=True,\n",
    "            linewidth=0.5);"
   ]
  },
  {
   "cell_type": "code",
   "execution_count": 164,
   "metadata": {},
   "outputs": [
    {
     "data": {
      "image/png": "[encoded data removed]",
      "text/plain": [
       "<Figure size 432x288 with 1 Axes>"
      ]
     },
     "metadata": {},
     "output_type": "display_data"
    }
   ],
   "source": [
    "# Scatter plot between GDP and suicide\n",
    "pc_df_reduced_cell.plot(y='cell_use_pc', x='suicide_total_pc', kind='scatter', c='#1f77b4');"
   ]
  },
  {
   "cell_type": "code",
   "execution_count": 165,
   "metadata": {},
   "outputs": [
    {
     "data": {
      "image/png": "[encoded data removed]",
      "text/plain": [
       "<Figure size 432x288 with 1 Axes>"
      ]
     },
     "metadata": {},
     "output_type": "display_data"
    }
   ],
   "source": [
    "# Line chart for suicide and phone use\n",
    "cell_use = pc_df_reduced_cell.groupby(['year']).mean()['suicide_total_pc'].plot();\n",
    "cell_use;"
   ]
  },
  {
   "cell_type": "code",
   "execution_count": 166,
   "metadata": {},
   "outputs": [
    {
     "data": {
      "image/png": "[encoded data removed]",
      "text/plain": [
       "<Figure size 432x288 with 1 Axes>"
      ]
     },
     "metadata": {},
     "output_type": "display_data"
    }
   ],
   "source": [
    "# Line chart for suicide and phone use\n",
    "cell_use1 = pc_df_reduced_cell.groupby(['year']).mean()['cell_use_pc'].plot();\n",
    "cell_use1;"
   ]
  },
  {
   "cell_type": "markdown",
   "metadata": {},
   "source": [
    "# From 2001 - 2016"
   ]
  },
  {
   "cell_type": "code",
   "execution_count": 167,
   "metadata": {},
   "outputs": [
    {
     "data": {
      "text/html": [
       "<div>\n",
       "<style scoped>\n",
       "    .dataframe tbody tr th:only-of-type {\n",
       "        vertical-align: middle;\n",
       "    }\n",
       "\n",
       "    .dataframe tbody tr th {\n",
       "        vertical-align: top;\n",
       "    }\n",
       "\n",
       "    .dataframe thead th {\n",
       "        text-align: right;\n",
       "    }\n",
       "</style>\n",
       "<table border=\"1\" class=\"dataframe\">\n",
       "  <thead>\n",
       "    <tr style=\"text-align: right;\">\n",
       "      <th></th>\n",
       "      <th>country</th>\n",
       "      <th>year</th>\n",
       "      <th>GDP</th>\n",
       "      <th>gini_index</th>\n",
       "      <th>population_total</th>\n",
       "      <th>cell_use</th>\n",
       "      <th>internet_use</th>\n",
       "      <th>suicide_total</th>\n",
       "      <th>internet_use_%</th>\n",
       "      <th>cell_use_%</th>\n",
       "      <th>suicide_total_%</th>\n",
       "      <th>internet_use_pc</th>\n",
       "      <th>cell_use_pc</th>\n",
       "      <th>suicide_total_pc</th>\n",
       "    </tr>\n",
       "  </thead>\n",
       "  <tbody>\n",
       "    <tr>\n",
       "      <th>2057</th>\n",
       "      <td>Afghanistan</td>\n",
       "      <td>2001</td>\n",
       "      <td>646</td>\n",
       "      <td>NaN</td>\n",
       "      <td>21600000</td>\n",
       "      <td>0</td>\n",
       "      <td>1020.0</td>\n",
       "      <td>1300</td>\n",
       "      <td>0.004722</td>\n",
       "      <td>0.000000</td>\n",
       "      <td>0.006019</td>\n",
       "      <td>4.722222</td>\n",
       "      <td>0.000000</td>\n",
       "      <td>6.018519</td>\n",
       "    </tr>\n",
       "    <tr>\n",
       "      <th>2058</th>\n",
       "      <td>Albania</td>\n",
       "      <td>2001</td>\n",
       "      <td>5950</td>\n",
       "      <td>31.1875</td>\n",
       "      <td>3130000</td>\n",
       "      <td>393000</td>\n",
       "      <td>10200.0</td>\n",
       "      <td>184</td>\n",
       "      <td>0.325879</td>\n",
       "      <td>12.555911</td>\n",
       "      <td>0.005879</td>\n",
       "      <td>325.878594</td>\n",
       "      <td>12555.910543</td>\n",
       "      <td>5.878594</td>\n",
       "    </tr>\n",
       "    <tr>\n",
       "      <th>2059</th>\n",
       "      <td>Algeria</td>\n",
       "      <td>2001</td>\n",
       "      <td>10400</td>\n",
       "      <td>31.4500</td>\n",
       "      <td>31500000</td>\n",
       "      <td>100000</td>\n",
       "      <td>203000.0</td>\n",
       "      <td>1110</td>\n",
       "      <td>0.644444</td>\n",
       "      <td>0.317460</td>\n",
       "      <td>0.003524</td>\n",
       "      <td>644.444444</td>\n",
       "      <td>317.460317</td>\n",
       "      <td>3.523810</td>\n",
       "    </tr>\n",
       "    <tr>\n",
       "      <th>2060</th>\n",
       "      <td>Andorra</td>\n",
       "      <td>2001</td>\n",
       "      <td>31800</td>\n",
       "      <td>NaN</td>\n",
       "      <td>67300</td>\n",
       "      <td>29400</td>\n",
       "      <td>7100.0</td>\n",
       "      <td>6</td>\n",
       "      <td>10.549777</td>\n",
       "      <td>43.684993</td>\n",
       "      <td>0.008915</td>\n",
       "      <td>10549.777117</td>\n",
       "      <td>43684.992571</td>\n",
       "      <td>8.915305</td>\n",
       "    </tr>\n",
       "    <tr>\n",
       "      <th>2061</th>\n",
       "      <td>Angola</td>\n",
       "      <td>2001</td>\n",
       "      <td>3920</td>\n",
       "      <td>47.3500</td>\n",
       "      <td>16900000</td>\n",
       "      <td>75000</td>\n",
       "      <td>23000.0</td>\n",
       "      <td>842</td>\n",
       "      <td>0.136095</td>\n",
       "      <td>0.443787</td>\n",
       "      <td>0.004982</td>\n",
       "      <td>136.094675</td>\n",
       "      <td>443.786982</td>\n",
       "      <td>4.982249</td>\n",
       "    </tr>\n",
       "  </tbody>\n",
       "</table>\n",
       "</div>"
      ],
      "text/plain": [
       "          country  year    GDP  gini_index  population_total  cell_use  \\\n",
       "2057  Afghanistan  2001    646         NaN          21600000         0   \n",
       "2058      Albania  2001   5950     31.1875           3130000    393000   \n",
       "2059      Algeria  2001  10400     31.4500          31500000    100000   \n",
       "2060      Andorra  2001  31800         NaN             67300     29400   \n",
       "2061       Angola  2001   3920     47.3500          16900000     75000   \n",
       "\n",
       "      internet_use  suicide_total  internet_use_%  cell_use_%  \\\n",
       "2057        1020.0           1300        0.004722    0.000000   \n",
       "2058       10200.0            184        0.325879   12.555911   \n",
       "2059      203000.0           1110        0.644444    0.317460   \n",
       "2060        7100.0              6       10.549777   43.684993   \n",
       "2061       23000.0            842        0.136095    0.443787   \n",
       "\n",
       "      suicide_total_%  internet_use_pc   cell_use_pc  suicide_total_pc  \n",
       "2057         0.006019         4.722222      0.000000          6.018519  \n",
       "2058         0.005879       325.878594  12555.910543          5.878594  \n",
       "2059         0.003524       644.444444    317.460317          3.523810  \n",
       "2060         0.008915     10549.777117  43684.992571          8.915305  \n",
       "2061         0.004982       136.094675    443.786982          4.982249  "
      ]
     },
     "execution_count": 167,
     "metadata": {},
     "output_type": "execute_result"
    }
   ],
   "source": [
    "# Create df for only 2001 - 2016\n",
    "main_df_reduced_cell1 = merged_df.loc[merged_df.year > 2000,:]\n",
    "main_df_reduced_cell1.head()"
   ]
  },
  {
   "cell_type": "code",
   "execution_count": 168,
   "metadata": {},
   "outputs": [
    {
     "data": {
      "text/html": [
       "<div>\n",
       "<style scoped>\n",
       "    .dataframe tbody tr th:only-of-type {\n",
       "        vertical-align: middle;\n",
       "    }\n",
       "\n",
       "    .dataframe tbody tr th {\n",
       "        vertical-align: top;\n",
       "    }\n",
       "\n",
       "    .dataframe thead th {\n",
       "        text-align: right;\n",
       "    }\n",
       "</style>\n",
       "<table border=\"1\" class=\"dataframe\">\n",
       "  <thead>\n",
       "    <tr style=\"text-align: right;\">\n",
       "      <th></th>\n",
       "      <th>country</th>\n",
       "      <th>year</th>\n",
       "      <th>GDP</th>\n",
       "      <th>internet_use_pc</th>\n",
       "      <th>cell_use_pc</th>\n",
       "      <th>suicide_total_pc</th>\n",
       "    </tr>\n",
       "  </thead>\n",
       "  <tbody>\n",
       "    <tr>\n",
       "      <th>2057</th>\n",
       "      <td>Afghanistan</td>\n",
       "      <td>2001</td>\n",
       "      <td>646</td>\n",
       "      <td>4.722222</td>\n",
       "      <td>0.000000</td>\n",
       "      <td>6.018519</td>\n",
       "    </tr>\n",
       "    <tr>\n",
       "      <th>2058</th>\n",
       "      <td>Albania</td>\n",
       "      <td>2001</td>\n",
       "      <td>5950</td>\n",
       "      <td>325.878594</td>\n",
       "      <td>12555.910543</td>\n",
       "      <td>5.878594</td>\n",
       "    </tr>\n",
       "    <tr>\n",
       "      <th>2059</th>\n",
       "      <td>Algeria</td>\n",
       "      <td>2001</td>\n",
       "      <td>10400</td>\n",
       "      <td>644.444444</td>\n",
       "      <td>317.460317</td>\n",
       "      <td>3.523810</td>\n",
       "    </tr>\n",
       "  </tbody>\n",
       "</table>\n",
       "</div>"
      ],
      "text/plain": [
       "          country  year    GDP  internet_use_pc   cell_use_pc  \\\n",
       "2057  Afghanistan  2001    646         4.722222      0.000000   \n",
       "2058      Albania  2001   5950       325.878594  12555.910543   \n",
       "2059      Algeria  2001  10400       644.444444    317.460317   \n",
       "\n",
       "      suicide_total_pc  \n",
       "2057          6.018519  \n",
       "2058          5.878594  \n",
       "2059          3.523810  "
      ]
     },
     "execution_count": 168,
     "metadata": {},
     "output_type": "execute_result"
    }
   ],
   "source": [
    "# Create df with columns per capita only\n",
    "pc_df_reduced_cell1 = main_df_reduced_cell1.iloc[:, np.r_[:3, 11:14]]\n",
    "pc_df_reduced_cell1.head(3)"
   ]
  },
  {
   "cell_type": "code",
   "execution_count": 169,
   "metadata": {},
   "outputs": [
    {
     "data": {
      "image/png": "[encoded data removed]",
      "text/plain": [
       "<Figure size 432x288 with 2 Axes>"
      ]
     },
     "metadata": {},
     "output_type": "display_data"
    }
   ],
   "source": [
    "# Plotting correlation coeficient heat map.\n",
    "pearsoncorr_reduced_cell1 = pc_df_reduced_cell1.corr(method='pearson')\n",
    "pearsoncorr_reduced_cell1\n",
    "sns.heatmap(pearsoncorr_reduced_cell1, \n",
    "            xticklabels=pearsoncorr_reduced_cell1,\n",
    "            yticklabels=pearsoncorr_reduced_cell1,\n",
    "            cmap='RdBu_r',\n",
    "            annot=True,\n",
    "            linewidth=0.5);"
   ]
  },
  {
   "cell_type": "code",
   "execution_count": 170,
   "metadata": {},
   "outputs": [
    {
     "data": {
      "image/png": "[encoded data removed]",
      "text/plain": [
       "<Figure size 432x288 with 1 Axes>"
      ]
     },
     "metadata": {},
     "output_type": "display_data"
    }
   ],
   "source": [
    "# Scatter plot between GDP and suicide\n",
    "pc_df_reduced_cell1.plot(x='cell_use_pc', y='suicide_total_pc', kind='scatter', c='#1f77b4');"
   ]
  },
  {
   "cell_type": "code",
   "execution_count": 171,
   "metadata": {},
   "outputs": [
    {
     "data": {
      "image/png": "[encoded data removed]",
      "text/plain": [
       "<Figure size 432x288 with 1 Axes>"
      ]
     },
     "metadata": {},
     "output_type": "display_data"
    }
   ],
   "source": [
    "# Line chart for suicide and phone use\n",
    "cell_use11 = pc_df_reduced_cell1.groupby(['year']).mean()['suicide_total_pc'].plot();\n",
    "cell_use11;"
   ]
  },
  {
   "cell_type": "code",
   "execution_count": 172,
   "metadata": {},
   "outputs": [
    {
     "data": {
      "image/png": "[encoded data removed]",
      "text/plain": [
       "<Figure size 432x288 with 1 Axes>"
      ]
     },
     "metadata": {},
     "output_type": "display_data"
    }
   ],
   "source": [
    "# Line chart for suicide and phone use\n",
    "cell_use111 = pc_df_reduced_cell1.groupby(['year']).mean()['cell_use_pc'].plot();\n",
    "cell_use111;"
   ]
  },
  {
   "cell_type": "code",
   "execution_count": 173,
   "metadata": {},
   "outputs": [],
   "source": [
    "# focus on the years 1990 + 10years; things around 2000 and 2010! explore suicide and cell use!!"
   ]
  },
  {
   "cell_type": "code",
   "execution_count": 174,
   "metadata": {},
   "outputs": [],
   "source": [
    "# look for the whole year\n"
   ]
  },
  {
   "cell_type": "code",
   "execution_count": null,
   "metadata": {},
   "outputs": [],
   "source": []
  }
 ],
 "metadata": {
  "kernelspec": {
   "display_name": "pythonml",
   "language": "python",
   "name": "pythonml"
  },
  "language_info": {
   "codemirror_mode": {
    "name": "ipython",
    "version": 3
   },
   "file_extension": ".py",
   "mimetype": "text/x-python",
   "name": "python",
   "nbconvert_exporter": "python",
   "pygments_lexer": "ipython3",
   "version": "3.7.9"
  }
 },
 "nbformat": 4,
 "nbformat_minor": 4
}
