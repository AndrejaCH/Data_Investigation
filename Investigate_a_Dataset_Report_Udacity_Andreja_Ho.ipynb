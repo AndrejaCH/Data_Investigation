{
 "cells": [
  {
   "cell_type": "markdown",
   "metadata": {},
   "source": [
    "\n",
    "# Project: Investigate a Dataset -  Suicide Data Analysis \n",
    "***Suicide Rates per Country from 1990 to 2016 and GDP, gini-index and cell phone use.*** \n",
    "\n",
    "## Table of Contents\n",
    "<ul>\n",
    "<li><a href=\"#intro\">Introduction</a></li>\n",
    "<li><a href=\"#wrangling\">Data Wrangling</a></li>\n",
    "<li><a href=\"#eda\">Exploratory Data Analysis</a></li>\n",
    "<li><a href=\"#conclusions\">Conclusions</a></li>\n",
    "</ul>"
   ]
  },
  {
   "cell_type": "markdown",
   "metadata": {},
   "source": [
    "<a id='intro'></a>\n",
    "## Introduction\n",
    "\n",
    "Suicide is a global phenomenon and occurs throughout the lifespan. Close to 800 000 people die due to suicide every year, which is one person every 40 seconds (source: WHO). For this project, I am analyzing global suicide data from 1990 to 2016. In particular I am interested in finding trends amongst countries with the most and the least suicide per 100,000 people and how those countries differ in GDP, Gini-index (inequality index) and cell-phone use.\n",
    "\n",
    "### Data used\n",
    "\n",
    "For my analysis I choose datasets form Gapminder World (https://www.gapminder.org/data/). \n",
    "\n",
    "- Population Dataset (pop_df) -> <i>number of people</i>\n",
    "- Cell Phone Usage Dataset (cell_df) -> <i>numbers of subscriptions</i>\n",
    "- Suicide Dataset (suic_df) -> <i>suicide total deaths</i>\n",
    "- GDP Dataset (gdp_df) -> <i>GDP per capita</i>\n",
    "- Gini Index (gini_df) -> <i>(inequality index)</i>\n",
    "\n",
    "\n",
    "### Questions for Analysis\n",
    "<b>1. SUICIDE TREND AND GDP: Is GDP associated with suicide rate per country?</b><br />\n",
    "        - what is the overall suicide trend globally?<br />\n",
    "        - what is the overall suicide trend for top 10 countries\\*?<br/>\n",
    "        - what is the overall suicide trend for bottom 10 countries\\*?<br/>\n",
    "        - what is GDP (gross domestic product) in top or bottom 10 countries?<br/>\n",
    "        - which countries are in top 10?<br />\n",
    "        - which countries are in bottom 10?<br />\n",
    "\n",
    "<b>2. SUICIDE TREND AND GINI INDEX: Is Gini Index associated with suicide rate per country</b><br />\n",
    "        - is gini index associated with suicide rate?\n",
    "        \n",
    "*Top and bottom 10 countries were defined by most/least number of suicides per capita (per 100,000).       \n",
    "        \n",
    "*Gross domestic product is a monetary measure of the market value of all the final goods and services produced in a specific time period. Source: wikipedia*\n",
    "\n",
    "*In economics, the Gini coefficient, sometimes called the Gini index or Gini ratio, is a measure of statistical dispersion intended to represent the income inequality or wealth inequality within a nation or any other group of people. A Gini coefficient of zero expresses perfect equality, where all values are the same (for example, where everyone has the same income). A Gini coefficient of one (or 100%) expresses maximal inequality among values (e.g., for a large number of people where only one person has all the income or consumption and all others have none, the Gini coefficient will be nearly one) Source: wikipedia*\n",
    "\n",
    "### Description for investigation\n",
    "In order to investigate those question I did the following:\n",
    "- Download the data from Gapminder World.\n",
    "- Examine dataset and handle missing values.\n",
    "- Merge and reshape the data.\n",
    "- Calculate suicide per 100,000 people and cell phone use per 100,000 people.\n",
    "- Check the trends and correlations between variables.\n",
    "- Group countries in two categories for comparison - top 10 countries with most suicide per capita and bottom 10 countries with least suicide per capita.\n",
    "- Check summary statistics.\n",
    "- Plot histogram for GDP in those two groups.\n",
    "- Explore suicide trends in those two groups.\n",
    "- Group Gini index into 3 categories in order to see which group has more suicide per capita.\n"
   ]
  },
  {
   "cell_type": "markdown",
   "metadata": {},
   "source": [
    "##### Import dependencies"
   ]
  },
  {
   "cell_type": "code",
   "execution_count": null,
   "metadata": {},
   "outputs": [],
   "source": [
    "import pandas as pd\n",
    "import numpy as np\n",
    "import matplotlib.pyplot as plt\n",
    "import seaborn as sns\n",
    "%matplotlib inline"
   ]
  },
  {
   "cell_type": "code",
   "execution_count": null,
   "metadata": {},
   "outputs": [],
   "source": [
    "# Import seaborn library and ignore warning \n",
    "sns.set_theme()\n",
    "import warnings\n",
    "warnings.filterwarnings('ignore')"
   ]
  },
  {
   "cell_type": "markdown",
   "metadata": {},
   "source": [
    "<a id='wrangling'></a>\n",
    "## Data Wrangling\n",
    "\n",
    "### General Properties"
   ]
  },
  {
   "cell_type": "markdown",
   "metadata": {},
   "source": [
    "##### Import datasets"
   ]
  },
  {
   "cell_type": "code",
   "execution_count": null,
   "metadata": {},
   "outputs": [],
   "source": [
    "pop_df = pd.read_csv(\"Data/population_total.csv\")\n",
    "inet_df = pd.read_csv(\"Data/net_users_num.csv\")\n",
    "cell_df = pd.read_csv(\"Data/cell_phones_total.csv\")\n",
    "suic_df = pd.read_csv(\"Data/suicide_total_deaths.csv\")\n",
    "gini_df = pd.read_csv(\"Data/inequality_index_gini.csv\")\n",
    "gdp_df = pd.read_csv(\"Data/gdppercapita.csv\")"
   ]
  },
  {
   "cell_type": "markdown",
   "metadata": {},
   "source": [
    "##### Check imported datasets"
   ]
  },
  {
   "cell_type": "code",
   "execution_count": null,
   "metadata": {},
   "outputs": [],
   "source": [
    "# pop_df.head(3)\n",
    "# gdp_df.head(3)\n",
    "# inet_df.head(3)\n",
    "# cell_df.head(3)\n",
    "# gdp_df.head(3)\n",
    "# gini_df.head(3)"
   ]
  },
  {
   "cell_type": "markdown",
   "metadata": {},
   "source": [
    "##### Filtering dataset using iloc and numpy"
   ]
  },
  {
   "cell_type": "code",
   "execution_count": null,
   "metadata": {},
   "outputs": [],
   "source": [
    "pop_df = pop_df.iloc[:, np.r_[:1, 191:218]]\n",
    "inet_df = inet_df.iloc[:, :28]\n",
    "cell_df = cell_df.iloc[:, np.r_[:1, 31:58]]\n",
    "gini_df = gini_df.iloc[:, np.r_[:1, 24:51]]\n",
    "gdp_df = gdp_df.iloc[:, np.r_[:1, 191:218]]"
   ]
  },
  {
   "cell_type": "markdown",
   "metadata": {},
   "source": [
    "*Suicide dataset contains data from 1990 to 2016; therefore I decided to perform data analysis for the years between 1990 to 2016 (included). I kept these columns using `iloc` method with `numpy`.*"
   ]
  },
  {
   "cell_type": "markdown",
   "metadata": {},
   "source": [
    "##### Handling null values"
   ]
  },
  {
   "cell_type": "code",
   "execution_count": null,
   "metadata": {},
   "outputs": [],
   "source": [
    "# Check null values for internet and cell usage\n",
    "#suic_df.isnull().sum()\n",
    "#pop_df.isnull().sum()\n",
    "#gdp_df.isnull().sum()\n",
    "#cell_df.isnull().sum()\n",
    "#inet_df.isnull().sum()"
   ]
  },
  {
   "cell_type": "markdown",
   "metadata": {},
   "source": [
    "*After examining cell phone users dataset I noticed a positive trend for all countries; therefore I decided to use `ffill` method (fill forward) instead of filling with mean or 0. I believe a better way to fill null values would be average values between empty cells?\n",
    "I fill null values for gini-index dataset with mean value for all years for specific country*"
   ]
  },
  {
   "cell_type": "code",
   "execution_count": null,
   "metadata": {},
   "outputs": [],
   "source": [
    "# fill first colum [1990] with null if empty \n",
    "# (I use this to fill the first column with 0. When usind ffill to populate 0 instesd of country name.)\n",
    "inet_df['1990'].fillna(0, inplace=True)\n",
    "cell_df['1990'].fillna(0, inplace=True)"
   ]
  },
  {
   "cell_type": "code",
   "execution_count": null,
   "metadata": {},
   "outputs": [],
   "source": [
    "# fill null values for internet and cell phone\n",
    "inet_df = inet_df.fillna(method='ffill', axis=1)\n",
    "cell_df = cell_df.fillna(method='ffill', axis=1)"
   ]
  },
  {
   "cell_type": "code",
   "execution_count": null,
   "metadata": {},
   "outputs": [],
   "source": [
    "# In order to fill null values across columns (mean for the rows) I took the following steps: \n",
    "# 1. set new index to country column:\n",
    "gini_df.set_index(['country'], inplace = True)"
   ]
  },
  {
   "cell_type": "code",
   "execution_count": null,
   "metadata": {},
   "outputs": [],
   "source": [
    "# 2. using lambda function to fill null values across rows\n",
    "gini_df = gini_df.apply(lambda row: row.fillna(row.mean()), axis=1)"
   ]
  },
  {
   "cell_type": "code",
   "execution_count": null,
   "metadata": {},
   "outputs": [],
   "source": [
    "# 3. reset index (to be consistent with other dataframes)\n",
    "gini_df = gini_df.reset_index()"
   ]
  },
  {
   "cell_type": "code",
   "execution_count": null,
   "metadata": {},
   "outputs": [],
   "source": [
    "# 4. Check the dataframe\n",
    "gini_df.head(3)"
   ]
  },
  {
   "cell_type": "markdown",
   "metadata": {},
   "source": [
    "##### Unpivot dataframes"
   ]
  },
  {
   "cell_type": "code",
   "execution_count": null,
   "metadata": {},
   "outputs": [],
   "source": [
    "pop_df = pop_df.melt(id_vars = 'country', var_name = 'year', value_name = 'population_total', ignore_index=True)\n",
    "inet_df = inet_df.melt(id_vars = 'country', var_name = 'year', value_name = 'internet_use', ignore_index=True)\n",
    "cell_df = cell_df.melt(id_vars = 'country', var_name = 'year', value_name = 'cell_use', ignore_index=True)\n",
    "suic_df = suic_df.melt(id_vars = 'country', var_name = 'year', value_name = 'suicide_total', ignore_index=True)\n",
    "gini_df = gini_df.melt(id_vars = 'country', var_name = 'year', value_name = 'gini_index', ignore_index=True)\n",
    "gdp_df = gdp_df.melt(id_vars = 'country', var_name = 'year', value_name = 'GDP', ignore_index=True)"
   ]
  },
  {
   "cell_type": "markdown",
   "metadata": {},
   "source": [
    "*In order to compare different indicators I reshaped data with `melt` method.*"
   ]
  },
  {
   "cell_type": "markdown",
   "metadata": {},
   "source": [
    "##### Merge datasets"
   ]
  },
  {
   "cell_type": "code",
   "execution_count": null,
   "metadata": {},
   "outputs": [],
   "source": [
    "# Merge datasets two by two - please see comments below\n",
    "merged01 = pd.merge(pop_df, suic_df, how=\"inner\", on=[\"country\", \"year\"])\n",
    "merged02 = pd.merge(cell_df, inet_df, how=\"inner\", on=[\"country\", \"year\"])\n",
    "merged03 = pd.merge(gdp_df, gini_df, how=\"left\", on=[\"country\", \"year\"])\n",
    "merged04 = pd.merge(merged01, merged02, how=\"inner\", on=[\"country\", \"year\"])\n",
    "\n",
    "# Final merge\n",
    "merged_df = pd.merge(merged03, merged04, how=\"inner\", on=[\"country\", \"year\"])"
   ]
  },
  {
   "cell_type": "code",
   "execution_count": null,
   "metadata": {},
   "outputs": [],
   "source": [
    "# Check merged dataset\n",
    "merged_df.head(3)"
   ]
  },
  {
   "cell_type": "markdown",
   "metadata": {},
   "source": [
    "*Some countries don't have data for the gini index, but I would still like to include them in my analysis. \n",
    "I will keep those null values and later create new dataframe for gini index analysis.*"
   ]
  },
  {
   "cell_type": "markdown",
   "metadata": {},
   "source": [
    "##### Checking dataset (shape, null values, datatypes and duplicates) after merging"
   ]
  },
  {
   "cell_type": "code",
   "execution_count": null,
   "metadata": {},
   "outputs": [],
   "source": [
    "# Shape\n",
    "merged_df.shape"
   ]
  },
  {
   "cell_type": "code",
   "execution_count": null,
   "metadata": {},
   "outputs": [],
   "source": [
    "# Duplicate rows\n",
    "merged_df.duplicated().sum()"
   ]
  },
  {
   "cell_type": "code",
   "execution_count": null,
   "metadata": {},
   "outputs": [],
   "source": [
    "# Missing values - decide what to do with null values\n",
    "merged_df.isnull().sum()"
   ]
  },
  {
   "cell_type": "code",
   "execution_count": null,
   "metadata": {},
   "outputs": [],
   "source": [
    "# Check individual datatypes - convert year to int\n",
    "merged_df.dtypes"
   ]
  },
  {
   "cell_type": "markdown",
   "metadata": {},
   "source": [
    "### Data Cleaning"
   ]
  },
  {
   "cell_type": "markdown",
   "metadata": {},
   "source": [
    "#### Changing datatypes"
   ]
  },
  {
   "cell_type": "code",
   "execution_count": null,
   "metadata": {},
   "outputs": [],
   "source": [
    "# Change data types for internet use - scientific \n",
    "merged_df['internet_use'] = merged_df['internet_use'].astype(float)\n",
    "merged_df['year'] = merged_df['year'].astype(int)\n",
    "merged_df['cell_use'] = merged_df['cell_use'].astype(int)"
   ]
  },
  {
   "cell_type": "code",
   "execution_count": null,
   "metadata": {},
   "outputs": [],
   "source": [
    "# Round suicide & change to integer (suicide was in float)\n",
    "merged_df['suicide_total'] = merged_df.suicide_total.round()\n",
    "merged_df['suicide_total'] = merged_df['suicide_total'].astype(int)"
   ]
  },
  {
   "cell_type": "code",
   "execution_count": null,
   "metadata": {},
   "outputs": [],
   "source": [
    "# Check datatypes\n",
    "merged_df.dtypes"
   ]
  },
  {
   "cell_type": "markdown",
   "metadata": {},
   "source": [
    "#### Feature engeenering"
   ]
  },
  {
   "cell_type": "code",
   "execution_count": null,
   "metadata": {},
   "outputs": [],
   "source": [
    "# Calculate proportions of internet users, cell users, and the number of suicides % per country and year.\n",
    "merged_df['internet_use_%'] = merged_df.internet_use/merged_df.population_total*100\n",
    "merged_df['cell_use_%'] = merged_df.cell_use/merged_df.population_total*100\n",
    "merged_df['suicide_total_%'] = merged_df.suicide_total/merged_df.population_total*100"
   ]
  },
  {
   "cell_type": "code",
   "execution_count": null,
   "metadata": {},
   "outputs": [],
   "source": [
    "# Calculate proportions per capita (per 100,000 people) for internet users, cell users, and the number of suicides.\n",
    "merged_df['internet_use_pc'] = merged_df.internet_use/merged_df.population_total*100000\n",
    "merged_df['cell_use_pc'] = merged_df.cell_use/merged_df.population_total*100000\n",
    "merged_df['suicide_total_pc'] = merged_df.suicide_total/merged_df.population_total*100000"
   ]
  },
  {
   "cell_type": "code",
   "execution_count": null,
   "metadata": {},
   "outputs": [],
   "source": [
    "# Check newly created columns in whole dataframe.\n",
    "merged_df.head(5)"
   ]
  },
  {
   "cell_type": "code",
   "execution_count": null,
   "metadata": {},
   "outputs": [],
   "source": [
    "# Dipsplay columns in a list for faster reordering (copy-paste)\n",
    "merged_df.columns"
   ]
  },
  {
   "cell_type": "code",
   "execution_count": null,
   "metadata": {},
   "outputs": [],
   "source": [
    "# Reposition the columns for easier slicing\n",
    "merged_df = merged_df[['country', 'year', 'GDP','gini_index', 'population_total', 'cell_use',\n",
    "       'internet_use', 'suicide_total',  'internet_use_%', 'cell_use_%',\n",
    "       'suicide_total_%', 'internet_use_pc', 'cell_use_pc',\n",
    "       'suicide_total_pc']]"
   ]
  },
  {
   "cell_type": "code",
   "execution_count": null,
   "metadata": {},
   "outputs": [],
   "source": [
    "# Check what columns has null values for gini index:\n",
    "gini_null = merged_df[merged_df.gini_index.isnull()]\n",
    "gini_null.head(3)"
   ]
  },
  {
   "cell_type": "code",
   "execution_count": null,
   "metadata": {},
   "outputs": [],
   "source": [
    "# List the countries without data for gini index\n",
    "gini_null.country.value_counts()"
   ]
  },
  {
   "cell_type": "markdown",
   "metadata": {},
   "source": [
    "<a id='eda'></a>\n",
    "## Exploratory Data Analysis\n",
    "\n",
    "### Research Question 1  - Is GDP associated with suicide rate per country?"
   ]
  },
  {
   "cell_type": "markdown",
   "metadata": {},
   "source": [
    "*In this analysis I will use columns per 100,000 people. I used `iloc` method to keep only columns created in feature engineering*"
   ]
  },
  {
   "cell_type": "code",
   "execution_count": null,
   "metadata": {},
   "outputs": [],
   "source": [
    "# Create df with columns per capita only\n",
    "pc_df = merged_df.iloc[:, np.r_[:3, 11:14]]\n",
    "pc_df.head(3)"
   ]
  },
  {
   "cell_type": "markdown",
   "metadata": {},
   "source": [
    "### For all countries"
   ]
  },
  {
   "cell_type": "markdown",
   "metadata": {},
   "source": [
    "#### FEW INVESTIGATING QUESTIONS"
   ]
  },
  {
   "cell_type": "code",
   "execution_count": null,
   "metadata": {},
   "outputs": [],
   "source": [
    "# Country and year with most suicides per capita - used idxmax to find the row where this information is:\n",
    "most_suicides_pc = pc_df.suicide_total_pc.idxmax(axis=1)\n",
    "most_suicides_pc"
   ]
  },
  {
   "cell_type": "code",
   "execution_count": null,
   "metadata": {},
   "outputs": [],
   "source": [
    "# Used iloc method to display data whit index found in the previous cell.\n",
    "most_suicides_pc = pc_df.iloc[886,:]\n",
    "most_suicides_pc"
   ]
  },
  {
   "cell_type": "code",
   "execution_count": null,
   "metadata": {},
   "outputs": [],
   "source": [
    "# Find a country and year with most suicides per capita - this is another way to get the same answer as cells above.\n",
    "most_suicides_pc1 = pc_df.groupby(['country','year']).mean()['suicide_total_pc'].idxmax(axis=1)\n",
    "most_suicides_pc1"
   ]
  },
  {
   "cell_type": "code",
   "execution_count": null,
   "metadata": {},
   "outputs": [],
   "source": [
    "# Year with most suicides per capita.\n",
    "worst_year = pc_df.groupby(['year']).mean()['suicide_total_pc'].idxmax(axis=1)\n",
    "worst_year"
   ]
  },
  {
   "cell_type": "code",
   "execution_count": null,
   "metadata": {},
   "outputs": [],
   "source": [
    "# Country and year with least suicides per capita.\n",
    "least_year = pc_df.groupby(['country','year']).mean()['suicide_total_pc'].idxmin(axis=1)\n",
    "least_year"
   ]
  },
  {
   "cell_type": "code",
   "execution_count": null,
   "metadata": {},
   "outputs": [],
   "source": [
    "# Year with least suicides per capita.\n",
    "least_year = pc_df.groupby(['year']).mean()['suicide_total_pc'].idxmin(axis=1)\n",
    "least_year"
   ]
  },
  {
   "cell_type": "markdown",
   "metadata": {},
   "source": [
    "#### HISTOGRAM"
   ]
  },
  {
   "cell_type": "code",
   "execution_count": null,
   "metadata": {},
   "outputs": [],
   "source": [
    "# Plotting histograms \n",
    "pc_df.hist(figsize=(10,8), color='#1f77b4');"
   ]
  },
  {
   "cell_type": "markdown",
   "metadata": {},
   "source": [
    "*Plotting histogram for the entire dataset provides a lot of insights. GDP is skewed to the right and the majority of countries have GDP below 20,000. Suicide is also skewed to the right with the majority of below 15 per 100,000 people.* "
   ]
  },
  {
   "cell_type": "markdown",
   "metadata": {},
   "source": [
    "#### CORRELATION"
   ]
  },
  {
   "cell_type": "code",
   "execution_count": null,
   "metadata": {},
   "outputs": [],
   "source": [
    "# Plotting correlation coeficient heat map.\n",
    "pearsoncorr = pc_df.corr(method='pearson')\n",
    "pearsoncorr\n",
    "sns.heatmap(pearsoncorr, \n",
    "            xticklabels=pearsoncorr.columns,\n",
    "            yticklabels=pearsoncorr.columns,\n",
    "            cmap='RdBu_r',\n",
    "            annot=True,\n",
    "            linewidth=0.5);"
   ]
  },
  {
   "cell_type": "markdown",
   "metadata": {},
   "source": [
    "*Correlation matrix is a quick way to explore correlations between variables. From the matrix, we can see that GDP and suicide have a strong negative correlation.* "
   ]
  },
  {
   "cell_type": "code",
   "execution_count": null,
   "metadata": {},
   "outputs": [],
   "source": [
    "# Scatter plot between GDP and suicide\n",
    "pc_df.plot(x='GDP', y='suicide_total_pc', kind='scatter', c='#1f77b4');\n",
    "plt.title('Correlation between suicide and GDP');"
   ]
  },
  {
   "cell_type": "markdown",
   "metadata": {},
   "source": [
    "*Since my analysis is focused on the association between suicide and GDP I decided to plot a scatter plot between GDP and suicide rate. The Scatter plot doesn't clearly show the correlation between those two variables. In the analysis below is further exploration for these two variables.*"
   ]
  },
  {
   "cell_type": "markdown",
   "metadata": {},
   "source": [
    "#### SUICIDE TREND"
   ]
  },
  {
   "cell_type": "code",
   "execution_count": null,
   "metadata": {},
   "outputs": [],
   "source": [
    "# What is the overall trend in suicide globally\n",
    "suicide_trend_all = merged_df.groupby(['year']).sum()['suicide_total']\n",
    "suicide_trend_all.plot(alpha=.4, color='blue', linewidth=2.5);\n",
    "plt.ylabel('Suicide per 100,000 people')\n",
    "plt.xlabel('Year')\n",
    "plt.title('Global Suicide Trend', fontsize=14);"
   ]
  },
  {
   "cell_type": "markdown",
   "metadata": {},
   "source": [
    "*From the line chart, we can see the overall trend for suicide globally. The line represents all suicides (the count), grouped by year.*"
   ]
  },
  {
   "cell_type": "markdown",
   "metadata": {},
   "source": [
    "#### CELL PHONE USE"
   ]
  },
  {
   "cell_type": "code",
   "execution_count": null,
   "metadata": {},
   "outputs": [],
   "source": [
    "# What is the overall trend in cell phone use?\n",
    "cell_trend_all = merged_df.groupby(['year']).sum()['cell_use']\n",
    "cell_trend_all.plot(alpha=.4, color='orange', linewidth=2.5);\n",
    "plt.ylabel('Cell phone use per 100,000 people')\n",
    "plt.xlabel('Year')\n",
    "plt.title('Global Cell phone Use', fontsize=14);"
   ]
  },
  {
   "cell_type": "markdown",
   "metadata": {},
   "source": [
    "In this analysis, I wanted to show if there is any trend or association between cell phone use and suicide. For example: in 1990 the cell phone became more and more popular and it might have an impact on the suicide rate. Next, smartphones became popular around the year 2010, and wanted to see if there is an association.  Unfortunately, this dataset is not suitable for this kind of research and more detailed data is needed. For example suicide data per age, smartphone sales, etc."
   ]
  },
  {
   "cell_type": "markdown",
   "metadata": {},
   "source": [
    "### Top 10 and bottom 10 countries with most/least suicides per capita"
   ]
  },
  {
   "cell_type": "code",
   "execution_count": null,
   "metadata": {},
   "outputs": [],
   "source": [
    "# Top 10 countries from 1990 - 2016, get top 10 countries and save in a list.\n",
    "suicide_top10 = pc_df.groupby(['country']).mean()['suicide_total_pc'].nlargest(10).to_frame().index.tolist()"
   ]
  },
  {
   "cell_type": "code",
   "execution_count": null,
   "metadata": {},
   "outputs": [],
   "source": [
    "# Bottom 10 countries from 1990 - 2016, get bottom 10 countries and save in a list.\n",
    "suicide_bottom10 = pc_df.groupby(['country']).mean()['suicide_total_pc'].nsmallest(11).to_frame().index.tolist()"
   ]
  },
  {
   "cell_type": "code",
   "execution_count": null,
   "metadata": {},
   "outputs": [],
   "source": [
    "# Remove Kuwait (recognized as outlier = GPA >100,000)\n",
    "suicide_bottom10.remove(\"Kuwait\")"
   ]
  },
  {
   "cell_type": "markdown",
   "metadata": {},
   "source": [
    "*Note: I queried the top 11, because during my analysis I found an outlier - Kuwait, that had GDP far above the average (100,000). Therefore, I excluded this country from analysis and replace it with the next country in the bottom 10.*"
   ]
  },
  {
   "cell_type": "code",
   "execution_count": null,
   "metadata": {},
   "outputs": [],
   "source": [
    "# get the data frame for top 10\n",
    "top_10_countries_suicide = pc_df[pc_df['country'].isin(suicide_top10)]\n",
    "top_10_countries_suicide.head(2)"
   ]
  },
  {
   "cell_type": "code",
   "execution_count": null,
   "metadata": {},
   "outputs": [],
   "source": [
    "# get the data frame for top 10\n",
    "bottom_10_countries_suicide = pc_df[pc_df['country'].isin(suicide_bottom10)]\n",
    "bottom_10_countries_suicide.head(2)"
   ]
  },
  {
   "cell_type": "markdown",
   "metadata": {},
   "source": [
    "### Compare top and bottom 10 countries"
   ]
  },
  {
   "cell_type": "markdown",
   "metadata": {},
   "source": [
    "#### Summary statistics & GDP comparison"
   ]
  },
  {
   "cell_type": "code",
   "execution_count": null,
   "metadata": {},
   "outputs": [],
   "source": [
    "# Top 10\n",
    "top_10_countries_suicide.describe()"
   ]
  },
  {
   "cell_type": "code",
   "execution_count": null,
   "metadata": {},
   "outputs": [],
   "source": [
    "# Bottom 10\n",
    "bottom_10_countries_suicide.describe()"
   ]
  },
  {
   "cell_type": "markdown",
   "metadata": {},
   "source": [
    "*From the summary statistics, I can see that GDP values in the top 10 countries are much more spread out than in the bottom 10 countries. The mean for the top 10 countries is 33.93 suicide per 100,000 while the mean for the bottom 10 countries is 2.37 per 100,000 people.*"
   ]
  },
  {
   "cell_type": "code",
   "execution_count": null,
   "metadata": {},
   "outputs": [],
   "source": [
    "#Plot the Box & Whiskers\n",
    "x_labels = [\"Top 10 Countries\", \"Bottom 10 Countries\"]\n",
    "DGP = [top_10_countries_suicide.GDP, bottom_10_countries_suicide.GDP]\n",
    "fig, ax = plt.subplots(figsize=(8, 5))\n",
    "ax.boxplot(DGP, labels=x_labels)\n",
    "\n",
    "#Ticks & Labels\n",
    "plt.xticks(fontsize=12)\n",
    "plt.yticks(fontsize=10)\n",
    "\n",
    "ax.set_yticks(np.arange(0, 70000, step=10000))\n",
    "ax.set_title('GDP comparison between the top and bottom 10 countries in suicides 100,000 people',fontsize=14)\n",
    "ax.set_ylabel('GDP',fontsize=12);\n",
    "#ax.set_xlabel(\"name\",fontsize=14);"
   ]
  },
  {
   "cell_type": "markdown",
   "metadata": {},
   "source": [
    "*Box plots are another great way to graphically explore 5-number summary statistics. From the chart I can see that GDP values for bottom 10 countries are much more spread out than in top 10 countries.*"
   ]
  },
  {
   "cell_type": "code",
   "execution_count": null,
   "metadata": {},
   "outputs": [],
   "source": [
    "# histogram - GDP\n",
    "bottom_10_countries_suicide.GDP.hist(alpha=.4, color='blue', label='bottom_10'), \n",
    "top_10_countries_suicide.GDP.hist(alpha=.4, color='red', label='top_10')\n",
    "# legend\n",
    "plt.legend()\n",
    "# lebel and axis\n",
    "plt.ylabel('GDP frequency')\n",
    "plt.xlabel('GDP')\n",
    "plt.title('GDP comparison between the top and bottom 10 countries in suicides', fontsize=14);"
   ]
  },
  {
   "cell_type": "markdown",
   "metadata": {},
   "source": [
    "*From this histogram I can see that top 10 countries has GDP between 5,000 and 30,000 whereas the top bottom countries has GDP values more spread out ranging from 10,000 to 55,000.*"
   ]
  },
  {
   "cell_type": "markdown",
   "metadata": {},
   "source": [
    "#### Suicide Trend"
   ]
  },
  {
   "cell_type": "code",
   "execution_count": null,
   "metadata": {},
   "outputs": [],
   "source": [
    "# Top 10 - suicide trend\n",
    "trend_top10 = top_10_countries_suicide.groupby(['year']).mean()['suicide_total_pc']\n",
    "trend_top10.plot(alpha=.4, color='red', label='Top 10', linewidth=2.5);\n",
    "# legend\n",
    "plt.legend()\n",
    "# lebel and axis\n",
    "plt.ylabel('Suicide per 100,000 people')\n",
    "plt.xlabel('Year')\n",
    "plt.title('Suicide trend in top 10 countries', fontsize=14);"
   ]
  },
  {
   "cell_type": "markdown",
   "metadata": {},
   "source": [
    "*An interesting observation from a line chart when closely observe the suicide trend per 100,000 people. From the line chart, I can see a steep decline in suicides after the year 2000.*"
   ]
  },
  {
   "cell_type": "code",
   "execution_count": null,
   "metadata": {},
   "outputs": [],
   "source": [
    "# Bottom 10 - suicide trend\n",
    "trend_bottom10 = bottom_10_countries_suicide.groupby(['year']).mean()['suicide_total_pc']\n",
    "trend_bottom10.plot(alpha=.4, color='blue', label='bottom_10', linewidth=2.5);\n",
    "# legend\n",
    "plt.legend()\n",
    "# lebel and axis\n",
    "plt.ylabel('Suicide per 100,000 people')\n",
    "plt.xlabel('Year')\n",
    "plt.title('Suicide trend in bottom 10 countries', fontsize=14);"
   ]
  },
  {
   "cell_type": "markdown",
   "metadata": {},
   "source": [
    "*The line chart for the bottom 10 countries in suicides per 100,000 people shows a different trend. There is an increasing trend in suicides from the year 1996.*"
   ]
  },
  {
   "cell_type": "code",
   "execution_count": null,
   "metadata": {},
   "outputs": [],
   "source": [
    "# Countries with the most suicide per capita.\n",
    "x_axis = top_10_countries_suicide.country\n",
    "y_axis = top_10_countries_suicide.suicide_total_pc\n",
    "plt.xticks(rotation = 45)\n",
    "plt.bar(x_axis, y_axis, label='suicide_total_pc', alpha=.2, color='red')\n",
    "# legend\n",
    "#plt.legend()\n",
    "# lebel and axis\n",
    "plt.ylabel('Suicide per 100,000 people')\n",
    "plt.xlabel('Year')\n",
    "plt.title('Countries with the most suicides per 100,000 people', fontsize=14);"
   ]
  },
  {
   "cell_type": "markdown",
   "metadata": {},
   "source": [
    "*Bar chart grouped by countries displays top 10 countries in suicides. From the summary statistic above I can learn that the mean of suicides per 100,000 for these countries is 33.93 (in comparison with the bottom 10 countries where the mean is 2.37.)*"
   ]
  },
  {
   "cell_type": "code",
   "execution_count": null,
   "metadata": {},
   "outputs": [],
   "source": [
    "# Check the trend for Slovenia.\n",
    "slovenia = top_10_countries_suicide.query('country == \"Slovenia\"')\n",
    "russia = top_10_countries_suicide.query('country == \"Russia\"')\n",
    "hungary = top_10_countries_suicide.query('country == \"Hungary\"')\n",
    "slovenia.groupby(['year']).mean()['suicide_total_pc'].plot(alpha=.7, color='green', linewidth=2.5, label='Slovenia')\n",
    "russia.groupby(['year']).mean()['suicide_total_pc'].plot(alpha=.7, color='orange', linewidth=2.5, label='Russia');\n",
    "hungary.groupby(['year']).mean()['suicide_total_pc'].plot(alpha=.7, color='blue', linewidth=2.5, label='Hungary');\n",
    "# legend\n",
    "plt.legend()\n",
    "# lebel and axis\n",
    "plt.ylabel('Suicide per 100,000 people')\n",
    "plt.xlabel('Year')\n",
    "plt.title('Suicide trend in Slovenia, Russia and Hungary', fontsize=14);"
   ]
  },
  {
   "cell_type": "markdown",
   "metadata": {},
   "source": [
    "*Unfortunately, I found out that my home country Slovenia is one of the top 10 countries in suicides. I wanted to take a closer look at this specific country using the `query` method. From the line chart, I can observe the declining trend from the year 1998 up until the year 2014 with a slight increase. Additionally, I plotted two more countries in this category for comparison.*"
   ]
  },
  {
   "cell_type": "code",
   "execution_count": null,
   "metadata": {},
   "outputs": [],
   "source": [
    "# Countries with the least suicide per capita.\n",
    "x_axis = bottom_10_countries_suicide.country\n",
    "y_axis = bottom_10_countries_suicide.suicide_total_pc\n",
    "plt.xticks(rotation = 90)\n",
    "plt.bar(x_axis, y_axis, label='suicide_total_pc', alpha=.2, color='blue')\n",
    "# legend\n",
    "#plt.legend()\n",
    "# lebel and axis\n",
    "plt.ylabel('Suicide per 100,000 people')\n",
    "plt.xlabel('Year')\n",
    "plt.title('Countries with the least suicides per 100,000 people', fontsize=14);"
   ]
  },
  {
   "cell_type": "markdown",
   "metadata": {},
   "source": [
    "*Bar chart grouped by countries displays bottom 10 countries in suicides. From the summary statistic above I can learn that the mean of suicides per 100,000 for these countries is 2.37 (in comparison with the bottom 10 countries where the mean is 33.93)*"
   ]
  },
  {
   "cell_type": "markdown",
   "metadata": {},
   "source": [
    "### Suicide trend line chart from 2010 - 2016"
   ]
  },
  {
   "cell_type": "code",
   "execution_count": null,
   "metadata": {},
   "outputs": [],
   "source": [
    "# Create df for only 2010 - 2016\n",
    "main_df_reduced = merged_df.loc[merged_df.year > 2009,:]"
   ]
  },
  {
   "cell_type": "code",
   "execution_count": null,
   "metadata": {},
   "outputs": [],
   "source": [
    "# Suicide trend (here I used acctual number of suicides (not per capita))\n",
    "# What is the overall trend in suicide globally\n",
    "suicide_trend_all_reduced = main_df_reduced.groupby(['year']).sum()['suicide_total']\n",
    "suicide_trend_all_reduced.plot(alpha=.4, color='purple', label='bottom_10', linewidth=2.5);\n",
    "# lebel and axis\n",
    "plt.ylabel('Total number of suicides')\n",
    "plt.xlabel('Year')\n",
    "plt.title('Global suicide trend from 2010 - 2016', fontsize=14);"
   ]
  },
  {
   "cell_type": "markdown",
   "metadata": {},
   "source": [
    "*This is a line chart of total suicides from 2010 to 2016. It is a small section from the whole chart above (suicide trend from 1990-2016). Although the overall suicide trend is declining, seen from the chart above, this slice can tell a different story if we are looking at the suicide trend from 2010 and 2016.*"
   ]
  },
  {
   "cell_type": "markdown",
   "metadata": {},
   "source": [
    "### Research Question 2  - Is gini index associated with suicide rate per country?"
   ]
  },
  {
   "cell_type": "code",
   "execution_count": null,
   "metadata": {},
   "outputs": [],
   "source": [
    "# Check the dataset\n",
    "merged_df.head()"
   ]
  },
  {
   "cell_type": "code",
   "execution_count": null,
   "metadata": {},
   "outputs": [],
   "source": [
    "# Save df into new variable and drop null values\n",
    "merged_df_gini = merged_df.dropna()"
   ]
  },
  {
   "cell_type": "code",
   "execution_count": null,
   "metadata": {},
   "outputs": [],
   "source": [
    "# Sumary statistics for gini-index\n",
    "merged_df_gini.gini_index.describe()"
   ]
  },
  {
   "cell_type": "code",
   "execution_count": null,
   "metadata": {},
   "outputs": [],
   "source": [
    "# Create bins for gini index & labels\n",
    "bin_edges = [20.7, 35, 44.6, 65.8] \n",
    "bin_names = ['lower inequality', 'medium inequality', 'higher inequality'] \n",
    "# Create new columns\n",
    "merged_df_gini['gini_index_cat'] = pd.cut(merged_df_gini['gini_index'], bin_edges, labels=bin_names)\n",
    "# Checks df\n",
    "merged_df_gini.head()"
   ]
  },
  {
   "cell_type": "code",
   "execution_count": null,
   "metadata": {},
   "outputs": [],
   "source": [
    "# Plot created gini index bins and suicide rates\n",
    "gini_bins = merged_df_gini.groupby('gini_index_cat').mean().suicide_total_pc\n",
    "gini_bins.plot(kind='bar', alpha=.7, color='orange', linewidth=2.5);\n",
    "plt.ylabel('Average suicide per 100,000 people')\n",
    "plt.xlabel('Gini index categories')\n",
    "plt.title('Gini index - inequality index for and suicide per capita', fontsize=14);"
   ]
  },
  {
   "cell_type": "markdown",
   "metadata": {},
   "source": [
    "*For this bar chart I grouped the Gini index into 3 categories (lower inequality, medium inequality and higher inequality). From those bins, we can see that there might be a correlation between the Gini index and suicide. There are more suicides in the country with a lower inequality index (Gini index) than in countries with a higher inequality index.*\n"
   ]
  },
  {
   "cell_type": "markdown",
   "metadata": {},
   "source": [
    "*In economics, the Gini coefficient, sometimes called the Gini index or Gini ratio, is a measure of statistical dispersion intended to represent the income inequality or wealth inequality within a nation or any other group of people. A Gini coefficient of zero expresses perfect equality, where all values are the same (for example, where everyone has the same income). A Gini coefficient of one (or 100%) expresses maximal inequality among values (e.g., for a large number of people where only one person has all the income or consumption and all others have none, the Gini coefficient will be nearly one) Source: wikipedia*"
   ]
  },
  {
   "cell_type": "markdown",
   "metadata": {},
   "source": [
    "<a id='conclusions'></a>\n",
    "## Conclusions\n",
    "\n",
    "In this analysis, I focused on the global suicide trend from 1990 to 2016 and explore the potential association with GDP, Gini-index and cell phone use.<br/>\n",
    "Regarding cell phone use I cannot draw any meaningful conclusions since the idea is beyond this dataset. I wanted to see if there is any trend or association between cell phone use and suicide. For example: in 1990 the cell phone became more and more popular and it might have an impact on the suicide rate. Next, smartphones became popular around the year 2010 and wanted to see if there is any association.  Unfortunately, this dataset is not suitable for this kind of research and more detailed data is needed. For example suicide data per age, smartphone sales, etc.<br/>\n",
    "\n",
    "From the line chart, I learned about the suicide trends, globally, for the top 10 countries with the most suicide per capita and the bottom 10 countries with the least suicide per capita. From the line chats, I can see an overall decreasing trend with a slight increase in 2014. This trend is similar for the top 10 countries. The bottom 10 countries' suicide rate has a positive trend, which is the opposite of the top 10 countries. The mean for the top 10 countries is 33.93 suicide per 100,000 while the mean for the bottom 10 countries is 2.37 per 100,000 people.*\n",
    "\n",
    "From the summary statistics, we can see that GDP values in the top 10 countries are much more spread out than in the bottom 10 countries. The histogram showed that the top 10 countries have GDP between 5,000 and 30,000 whereas the top and bottom countries have GDP values more spread out ranging from 10,000 to 55,000.\n",
    "\n",
    "Grouping the Gini index into three categories showed that countries with a lower inequality rate have more suicide than countries with a higher inequality rate.\n",
    "\n",
    "***Limitations***\n",
    "This dataset has few limitations. Gini-index null values were filled with the mean of the Gini index for a specific country throughout the years. The original dataset had a lot of missing values and filling null values this way could cause the results to be too general. Another improvement could be done to add more variables to the dataset. For example suicide per age group, gender and smartphone sales in the 2000s. \n",
    "\n"
   ]
  },
  {
   "cell_type": "code",
   "execution_count": null,
   "metadata": {},
   "outputs": [],
   "source": []
  }
 ],
 "metadata": {
  "kernelspec": {
   "display_name": "Python 3",
   "language": "python",
   "name": "python3"
  },
  "language_info": {
   "codemirror_mode": {
    "name": "ipython",
    "version": 3
   },
   "file_extension": ".py",
   "mimetype": "text/x-python",
   "name": "python",
   "nbconvert_exporter": "python",
   "pygments_lexer": "ipython3",
   "version": "3.7.9"
  }
 },
 "nbformat": 4,
 "nbformat_minor": 2
}
